{
  "nbformat": 4,
  "nbformat_minor": 0,
  "metadata": {
    "colab": {
      "provenance": [],
      "collapsed_sections": [
        "iGWaFVzX9Pfi",
        "WPAPGc20knCO",
        "VBetNbtEnF4k",
        "UlmbLBRLobie",
        "nVcloAFfDj7b",
        "mBGbrCagLeO4",
        "gMdvXN7S0f6k",
        "5BSQ089s92sv",
        "-ydUk4X4F99N"
      ],
      "authorship_tag": "ABX9TyOO9k3hT+2taZjkMY2BsvoQ"
    },
    "kernelspec": {
      "name": "python3",
      "display_name": "Python 3"
    },
    "language_info": {
      "name": "python"
    }
  },
  "cells": [
    {
      "cell_type": "markdown",
      "source": [
        "# Checklist\n",
        "##### 1) Part 0 (Critical thinking)- Complete\n",
        "##### 2) Part 1 (Descriptive Analysis)- Complete\n",
        "##### 3) Part 2 (Prescriptive Analysis)- In progress\n",
        "##### 4) Part 3 (Prediction)- Incomplete\n",
        "##### 5) Part 4 (A/B Testing)- Incomplete"
      ],
      "metadata": {
        "id": "A_49J07IVI0S"
      }
    },
    {
      "cell_type": "markdown",
      "source": [
        "# Part 0- Critical thinking\n"
      ],
      "metadata": {
        "id": "iGWaFVzX9Pfi"
      }
    },
    {
      "cell_type": "markdown",
      "source": [
        "### Problem Statement:\n",
        "##### How many people would buy the premium face mask which is scientifically proven to be better than N95 of around 1000.rs in India? Explain how did you conclude this answer and what was your approach towards this question in brief\n",
        "\n",
        "---\n",
        "\n",
        "Total population of India is 1.3 billion with total of 28 states and 8 Union territories. Considering that only few states and UT have to compulsary wear masks, the number of people wearing masks outside their home is quite less. The average cost of a normal mask is 10.rs which is significantly less than the cost of premium mask. Hence most of the population in rural area will prefer to/ afford to buy normal mask instead of premium. Rural population and Urban population has a split of approx 70:30 ratio i.e 900 million rural population and 500 million urban population.  \n",
        "Therefore, the main number of focus here is 500 million i.e 17 million average population per state/UT. If 8 states/UT have mask compulsion then we have potential customer population of 17*8= 136 million. Out of remaining 365 million people, 60% are not interested in wearing a mask due to reason like work from home, no illness/symptoms of flu or covid, feel uncomfortable and difficult to breathe in a mask, travelling in a private car, etc. Therefore, only 140 million potential customers remain make a total of 140+136= approx 280 million of potential customers.  \n",
        "\n",
        "Now average earning per month in Urban areas is around 25000.rs and approx 40% people fall below this category, leaving us with 170 million people. Again considering that 30% people are high earners and prefer to buy premium mask and only half of 70% moderate earners wish to buy premium mask we have total number of people that would buy a premium mask to be:  \n",
        "(170x30%)+((170x70%)/2) = 51+60 = 111 million people."
      ],
      "metadata": {
        "id": "1didDMtEamIa"
      }
    },
    {
      "cell_type": "markdown",
      "source": [
        "# Part 1- Descriptive Analysis"
      ],
      "metadata": {
        "id": "WPAPGc20knCO"
      }
    },
    {
      "cell_type": "markdown",
      "source": [
        "## 1.1 Import Data And Required Packages"
      ],
      "metadata": {
        "id": "VBetNbtEnF4k"
      }
    },
    {
      "cell_type": "markdown",
      "source": [
        "#### Import pandas, numpy, matplotlib, seaborn"
      ],
      "metadata": {
        "id": "SK7sK7rTnugn"
      }
    },
    {
      "cell_type": "code",
      "execution_count": 35,
      "metadata": {
        "id": "KgEcNFweVHmO"
      },
      "outputs": [],
      "source": [
        "import pandas as pd\n",
        "import numpy as np\n",
        "import matplotlib.pyplot as plt\n",
        "from matplotlib.patches import ConnectionPatch\n",
        "%matplotlib inline\n",
        "import seaborn as sns"
      ]
    },
    {
      "cell_type": "markdown",
      "source": [
        "#### Read given excel data that is uploaded in sample data folder.\n",
        "\n",
        "(NOTE: please add the data in the sample data folder for your runtime or change path to navigate to your data)"
      ],
      "metadata": {
        "id": "D225aeoUn1nM"
      }
    },
    {
      "cell_type": "code",
      "source": [
        "df = pd.read_excel('/content/sample_data/assignment.xlsx')"
      ],
      "metadata": {
        "id": "4nfC2LMFl4i9"
      },
      "execution_count": 36,
      "outputs": []
    },
    {
      "cell_type": "markdown",
      "source": [
        "#### Show top 5 records of data"
      ],
      "metadata": {
        "id": "n_j2Blh1oJEQ"
      }
    },
    {
      "cell_type": "code",
      "source": [
        "df.head()"
      ],
      "metadata": {
        "colab": {
          "base_uri": "https://localhost:8080/",
          "height": 0
        },
        "id": "ThvmkDPKl-FE",
        "outputId": "6c34980d-d57e-496a-f4ca-d716f373cfdb"
      },
      "execution_count": 37,
      "outputs": [
        {
          "output_type": "execute_result",
          "data": {
            "text/plain": [
              "   Year  Month  Segment Region           KPI Value Type    Value\n",
              "0  2020     12  Clients  India  Lv1_Visitors    Actuals  3665558\n",
              "1  2020     12  Clients  India  Lv2_Visitors    Actuals  2689569\n",
              "2  2020     12  Clients  India  Lv3_Visitors    Actuals  1300571\n",
              "3  2020     12  Clients  India  Lv4_Visitors    Actuals   717608\n",
              "4  2020     12  Clients  India  Lv3_Visitors    Actuals   706677"
            ],
            "text/html": [
              "\n",
              "  <div id=\"df-13c426dc-a9bc-4ed0-a1bf-e3cd22d551de\">\n",
              "    <div class=\"colab-df-container\">\n",
              "      <div>\n",
              "<style scoped>\n",
              "    .dataframe tbody tr th:only-of-type {\n",
              "        vertical-align: middle;\n",
              "    }\n",
              "\n",
              "    .dataframe tbody tr th {\n",
              "        vertical-align: top;\n",
              "    }\n",
              "\n",
              "    .dataframe thead th {\n",
              "        text-align: right;\n",
              "    }\n",
              "</style>\n",
              "<table border=\"1\" class=\"dataframe\">\n",
              "  <thead>\n",
              "    <tr style=\"text-align: right;\">\n",
              "      <th></th>\n",
              "      <th>Year</th>\n",
              "      <th>Month</th>\n",
              "      <th>Segment</th>\n",
              "      <th>Region</th>\n",
              "      <th>KPI</th>\n",
              "      <th>Value Type</th>\n",
              "      <th>Value</th>\n",
              "    </tr>\n",
              "  </thead>\n",
              "  <tbody>\n",
              "    <tr>\n",
              "      <th>0</th>\n",
              "      <td>2020</td>\n",
              "      <td>12</td>\n",
              "      <td>Clients</td>\n",
              "      <td>India</td>\n",
              "      <td>Lv1_Visitors</td>\n",
              "      <td>Actuals</td>\n",
              "      <td>3665558</td>\n",
              "    </tr>\n",
              "    <tr>\n",
              "      <th>1</th>\n",
              "      <td>2020</td>\n",
              "      <td>12</td>\n",
              "      <td>Clients</td>\n",
              "      <td>India</td>\n",
              "      <td>Lv2_Visitors</td>\n",
              "      <td>Actuals</td>\n",
              "      <td>2689569</td>\n",
              "    </tr>\n",
              "    <tr>\n",
              "      <th>2</th>\n",
              "      <td>2020</td>\n",
              "      <td>12</td>\n",
              "      <td>Clients</td>\n",
              "      <td>India</td>\n",
              "      <td>Lv3_Visitors</td>\n",
              "      <td>Actuals</td>\n",
              "      <td>1300571</td>\n",
              "    </tr>\n",
              "    <tr>\n",
              "      <th>3</th>\n",
              "      <td>2020</td>\n",
              "      <td>12</td>\n",
              "      <td>Clients</td>\n",
              "      <td>India</td>\n",
              "      <td>Lv4_Visitors</td>\n",
              "      <td>Actuals</td>\n",
              "      <td>717608</td>\n",
              "    </tr>\n",
              "    <tr>\n",
              "      <th>4</th>\n",
              "      <td>2020</td>\n",
              "      <td>12</td>\n",
              "      <td>Clients</td>\n",
              "      <td>India</td>\n",
              "      <td>Lv3_Visitors</td>\n",
              "      <td>Actuals</td>\n",
              "      <td>706677</td>\n",
              "    </tr>\n",
              "  </tbody>\n",
              "</table>\n",
              "</div>\n",
              "      <button class=\"colab-df-convert\" onclick=\"convertToInteractive('df-13c426dc-a9bc-4ed0-a1bf-e3cd22d551de')\"\n",
              "              title=\"Convert this dataframe to an interactive table.\"\n",
              "              style=\"display:none;\">\n",
              "        \n",
              "  <svg xmlns=\"http://www.w3.org/2000/svg\" height=\"24px\"viewBox=\"0 0 24 24\"\n",
              "       width=\"24px\">\n",
              "    <path d=\"M0 0h24v24H0V0z\" fill=\"none\"/>\n",
              "    <path d=\"M18.56 5.44l.94 2.06.94-2.06 2.06-.94-2.06-.94-.94-2.06-.94 2.06-2.06.94zm-11 1L8.5 8.5l.94-2.06 2.06-.94-2.06-.94L8.5 2.5l-.94 2.06-2.06.94zm10 10l.94 2.06.94-2.06 2.06-.94-2.06-.94-.94-2.06-.94 2.06-2.06.94z\"/><path d=\"M17.41 7.96l-1.37-1.37c-.4-.4-.92-.59-1.43-.59-.52 0-1.04.2-1.43.59L10.3 9.45l-7.72 7.72c-.78.78-.78 2.05 0 2.83L4 21.41c.39.39.9.59 1.41.59.51 0 1.02-.2 1.41-.59l7.78-7.78 2.81-2.81c.8-.78.8-2.07 0-2.86zM5.41 20L4 18.59l7.72-7.72 1.47 1.35L5.41 20z\"/>\n",
              "  </svg>\n",
              "      </button>\n",
              "      \n",
              "  <style>\n",
              "    .colab-df-container {\n",
              "      display:flex;\n",
              "      flex-wrap:wrap;\n",
              "      gap: 12px;\n",
              "    }\n",
              "\n",
              "    .colab-df-convert {\n",
              "      background-color: #E8F0FE;\n",
              "      border: none;\n",
              "      border-radius: 50%;\n",
              "      cursor: pointer;\n",
              "      display: none;\n",
              "      fill: #1967D2;\n",
              "      height: 32px;\n",
              "      padding: 0 0 0 0;\n",
              "      width: 32px;\n",
              "    }\n",
              "\n",
              "    .colab-df-convert:hover {\n",
              "      background-color: #E2EBFA;\n",
              "      box-shadow: 0px 1px 2px rgba(60, 64, 67, 0.3), 0px 1px 3px 1px rgba(60, 64, 67, 0.15);\n",
              "      fill: #174EA6;\n",
              "    }\n",
              "\n",
              "    [theme=dark] .colab-df-convert {\n",
              "      background-color: #3B4455;\n",
              "      fill: #D2E3FC;\n",
              "    }\n",
              "\n",
              "    [theme=dark] .colab-df-convert:hover {\n",
              "      background-color: #434B5C;\n",
              "      box-shadow: 0px 1px 3px 1px rgba(0, 0, 0, 0.15);\n",
              "      filter: drop-shadow(0px 1px 2px rgba(0, 0, 0, 0.3));\n",
              "      fill: #FFFFFF;\n",
              "    }\n",
              "  </style>\n",
              "\n",
              "      <script>\n",
              "        const buttonEl =\n",
              "          document.querySelector('#df-13c426dc-a9bc-4ed0-a1bf-e3cd22d551de button.colab-df-convert');\n",
              "        buttonEl.style.display =\n",
              "          google.colab.kernel.accessAllowed ? 'block' : 'none';\n",
              "\n",
              "        async function convertToInteractive(key) {\n",
              "          const element = document.querySelector('#df-13c426dc-a9bc-4ed0-a1bf-e3cd22d551de');\n",
              "          const dataTable =\n",
              "            await google.colab.kernel.invokeFunction('convertToInteractive',\n",
              "                                                     [key], {});\n",
              "          if (!dataTable) return;\n",
              "\n",
              "          const docLinkHtml = 'Like what you see? Visit the ' +\n",
              "            '<a target=\"_blank\" href=https://colab.research.google.com/notebooks/data_table.ipynb>data table notebook</a>'\n",
              "            + ' to learn more about interactive tables.';\n",
              "          element.innerHTML = '';\n",
              "          dataTable['output_type'] = 'display_data';\n",
              "          await google.colab.output.renderOutput(dataTable, element);\n",
              "          const docLink = document.createElement('div');\n",
              "          docLink.innerHTML = docLinkHtml;\n",
              "          element.appendChild(docLink);\n",
              "        }\n",
              "      </script>\n",
              "    </div>\n",
              "  </div>\n",
              "  "
            ]
          },
          "metadata": {},
          "execution_count": 37
        }
      ]
    },
    {
      "cell_type": "markdown",
      "source": [
        "#### Shape of dataset"
      ],
      "metadata": {
        "id": "M5Wm9uBwoXNc"
      }
    },
    {
      "cell_type": "code",
      "source": [
        "df.shape"
      ],
      "metadata": {
        "colab": {
          "base_uri": "https://localhost:8080/"
        },
        "id": "8wDq_oX6mheF",
        "outputId": "20b8f2ec-e0c8-4fe1-88b8-1d94ff2132d6"
      },
      "execution_count": 38,
      "outputs": [
        {
          "output_type": "execute_result",
          "data": {
            "text/plain": [
              "(1572, 7)"
            ]
          },
          "metadata": {},
          "execution_count": 38
        }
      ]
    },
    {
      "cell_type": "markdown",
      "source": [
        "## 1.2 Dataset Information\n",
        "\n",
        "*   Year : Year -> (2020/2021/2022)\n",
        "*   Month : Month of the year -> (value between 1-12 inclusive of both ends)\n",
        "*   Segment : End user category -> (Clients/Customers)\n",
        "*   Region : which Region the record belongs to-> ('India', 'Uddepy', 'Dehradun', 'Ujjain', 'Indore', 'Faridabad','Aurangabad')\n",
        "*   KPI : Performance indicator/feature -> ('Lv1_Visitors', 'Lv2_Visitors', 'Lv3_Visitors', 'Lv4_Visitors', 'Lv5_Visitors')\n",
        "*   Value Type\n",
        "*   Value\n",
        "\n",
        "\n"
      ],
      "metadata": {
        "id": "UlmbLBRLobie"
      }
    },
    {
      "cell_type": "markdown",
      "source": [
        "### 1.2.1 What type of company this dataset belongs to?\n",
        "\n",
        "Looking at the \"Segment\", \"KPI\" and \"Region\" columns, it is evident that the dataset belong to an e-commerce company that operates in India. The keyword \"visitors\" in KPI shows that it is an engagement with a website. Additionally, the dataset has a time frame between year 2020 and 2022. As per data, \"Clients\" numeric value is more than \"Customers\" so it could also be a wholesale seller like **\"Indiamart\"** or similar."
      ],
      "metadata": {
        "id": "qYfyuPQx7KU2"
      }
    },
    {
      "cell_type": "markdown",
      "source": [
        "### 1.2.2 Suppose that this dataset is for a website like Flipkart, what could be the possible definitions of the columns Level(visitors) 1, 2, 3, 4 and 5 in the given dataset? Do you observe any pattern?\n",
        "\n",
        "On expanding the KPI to individual features, we obtain columns L1_visitor, L2_visitor, L3_visitor, L4_visitor, L5_visitor. Furthermore, a pattern can be observed such that sum of value decreases as we move one level up i.e L1_visitor has the highest sum of value whereas L5_visitor has the lowest sum of value. As per the pattern, it can be assumed that the possible definations of these indicators could be the **\" *category of the visitor* \"** as per their engagement behaviour and the value indicate the **\" *total number of visitors per month* \"** by that visitor category. \n",
        "\n",
        "The categories could be:  \n",
        "\n",
        "1.   **The Browser**: Browsing and looking for products they dont actually want and least likely to buy.\n",
        "2.   **The Price Hunter**: Looking for the products they actually want and checking for best deal accross various websites.\n",
        "3.   **The repeat visitor**: Aware of your website and products and somewhat likely to buy in near future.\n",
        "4.   **The Buyer**: The actual people that businesses are looking for. They are most likely to buy some product from your website.\n",
        "5.   **The repeat buyer**: They trust your website and brand and keep buying stuff frequently.\n",
        "\n"
      ],
      "metadata": {
        "id": "yKLQRa4NQoE8"
      }
    },
    {
      "cell_type": "markdown",
      "source": [
        "## 1.3) Data Checks to perform\n",
        "\n",
        "* Check Missing values\n",
        "* Check Duplicates\n",
        "* Check data type\n",
        "* Check the number of unique values of each column\n",
        "* Check statistics of data set\n",
        "* Check various categories present in the different categorical column"
      ],
      "metadata": {
        "id": "nVcloAFfDj7b"
      }
    },
    {
      "cell_type": "markdown",
      "source": [
        "### 1.3.1 Check Missing values"
      ],
      "metadata": {
        "id": "mBGbrCagLeO4"
      }
    },
    {
      "cell_type": "code",
      "source": [
        "df.isna().sum()"
      ],
      "metadata": {
        "colab": {
          "base_uri": "https://localhost:8080/"
        },
        "id": "01Q3z0uNLlAl",
        "outputId": "16885b81-06d6-4da8-f38d-559285af0871"
      },
      "execution_count": 39,
      "outputs": [
        {
          "output_type": "execute_result",
          "data": {
            "text/plain": [
              "Year          0\n",
              "Month         0\n",
              "Segment       0\n",
              "Region        0\n",
              "KPI           0\n",
              "Value Type    0\n",
              "Value         0\n",
              "dtype: int64"
            ]
          },
          "metadata": {},
          "execution_count": 39
        }
      ]
    },
    {
      "cell_type": "markdown",
      "source": [
        "There are no missing values in the data set"
      ],
      "metadata": {
        "id": "LW06yXR8L5M7"
      }
    },
    {
      "cell_type": "markdown",
      "source": [
        "### 1.3.2 Check Duplicates\n",
        "\n"
      ],
      "metadata": {
        "id": "ZePFcD-bF-Gr"
      }
    },
    {
      "cell_type": "code",
      "source": [
        "df.duplicated().sum()"
      ],
      "metadata": {
        "colab": {
          "base_uri": "https://localhost:8080/"
        },
        "id": "rlauoBpVoaov",
        "outputId": "56a52566-70bf-48e7-d4f7-9c9d2784046d"
      },
      "execution_count": 40,
      "outputs": [
        {
          "output_type": "execute_result",
          "data": {
            "text/plain": [
              "0"
            ]
          },
          "metadata": {},
          "execution_count": 40
        }
      ]
    },
    {
      "cell_type": "markdown",
      "source": [
        "There are no duplicate values in the data set"
      ],
      "metadata": {
        "id": "AhT-uLhCMR0w"
      }
    },
    {
      "cell_type": "markdown",
      "source": [
        "### 1.3.3 Check Data Types\n",
        "\n"
      ],
      "metadata": {
        "id": "ueEXv-ykMZHa"
      }
    },
    {
      "cell_type": "code",
      "source": [
        "df.info()"
      ],
      "metadata": {
        "colab": {
          "base_uri": "https://localhost:8080/"
        },
        "id": "xtA2RfcYKuEr",
        "outputId": "fdbf5c6a-fb68-44f5-f3fe-3c7a003ca14c"
      },
      "execution_count": 41,
      "outputs": [
        {
          "output_type": "stream",
          "name": "stdout",
          "text": [
            "<class 'pandas.core.frame.DataFrame'>\n",
            "RangeIndex: 1572 entries, 0 to 1571\n",
            "Data columns (total 7 columns):\n",
            " #   Column      Non-Null Count  Dtype \n",
            "---  ------      --------------  ----- \n",
            " 0   Year        1572 non-null   int64 \n",
            " 1   Month       1572 non-null   int64 \n",
            " 2   Segment     1572 non-null   object\n",
            " 3   Region      1572 non-null   object\n",
            " 4   KPI         1572 non-null   object\n",
            " 5   Value Type  1572 non-null   object\n",
            " 6   Value       1572 non-null   int64 \n",
            "dtypes: int64(3), object(4)\n",
            "memory usage: 86.1+ KB\n"
          ]
        }
      ]
    },
    {
      "cell_type": "markdown",
      "source": [
        "### 1.3.4 Check number of unique values in each column\n",
        "\n"
      ],
      "metadata": {
        "id": "ZkS9kNvcMl-a"
      }
    },
    {
      "cell_type": "code",
      "source": [
        "df.nunique()"
      ],
      "metadata": {
        "colab": {
          "base_uri": "https://localhost:8080/"
        },
        "id": "nRr_KuthMwAw",
        "outputId": "e0bcefaa-4c62-45b9-bcaa-1edbdbc72633"
      },
      "execution_count": 42,
      "outputs": [
        {
          "output_type": "execute_result",
          "data": {
            "text/plain": [
              "Year             3\n",
              "Month           12\n",
              "Segment          2\n",
              "Region           7\n",
              "KPI              5\n",
              "Value Type       1\n",
              "Value         1558\n",
              "dtype: int64"
            ]
          },
          "metadata": {},
          "execution_count": 42
        }
      ]
    },
    {
      "cell_type": "markdown",
      "source": [
        "### 1.3.5 Check Statistics of Dataset\n",
        "\n"
      ],
      "metadata": {
        "id": "DdaAA4s8M9H5"
      }
    },
    {
      "cell_type": "code",
      "source": [
        "## Scaling the value column for understanding purposes and clear display \n",
        "# Dividing value column by 100000\n",
        "\n",
        "SCALING_FACTOR = 100000\n",
        "\n",
        "df[\"Value\"] = df[\"Value\"].apply(lambda x: x/SCALING_FACTOR)\n",
        "df.describe()"
      ],
      "metadata": {
        "colab": {
          "base_uri": "https://localhost:8080/",
          "height": 0
        },
        "id": "YMUAiN3_NDjQ",
        "outputId": "8e4a9d09-dcff-4f5b-a535-22c078b0759e"
      },
      "execution_count": 43,
      "outputs": [
        {
          "output_type": "execute_result",
          "data": {
            "text/plain": [
              "              Year        Month        Value\n",
              "count  1572.000000  1572.000000  1572.000000\n",
              "mean   2021.129771     6.500000     2.964329\n",
              "std       0.832781     3.453151    11.303644\n",
              "min    2020.000000     1.000000     0.001370\n",
              "25%    2020.000000     3.750000     0.092477\n",
              "50%    2021.000000     6.500000     0.325745\n",
              "75%    2022.000000     9.250000     1.796810\n",
              "max    2022.000000    12.000000   369.868990"
            ],
            "text/html": [
              "\n",
              "  <div id=\"df-a3cf8e60-b73a-464f-839e-b066b5b5dd7c\">\n",
              "    <div class=\"colab-df-container\">\n",
              "      <div>\n",
              "<style scoped>\n",
              "    .dataframe tbody tr th:only-of-type {\n",
              "        vertical-align: middle;\n",
              "    }\n",
              "\n",
              "    .dataframe tbody tr th {\n",
              "        vertical-align: top;\n",
              "    }\n",
              "\n",
              "    .dataframe thead th {\n",
              "        text-align: right;\n",
              "    }\n",
              "</style>\n",
              "<table border=\"1\" class=\"dataframe\">\n",
              "  <thead>\n",
              "    <tr style=\"text-align: right;\">\n",
              "      <th></th>\n",
              "      <th>Year</th>\n",
              "      <th>Month</th>\n",
              "      <th>Value</th>\n",
              "    </tr>\n",
              "  </thead>\n",
              "  <tbody>\n",
              "    <tr>\n",
              "      <th>count</th>\n",
              "      <td>1572.000000</td>\n",
              "      <td>1572.000000</td>\n",
              "      <td>1572.000000</td>\n",
              "    </tr>\n",
              "    <tr>\n",
              "      <th>mean</th>\n",
              "      <td>2021.129771</td>\n",
              "      <td>6.500000</td>\n",
              "      <td>2.964329</td>\n",
              "    </tr>\n",
              "    <tr>\n",
              "      <th>std</th>\n",
              "      <td>0.832781</td>\n",
              "      <td>3.453151</td>\n",
              "      <td>11.303644</td>\n",
              "    </tr>\n",
              "    <tr>\n",
              "      <th>min</th>\n",
              "      <td>2020.000000</td>\n",
              "      <td>1.000000</td>\n",
              "      <td>0.001370</td>\n",
              "    </tr>\n",
              "    <tr>\n",
              "      <th>25%</th>\n",
              "      <td>2020.000000</td>\n",
              "      <td>3.750000</td>\n",
              "      <td>0.092477</td>\n",
              "    </tr>\n",
              "    <tr>\n",
              "      <th>50%</th>\n",
              "      <td>2021.000000</td>\n",
              "      <td>6.500000</td>\n",
              "      <td>0.325745</td>\n",
              "    </tr>\n",
              "    <tr>\n",
              "      <th>75%</th>\n",
              "      <td>2022.000000</td>\n",
              "      <td>9.250000</td>\n",
              "      <td>1.796810</td>\n",
              "    </tr>\n",
              "    <tr>\n",
              "      <th>max</th>\n",
              "      <td>2022.000000</td>\n",
              "      <td>12.000000</td>\n",
              "      <td>369.868990</td>\n",
              "    </tr>\n",
              "  </tbody>\n",
              "</table>\n",
              "</div>\n",
              "      <button class=\"colab-df-convert\" onclick=\"convertToInteractive('df-a3cf8e60-b73a-464f-839e-b066b5b5dd7c')\"\n",
              "              title=\"Convert this dataframe to an interactive table.\"\n",
              "              style=\"display:none;\">\n",
              "        \n",
              "  <svg xmlns=\"http://www.w3.org/2000/svg\" height=\"24px\"viewBox=\"0 0 24 24\"\n",
              "       width=\"24px\">\n",
              "    <path d=\"M0 0h24v24H0V0z\" fill=\"none\"/>\n",
              "    <path d=\"M18.56 5.44l.94 2.06.94-2.06 2.06-.94-2.06-.94-.94-2.06-.94 2.06-2.06.94zm-11 1L8.5 8.5l.94-2.06 2.06-.94-2.06-.94L8.5 2.5l-.94 2.06-2.06.94zm10 10l.94 2.06.94-2.06 2.06-.94-2.06-.94-.94-2.06-.94 2.06-2.06.94z\"/><path d=\"M17.41 7.96l-1.37-1.37c-.4-.4-.92-.59-1.43-.59-.52 0-1.04.2-1.43.59L10.3 9.45l-7.72 7.72c-.78.78-.78 2.05 0 2.83L4 21.41c.39.39.9.59 1.41.59.51 0 1.02-.2 1.41-.59l7.78-7.78 2.81-2.81c.8-.78.8-2.07 0-2.86zM5.41 20L4 18.59l7.72-7.72 1.47 1.35L5.41 20z\"/>\n",
              "  </svg>\n",
              "      </button>\n",
              "      \n",
              "  <style>\n",
              "    .colab-df-container {\n",
              "      display:flex;\n",
              "      flex-wrap:wrap;\n",
              "      gap: 12px;\n",
              "    }\n",
              "\n",
              "    .colab-df-convert {\n",
              "      background-color: #E8F0FE;\n",
              "      border: none;\n",
              "      border-radius: 50%;\n",
              "      cursor: pointer;\n",
              "      display: none;\n",
              "      fill: #1967D2;\n",
              "      height: 32px;\n",
              "      padding: 0 0 0 0;\n",
              "      width: 32px;\n",
              "    }\n",
              "\n",
              "    .colab-df-convert:hover {\n",
              "      background-color: #E2EBFA;\n",
              "      box-shadow: 0px 1px 2px rgba(60, 64, 67, 0.3), 0px 1px 3px 1px rgba(60, 64, 67, 0.15);\n",
              "      fill: #174EA6;\n",
              "    }\n",
              "\n",
              "    [theme=dark] .colab-df-convert {\n",
              "      background-color: #3B4455;\n",
              "      fill: #D2E3FC;\n",
              "    }\n",
              "\n",
              "    [theme=dark] .colab-df-convert:hover {\n",
              "      background-color: #434B5C;\n",
              "      box-shadow: 0px 1px 3px 1px rgba(0, 0, 0, 0.15);\n",
              "      filter: drop-shadow(0px 1px 2px rgba(0, 0, 0, 0.3));\n",
              "      fill: #FFFFFF;\n",
              "    }\n",
              "  </style>\n",
              "\n",
              "      <script>\n",
              "        const buttonEl =\n",
              "          document.querySelector('#df-a3cf8e60-b73a-464f-839e-b066b5b5dd7c button.colab-df-convert');\n",
              "        buttonEl.style.display =\n",
              "          google.colab.kernel.accessAllowed ? 'block' : 'none';\n",
              "\n",
              "        async function convertToInteractive(key) {\n",
              "          const element = document.querySelector('#df-a3cf8e60-b73a-464f-839e-b066b5b5dd7c');\n",
              "          const dataTable =\n",
              "            await google.colab.kernel.invokeFunction('convertToInteractive',\n",
              "                                                     [key], {});\n",
              "          if (!dataTable) return;\n",
              "\n",
              "          const docLinkHtml = 'Like what you see? Visit the ' +\n",
              "            '<a target=\"_blank\" href=https://colab.research.google.com/notebooks/data_table.ipynb>data table notebook</a>'\n",
              "            + ' to learn more about interactive tables.';\n",
              "          element.innerHTML = '';\n",
              "          dataTable['output_type'] = 'display_data';\n",
              "          await google.colab.output.renderOutput(dataTable, element);\n",
              "          const docLink = document.createElement('div');\n",
              "          docLink.innerHTML = docLinkHtml;\n",
              "          element.appendChild(docLink);\n",
              "        }\n",
              "      </script>\n",
              "    </div>\n",
              "  </div>\n",
              "  "
            ]
          },
          "metadata": {},
          "execution_count": 43
        }
      ]
    },
    {
      "cell_type": "markdown",
      "source": [
        "Insights:\n",
        "\n",
        "* From above description of numerical data, the data has a time frame between 2020 and 2022 for all the 12 months.\n",
        "* The std deviation of the values column is very high with minimum value of 0.0013 to maximum value of 369.869."
      ],
      "metadata": {
        "id": "naLmDkb2Nu-7"
      }
    },
    {
      "cell_type": "markdown",
      "source": [
        "## 1.4) Pivot view summary and visualizations"
      ],
      "metadata": {
        "id": "gMdvXN7S0f6k"
      }
    },
    {
      "cell_type": "markdown",
      "source": [
        "### 1.4.1 What was the total number of visitors segmented by each level, every month in each year?"
      ],
      "metadata": {
        "id": "EIK6T4fU0xn3"
      }
    },
    {
      "cell_type": "markdown",
      "source": [
        "Segregate data for each year into different dataframes"
      ],
      "metadata": {
        "id": "Bujx2YI81Zc2"
      }
    },
    {
      "cell_type": "code",
      "source": [
        "df_2020 = df[df[\"Year\"]==2020] # 2020 dataframe\n",
        "df_2021 = df[df[\"Year\"]==2021] # 2021 dataframe\n",
        "df_2022 = df[df[\"Year\"]==2022] # 2022 dataframe"
      ],
      "metadata": {
        "id": "VmIkDW_6OXGY"
      },
      "execution_count": 44,
      "outputs": []
    },
    {
      "cell_type": "markdown",
      "source": [
        "Create pivot table for each year into different dataframes segregratting into individual KPI"
      ],
      "metadata": {
        "id": "wmwsZRqT4GXO"
      }
    },
    {
      "cell_type": "code",
      "source": [
        "pivot_2020 = df_2020.pivot_table(values=[\"Value\"], index=[\"Month\"], columns=[\"KPI\"], aggfunc=np.sum)[\"Value\"]\n",
        "pivot_2021 = df_2021.pivot_table(values=[\"Value\"], index=[\"Month\"], columns=[\"KPI\"], aggfunc=np.sum)[\"Value\"]\n",
        "pivot_2022 = df_2022.pivot_table(values=[\"Value\"], index=[\"Month\"], columns=[\"KPI\"], aggfunc=np.sum)[\"Value\"]\n",
        "\n",
        "# Removing the column and index name for styling and avoiding confusion (optional)\n",
        "# pivot_2020.columns.name, pivot_2020.index.name = None, None\n",
        "# pivot_2021.columns.name, pivot_2021.index.name = None, None\n",
        "# pivot_2022.columns.name, pivot_2022.index.name = None, None\n",
        "\n",
        "# Adding month-wise total column to dataframes\n",
        "pivot_2020[\"Month-wise Total\"] = pivot_2020[\"Lv1_Visitors\"]+pivot_2020[\"Lv2_Visitors\"]+pivot_2020[\"Lv3_Visitors\"]+pivot_2020[\"Lv4_Visitors\"]+pivot_2020[\"Lv5_Visitors\"]\n",
        "pivot_2021[\"Month-wise Total\"] = pivot_2021[\"Lv1_Visitors\"]+pivot_2021[\"Lv2_Visitors\"]+pivot_2021[\"Lv3_Visitors\"]+pivot_2021[\"Lv4_Visitors\"]+pivot_2021[\"Lv5_Visitors\"]\n",
        "pivot_2022[\"Month-wise Total\"] = pivot_2022[\"Lv1_Visitors\"]+pivot_2022[\"Lv2_Visitors\"]+pivot_2022[\"Lv3_Visitors\"]+pivot_2022[\"Lv4_Visitors\"]+pivot_2022[\"Lv5_Visitors\"]\n",
        "\n",
        "# Adding level-wise total row to dataframes\n",
        "pivot_2020.loc[\"Level-wise Total\"] = [np.sum(pivot_2020[\"Lv1_Visitors\"]), np.sum(pivot_2020[\"Lv2_Visitors\"]), np.sum(pivot_2020[\"Lv3_Visitors\"]), np.sum(pivot_2020[\"Lv4_Visitors\"]), np.sum(pivot_2020[\"Lv5_Visitors\"]), np.sum(pivot_2020[\"Month-wise Total\"])]\n",
        "pivot_2021.loc[\"Level-wise Total\"] = [np.sum(pivot_2021[\"Lv1_Visitors\"]), np.sum(pivot_2021[\"Lv2_Visitors\"]), np.sum(pivot_2021[\"Lv3_Visitors\"]), np.sum(pivot_2021[\"Lv4_Visitors\"]), np.sum(pivot_2021[\"Lv5_Visitors\"]), np.sum(pivot_2021[\"Month-wise Total\"])]\n",
        "pivot_2022.loc[\"Level-wise Total\"] = [np.sum(pivot_2022[\"Lv1_Visitors\"]), np.sum(pivot_2022[\"Lv2_Visitors\"]), np.sum(pivot_2022[\"Lv3_Visitors\"]), np.sum(pivot_2022[\"Lv4_Visitors\"]), np.sum(pivot_2022[\"Lv5_Visitors\"]), np.sum(pivot_2022[\"Month-wise Total\"])]"
      ],
      "metadata": {
        "id": "KbJ_kqME1Get"
      },
      "execution_count": 45,
      "outputs": []
    },
    {
      "cell_type": "markdown",
      "source": [
        "Pivot view summary for the year 2020"
      ],
      "metadata": {
        "id": "FmP6Gspb2lBt"
      }
    },
    {
      "cell_type": "code",
      "source": [
        "pivot_2020"
      ],
      "metadata": {
        "colab": {
          "base_uri": "https://localhost:8080/",
          "height": 0
        },
        "id": "ySAiYyDhypeC",
        "outputId": "5a389e4e-47c8-4db4-8bc3-72a2bf149e11"
      },
      "execution_count": 46,
      "outputs": [
        {
          "output_type": "execute_result",
          "data": {
            "text/plain": [
              "KPI               Lv1_Visitors  Lv2_Visitors  Lv3_Visitors  Lv4_Visitors  \\\n",
              "Month                                                                      \n",
              "1                     39.28041      27.65271      29.65989      13.92282   \n",
              "2                     36.11176      25.10550      27.11901      12.72036   \n",
              "3                     41.53670      28.83993      31.37029      14.90653   \n",
              "4                     55.35973      39.10298      41.97245      21.47745   \n",
              "5                     56.60716      41.18410      43.67712     388.47029   \n",
              "6                     49.30513      35.32115      35.14933      15.62415   \n",
              "7                     43.87748      31.13380      29.98704      12.77021   \n",
              "8                     38.50727      27.01970      25.35076      10.61372   \n",
              "9                     41.59677      29.27064      27.82353      12.06931   \n",
              "10                    53.01025      37.51545      36.85645      15.64191   \n",
              "11                    45.14268      32.23226      28.81184      12.80953   \n",
              "12                    44.46232      33.04935      26.83006      11.93322   \n",
              "Level-wise Total     544.79766     387.42757     384.60777     542.95950   \n",
              "\n",
              "KPI               Lv5_Visitors  Month-wise Total  \n",
              "Month                                             \n",
              "1                      4.32501         114.84084  \n",
              "2                      3.88833         104.94496  \n",
              "3                      4.63865         121.29210  \n",
              "4                      6.63513         164.54774  \n",
              "5                      6.53319         536.47186  \n",
              "6                      5.19698         140.59674  \n",
              "7                      4.22305         121.99158  \n",
              "8                      3.41384         104.90529  \n",
              "9                      3.97399         114.73424  \n",
              "10                     5.10797         148.13203  \n",
              "11                     4.52552         123.52183  \n",
              "12                     4.13082         120.40577  \n",
              "Level-wise Total      56.59248        1916.38498  "
            ],
            "text/html": [
              "\n",
              "  <div id=\"df-39562478-4cec-4da9-8b54-b6a3f0673a45\">\n",
              "    <div class=\"colab-df-container\">\n",
              "      <div>\n",
              "<style scoped>\n",
              "    .dataframe tbody tr th:only-of-type {\n",
              "        vertical-align: middle;\n",
              "    }\n",
              "\n",
              "    .dataframe tbody tr th {\n",
              "        vertical-align: top;\n",
              "    }\n",
              "\n",
              "    .dataframe thead th {\n",
              "        text-align: right;\n",
              "    }\n",
              "</style>\n",
              "<table border=\"1\" class=\"dataframe\">\n",
              "  <thead>\n",
              "    <tr style=\"text-align: right;\">\n",
              "      <th>KPI</th>\n",
              "      <th>Lv1_Visitors</th>\n",
              "      <th>Lv2_Visitors</th>\n",
              "      <th>Lv3_Visitors</th>\n",
              "      <th>Lv4_Visitors</th>\n",
              "      <th>Lv5_Visitors</th>\n",
              "      <th>Month-wise Total</th>\n",
              "    </tr>\n",
              "    <tr>\n",
              "      <th>Month</th>\n",
              "      <th></th>\n",
              "      <th></th>\n",
              "      <th></th>\n",
              "      <th></th>\n",
              "      <th></th>\n",
              "      <th></th>\n",
              "    </tr>\n",
              "  </thead>\n",
              "  <tbody>\n",
              "    <tr>\n",
              "      <th>1</th>\n",
              "      <td>39.28041</td>\n",
              "      <td>27.65271</td>\n",
              "      <td>29.65989</td>\n",
              "      <td>13.92282</td>\n",
              "      <td>4.32501</td>\n",
              "      <td>114.84084</td>\n",
              "    </tr>\n",
              "    <tr>\n",
              "      <th>2</th>\n",
              "      <td>36.11176</td>\n",
              "      <td>25.10550</td>\n",
              "      <td>27.11901</td>\n",
              "      <td>12.72036</td>\n",
              "      <td>3.88833</td>\n",
              "      <td>104.94496</td>\n",
              "    </tr>\n",
              "    <tr>\n",
              "      <th>3</th>\n",
              "      <td>41.53670</td>\n",
              "      <td>28.83993</td>\n",
              "      <td>31.37029</td>\n",
              "      <td>14.90653</td>\n",
              "      <td>4.63865</td>\n",
              "      <td>121.29210</td>\n",
              "    </tr>\n",
              "    <tr>\n",
              "      <th>4</th>\n",
              "      <td>55.35973</td>\n",
              "      <td>39.10298</td>\n",
              "      <td>41.97245</td>\n",
              "      <td>21.47745</td>\n",
              "      <td>6.63513</td>\n",
              "      <td>164.54774</td>\n",
              "    </tr>\n",
              "    <tr>\n",
              "      <th>5</th>\n",
              "      <td>56.60716</td>\n",
              "      <td>41.18410</td>\n",
              "      <td>43.67712</td>\n",
              "      <td>388.47029</td>\n",
              "      <td>6.53319</td>\n",
              "      <td>536.47186</td>\n",
              "    </tr>\n",
              "    <tr>\n",
              "      <th>6</th>\n",
              "      <td>49.30513</td>\n",
              "      <td>35.32115</td>\n",
              "      <td>35.14933</td>\n",
              "      <td>15.62415</td>\n",
              "      <td>5.19698</td>\n",
              "      <td>140.59674</td>\n",
              "    </tr>\n",
              "    <tr>\n",
              "      <th>7</th>\n",
              "      <td>43.87748</td>\n",
              "      <td>31.13380</td>\n",
              "      <td>29.98704</td>\n",
              "      <td>12.77021</td>\n",
              "      <td>4.22305</td>\n",
              "      <td>121.99158</td>\n",
              "    </tr>\n",
              "    <tr>\n",
              "      <th>8</th>\n",
              "      <td>38.50727</td>\n",
              "      <td>27.01970</td>\n",
              "      <td>25.35076</td>\n",
              "      <td>10.61372</td>\n",
              "      <td>3.41384</td>\n",
              "      <td>104.90529</td>\n",
              "    </tr>\n",
              "    <tr>\n",
              "      <th>9</th>\n",
              "      <td>41.59677</td>\n",
              "      <td>29.27064</td>\n",
              "      <td>27.82353</td>\n",
              "      <td>12.06931</td>\n",
              "      <td>3.97399</td>\n",
              "      <td>114.73424</td>\n",
              "    </tr>\n",
              "    <tr>\n",
              "      <th>10</th>\n",
              "      <td>53.01025</td>\n",
              "      <td>37.51545</td>\n",
              "      <td>36.85645</td>\n",
              "      <td>15.64191</td>\n",
              "      <td>5.10797</td>\n",
              "      <td>148.13203</td>\n",
              "    </tr>\n",
              "    <tr>\n",
              "      <th>11</th>\n",
              "      <td>45.14268</td>\n",
              "      <td>32.23226</td>\n",
              "      <td>28.81184</td>\n",
              "      <td>12.80953</td>\n",
              "      <td>4.52552</td>\n",
              "      <td>123.52183</td>\n",
              "    </tr>\n",
              "    <tr>\n",
              "      <th>12</th>\n",
              "      <td>44.46232</td>\n",
              "      <td>33.04935</td>\n",
              "      <td>26.83006</td>\n",
              "      <td>11.93322</td>\n",
              "      <td>4.13082</td>\n",
              "      <td>120.40577</td>\n",
              "    </tr>\n",
              "    <tr>\n",
              "      <th>Level-wise Total</th>\n",
              "      <td>544.79766</td>\n",
              "      <td>387.42757</td>\n",
              "      <td>384.60777</td>\n",
              "      <td>542.95950</td>\n",
              "      <td>56.59248</td>\n",
              "      <td>1916.38498</td>\n",
              "    </tr>\n",
              "  </tbody>\n",
              "</table>\n",
              "</div>\n",
              "      <button class=\"colab-df-convert\" onclick=\"convertToInteractive('df-39562478-4cec-4da9-8b54-b6a3f0673a45')\"\n",
              "              title=\"Convert this dataframe to an interactive table.\"\n",
              "              style=\"display:none;\">\n",
              "        \n",
              "  <svg xmlns=\"http://www.w3.org/2000/svg\" height=\"24px\"viewBox=\"0 0 24 24\"\n",
              "       width=\"24px\">\n",
              "    <path d=\"M0 0h24v24H0V0z\" fill=\"none\"/>\n",
              "    <path d=\"M18.56 5.44l.94 2.06.94-2.06 2.06-.94-2.06-.94-.94-2.06-.94 2.06-2.06.94zm-11 1L8.5 8.5l.94-2.06 2.06-.94-2.06-.94L8.5 2.5l-.94 2.06-2.06.94zm10 10l.94 2.06.94-2.06 2.06-.94-2.06-.94-.94-2.06-.94 2.06-2.06.94z\"/><path d=\"M17.41 7.96l-1.37-1.37c-.4-.4-.92-.59-1.43-.59-.52 0-1.04.2-1.43.59L10.3 9.45l-7.72 7.72c-.78.78-.78 2.05 0 2.83L4 21.41c.39.39.9.59 1.41.59.51 0 1.02-.2 1.41-.59l7.78-7.78 2.81-2.81c.8-.78.8-2.07 0-2.86zM5.41 20L4 18.59l7.72-7.72 1.47 1.35L5.41 20z\"/>\n",
              "  </svg>\n",
              "      </button>\n",
              "      \n",
              "  <style>\n",
              "    .colab-df-container {\n",
              "      display:flex;\n",
              "      flex-wrap:wrap;\n",
              "      gap: 12px;\n",
              "    }\n",
              "\n",
              "    .colab-df-convert {\n",
              "      background-color: #E8F0FE;\n",
              "      border: none;\n",
              "      border-radius: 50%;\n",
              "      cursor: pointer;\n",
              "      display: none;\n",
              "      fill: #1967D2;\n",
              "      height: 32px;\n",
              "      padding: 0 0 0 0;\n",
              "      width: 32px;\n",
              "    }\n",
              "\n",
              "    .colab-df-convert:hover {\n",
              "      background-color: #E2EBFA;\n",
              "      box-shadow: 0px 1px 2px rgba(60, 64, 67, 0.3), 0px 1px 3px 1px rgba(60, 64, 67, 0.15);\n",
              "      fill: #174EA6;\n",
              "    }\n",
              "\n",
              "    [theme=dark] .colab-df-convert {\n",
              "      background-color: #3B4455;\n",
              "      fill: #D2E3FC;\n",
              "    }\n",
              "\n",
              "    [theme=dark] .colab-df-convert:hover {\n",
              "      background-color: #434B5C;\n",
              "      box-shadow: 0px 1px 3px 1px rgba(0, 0, 0, 0.15);\n",
              "      filter: drop-shadow(0px 1px 2px rgba(0, 0, 0, 0.3));\n",
              "      fill: #FFFFFF;\n",
              "    }\n",
              "  </style>\n",
              "\n",
              "      <script>\n",
              "        const buttonEl =\n",
              "          document.querySelector('#df-39562478-4cec-4da9-8b54-b6a3f0673a45 button.colab-df-convert');\n",
              "        buttonEl.style.display =\n",
              "          google.colab.kernel.accessAllowed ? 'block' : 'none';\n",
              "\n",
              "        async function convertToInteractive(key) {\n",
              "          const element = document.querySelector('#df-39562478-4cec-4da9-8b54-b6a3f0673a45');\n",
              "          const dataTable =\n",
              "            await google.colab.kernel.invokeFunction('convertToInteractive',\n",
              "                                                     [key], {});\n",
              "          if (!dataTable) return;\n",
              "\n",
              "          const docLinkHtml = 'Like what you see? Visit the ' +\n",
              "            '<a target=\"_blank\" href=https://colab.research.google.com/notebooks/data_table.ipynb>data table notebook</a>'\n",
              "            + ' to learn more about interactive tables.';\n",
              "          element.innerHTML = '';\n",
              "          dataTable['output_type'] = 'display_data';\n",
              "          await google.colab.output.renderOutput(dataTable, element);\n",
              "          const docLink = document.createElement('div');\n",
              "          docLink.innerHTML = docLinkHtml;\n",
              "          element.appendChild(docLink);\n",
              "        }\n",
              "      </script>\n",
              "    </div>\n",
              "  </div>\n",
              "  "
            ]
          },
          "metadata": {},
          "execution_count": 46
        }
      ]
    },
    {
      "cell_type": "markdown",
      "source": [
        "Pivot view summary for the year 2021"
      ],
      "metadata": {
        "id": "_mcv4Thy9zQC"
      }
    },
    {
      "cell_type": "code",
      "source": [
        "pivot_2021"
      ],
      "metadata": {
        "colab": {
          "base_uri": "https://localhost:8080/",
          "height": 0
        },
        "id": "wB22oc8L98gF",
        "outputId": "3c22696f-1797-4f1c-c6cf-cc96742ac485"
      },
      "execution_count": 47,
      "outputs": [
        {
          "output_type": "execute_result",
          "data": {
            "text/plain": [
              "KPI               Lv1_Visitors  Lv2_Visitors  Lv3_Visitors  Lv4_Visitors  \\\n",
              "Month                                                                      \n",
              "1                     45.99499      34.27053      28.08389      12.65810   \n",
              "2                     39.78160      28.52656      24.11639      10.81451   \n",
              "3                     40.85245      28.03308      24.88462      11.36561   \n",
              "4                     38.94486      26.23508      22.67941      10.13203   \n",
              "5                     40.60154      27.34743      23.76839      10.51066   \n",
              "6                     35.12596      23.36733      20.66367       8.82378   \n",
              "7                     35.83579      24.37691      20.95257       9.61647   \n",
              "8                     38.94788      25.63196      21.61006       9.84493   \n",
              "9                     36.52692      23.95509      20.50716       8.96033   \n",
              "10                    38.39830      24.40480      20.70340       8.85540   \n",
              "11                    42.44211      26.57505      21.59881      10.03236   \n",
              "12                    41.72845      26.34373      20.94714       9.36473   \n",
              "Level-wise Total     475.18085     319.06755     270.51551     120.97891   \n",
              "\n",
              "KPI               Lv5_Visitors  Month-wise Total  \n",
              "Month                                             \n",
              "1                      4.31654         125.32405  \n",
              "2                      3.69060         106.92966  \n",
              "3                      3.85526         108.99102  \n",
              "4                      3.27495         101.26633  \n",
              "5                      3.42566         105.65368  \n",
              "6                      2.67300          90.65374  \n",
              "7                      2.97286          93.75460  \n",
              "8                      3.00599          99.04082  \n",
              "9                      2.91774          92.86724  \n",
              "10                     3.08226          95.44416  \n",
              "11                     3.53576         104.18409  \n",
              "12                     3.14603         101.53008  \n",
              "Level-wise Total      39.89665        1225.63947  "
            ],
            "text/html": [
              "\n",
              "  <div id=\"df-6830b20d-43ea-4bb4-b886-d5d1c4dd302b\">\n",
              "    <div class=\"colab-df-container\">\n",
              "      <div>\n",
              "<style scoped>\n",
              "    .dataframe tbody tr th:only-of-type {\n",
              "        vertical-align: middle;\n",
              "    }\n",
              "\n",
              "    .dataframe tbody tr th {\n",
              "        vertical-align: top;\n",
              "    }\n",
              "\n",
              "    .dataframe thead th {\n",
              "        text-align: right;\n",
              "    }\n",
              "</style>\n",
              "<table border=\"1\" class=\"dataframe\">\n",
              "  <thead>\n",
              "    <tr style=\"text-align: right;\">\n",
              "      <th>KPI</th>\n",
              "      <th>Lv1_Visitors</th>\n",
              "      <th>Lv2_Visitors</th>\n",
              "      <th>Lv3_Visitors</th>\n",
              "      <th>Lv4_Visitors</th>\n",
              "      <th>Lv5_Visitors</th>\n",
              "      <th>Month-wise Total</th>\n",
              "    </tr>\n",
              "    <tr>\n",
              "      <th>Month</th>\n",
              "      <th></th>\n",
              "      <th></th>\n",
              "      <th></th>\n",
              "      <th></th>\n",
              "      <th></th>\n",
              "      <th></th>\n",
              "    </tr>\n",
              "  </thead>\n",
              "  <tbody>\n",
              "    <tr>\n",
              "      <th>1</th>\n",
              "      <td>45.99499</td>\n",
              "      <td>34.27053</td>\n",
              "      <td>28.08389</td>\n",
              "      <td>12.65810</td>\n",
              "      <td>4.31654</td>\n",
              "      <td>125.32405</td>\n",
              "    </tr>\n",
              "    <tr>\n",
              "      <th>2</th>\n",
              "      <td>39.78160</td>\n",
              "      <td>28.52656</td>\n",
              "      <td>24.11639</td>\n",
              "      <td>10.81451</td>\n",
              "      <td>3.69060</td>\n",
              "      <td>106.92966</td>\n",
              "    </tr>\n",
              "    <tr>\n",
              "      <th>3</th>\n",
              "      <td>40.85245</td>\n",
              "      <td>28.03308</td>\n",
              "      <td>24.88462</td>\n",
              "      <td>11.36561</td>\n",
              "      <td>3.85526</td>\n",
              "      <td>108.99102</td>\n",
              "    </tr>\n",
              "    <tr>\n",
              "      <th>4</th>\n",
              "      <td>38.94486</td>\n",
              "      <td>26.23508</td>\n",
              "      <td>22.67941</td>\n",
              "      <td>10.13203</td>\n",
              "      <td>3.27495</td>\n",
              "      <td>101.26633</td>\n",
              "    </tr>\n",
              "    <tr>\n",
              "      <th>5</th>\n",
              "      <td>40.60154</td>\n",
              "      <td>27.34743</td>\n",
              "      <td>23.76839</td>\n",
              "      <td>10.51066</td>\n",
              "      <td>3.42566</td>\n",
              "      <td>105.65368</td>\n",
              "    </tr>\n",
              "    <tr>\n",
              "      <th>6</th>\n",
              "      <td>35.12596</td>\n",
              "      <td>23.36733</td>\n",
              "      <td>20.66367</td>\n",
              "      <td>8.82378</td>\n",
              "      <td>2.67300</td>\n",
              "      <td>90.65374</td>\n",
              "    </tr>\n",
              "    <tr>\n",
              "      <th>7</th>\n",
              "      <td>35.83579</td>\n",
              "      <td>24.37691</td>\n",
              "      <td>20.95257</td>\n",
              "      <td>9.61647</td>\n",
              "      <td>2.97286</td>\n",
              "      <td>93.75460</td>\n",
              "    </tr>\n",
              "    <tr>\n",
              "      <th>8</th>\n",
              "      <td>38.94788</td>\n",
              "      <td>25.63196</td>\n",
              "      <td>21.61006</td>\n",
              "      <td>9.84493</td>\n",
              "      <td>3.00599</td>\n",
              "      <td>99.04082</td>\n",
              "    </tr>\n",
              "    <tr>\n",
              "      <th>9</th>\n",
              "      <td>36.52692</td>\n",
              "      <td>23.95509</td>\n",
              "      <td>20.50716</td>\n",
              "      <td>8.96033</td>\n",
              "      <td>2.91774</td>\n",
              "      <td>92.86724</td>\n",
              "    </tr>\n",
              "    <tr>\n",
              "      <th>10</th>\n",
              "      <td>38.39830</td>\n",
              "      <td>24.40480</td>\n",
              "      <td>20.70340</td>\n",
              "      <td>8.85540</td>\n",
              "      <td>3.08226</td>\n",
              "      <td>95.44416</td>\n",
              "    </tr>\n",
              "    <tr>\n",
              "      <th>11</th>\n",
              "      <td>42.44211</td>\n",
              "      <td>26.57505</td>\n",
              "      <td>21.59881</td>\n",
              "      <td>10.03236</td>\n",
              "      <td>3.53576</td>\n",
              "      <td>104.18409</td>\n",
              "    </tr>\n",
              "    <tr>\n",
              "      <th>12</th>\n",
              "      <td>41.72845</td>\n",
              "      <td>26.34373</td>\n",
              "      <td>20.94714</td>\n",
              "      <td>9.36473</td>\n",
              "      <td>3.14603</td>\n",
              "      <td>101.53008</td>\n",
              "    </tr>\n",
              "    <tr>\n",
              "      <th>Level-wise Total</th>\n",
              "      <td>475.18085</td>\n",
              "      <td>319.06755</td>\n",
              "      <td>270.51551</td>\n",
              "      <td>120.97891</td>\n",
              "      <td>39.89665</td>\n",
              "      <td>1225.63947</td>\n",
              "    </tr>\n",
              "  </tbody>\n",
              "</table>\n",
              "</div>\n",
              "      <button class=\"colab-df-convert\" onclick=\"convertToInteractive('df-6830b20d-43ea-4bb4-b886-d5d1c4dd302b')\"\n",
              "              title=\"Convert this dataframe to an interactive table.\"\n",
              "              style=\"display:none;\">\n",
              "        \n",
              "  <svg xmlns=\"http://www.w3.org/2000/svg\" height=\"24px\"viewBox=\"0 0 24 24\"\n",
              "       width=\"24px\">\n",
              "    <path d=\"M0 0h24v24H0V0z\" fill=\"none\"/>\n",
              "    <path d=\"M18.56 5.44l.94 2.06.94-2.06 2.06-.94-2.06-.94-.94-2.06-.94 2.06-2.06.94zm-11 1L8.5 8.5l.94-2.06 2.06-.94-2.06-.94L8.5 2.5l-.94 2.06-2.06.94zm10 10l.94 2.06.94-2.06 2.06-.94-2.06-.94-.94-2.06-.94 2.06-2.06.94z\"/><path d=\"M17.41 7.96l-1.37-1.37c-.4-.4-.92-.59-1.43-.59-.52 0-1.04.2-1.43.59L10.3 9.45l-7.72 7.72c-.78.78-.78 2.05 0 2.83L4 21.41c.39.39.9.59 1.41.59.51 0 1.02-.2 1.41-.59l7.78-7.78 2.81-2.81c.8-.78.8-2.07 0-2.86zM5.41 20L4 18.59l7.72-7.72 1.47 1.35L5.41 20z\"/>\n",
              "  </svg>\n",
              "      </button>\n",
              "      \n",
              "  <style>\n",
              "    .colab-df-container {\n",
              "      display:flex;\n",
              "      flex-wrap:wrap;\n",
              "      gap: 12px;\n",
              "    }\n",
              "\n",
              "    .colab-df-convert {\n",
              "      background-color: #E8F0FE;\n",
              "      border: none;\n",
              "      border-radius: 50%;\n",
              "      cursor: pointer;\n",
              "      display: none;\n",
              "      fill: #1967D2;\n",
              "      height: 32px;\n",
              "      padding: 0 0 0 0;\n",
              "      width: 32px;\n",
              "    }\n",
              "\n",
              "    .colab-df-convert:hover {\n",
              "      background-color: #E2EBFA;\n",
              "      box-shadow: 0px 1px 2px rgba(60, 64, 67, 0.3), 0px 1px 3px 1px rgba(60, 64, 67, 0.15);\n",
              "      fill: #174EA6;\n",
              "    }\n",
              "\n",
              "    [theme=dark] .colab-df-convert {\n",
              "      background-color: #3B4455;\n",
              "      fill: #D2E3FC;\n",
              "    }\n",
              "\n",
              "    [theme=dark] .colab-df-convert:hover {\n",
              "      background-color: #434B5C;\n",
              "      box-shadow: 0px 1px 3px 1px rgba(0, 0, 0, 0.15);\n",
              "      filter: drop-shadow(0px 1px 2px rgba(0, 0, 0, 0.3));\n",
              "      fill: #FFFFFF;\n",
              "    }\n",
              "  </style>\n",
              "\n",
              "      <script>\n",
              "        const buttonEl =\n",
              "          document.querySelector('#df-6830b20d-43ea-4bb4-b886-d5d1c4dd302b button.colab-df-convert');\n",
              "        buttonEl.style.display =\n",
              "          google.colab.kernel.accessAllowed ? 'block' : 'none';\n",
              "\n",
              "        async function convertToInteractive(key) {\n",
              "          const element = document.querySelector('#df-6830b20d-43ea-4bb4-b886-d5d1c4dd302b');\n",
              "          const dataTable =\n",
              "            await google.colab.kernel.invokeFunction('convertToInteractive',\n",
              "                                                     [key], {});\n",
              "          if (!dataTable) return;\n",
              "\n",
              "          const docLinkHtml = 'Like what you see? Visit the ' +\n",
              "            '<a target=\"_blank\" href=https://colab.research.google.com/notebooks/data_table.ipynb>data table notebook</a>'\n",
              "            + ' to learn more about interactive tables.';\n",
              "          element.innerHTML = '';\n",
              "          dataTable['output_type'] = 'display_data';\n",
              "          await google.colab.output.renderOutput(dataTable, element);\n",
              "          const docLink = document.createElement('div');\n",
              "          docLink.innerHTML = docLinkHtml;\n",
              "          element.appendChild(docLink);\n",
              "        }\n",
              "      </script>\n",
              "    </div>\n",
              "  </div>\n",
              "  "
            ]
          },
          "metadata": {},
          "execution_count": 47
        }
      ]
    },
    {
      "cell_type": "markdown",
      "source": [
        "Pivot view summary for the year 2022"
      ],
      "metadata": {
        "id": "gXA4VRDu945q"
      }
    },
    {
      "cell_type": "code",
      "source": [
        "pivot_2022"
      ],
      "metadata": {
        "colab": {
          "base_uri": "https://localhost:8080/",
          "height": 0
        },
        "id": "SE792Lnq9_jD",
        "outputId": "9229b929-81af-48ae-d19a-c0f371f1f65b"
      },
      "execution_count": 48,
      "outputs": [
        {
          "output_type": "execute_result",
          "data": {
            "text/plain": [
              "KPI               Lv1_Visitors  Lv2_Visitors  Lv3_Visitors  Lv4_Visitors  \\\n",
              "Month                                                                      \n",
              "1                     57.86931      36.12449      29.50453      13.47785   \n",
              "2                     52.09831      32.18617      26.12804      12.06400   \n",
              "3                     54.92505      33.67104      26.42382      10.75375   \n",
              "4                     50.09326      30.23011      23.81095      10.62976   \n",
              "5                     52.76813      33.19900      23.22455       9.93175   \n",
              "6                     52.70040      33.31258      24.00946      10.03187   \n",
              "7                     54.43284      34.56191      24.28696      10.99051   \n",
              "8                     52.36514      32.87205      24.31317      10.09072   \n",
              "9                     51.11320      32.01777      25.63464       9.96363   \n",
              "10                    53.01503      33.12989      25.23965      10.93338   \n",
              "11                    54.76670      35.33584      26.84182      12.27422   \n",
              "12                    49.80277      32.19889      26.45654      10.80652   \n",
              "Level-wise Total     635.95014     398.83974     305.87413     131.94796   \n",
              "\n",
              "KPI               Lv5_Visitors  Month-wise Total  \n",
              "Month                                             \n",
              "1                      4.91002         141.88620  \n",
              "2                      4.45489         126.93141  \n",
              "3                      3.92981         129.70347  \n",
              "4                      3.97493         118.73901  \n",
              "5                      3.66967         122.79310  \n",
              "6                      3.61343         123.66774  \n",
              "7                      3.86571         128.13793  \n",
              "8                      3.64445         123.28553  \n",
              "9                      3.49600         122.22524  \n",
              "10                     4.00363         126.32158  \n",
              "11                     4.57343         133.79201  \n",
              "12                     1.15216         120.41688  \n",
              "Level-wise Total      45.28813        1517.90010  "
            ],
            "text/html": [
              "\n",
              "  <div id=\"df-63e3a36f-bc25-492e-a3f8-2d08e7e34994\">\n",
              "    <div class=\"colab-df-container\">\n",
              "      <div>\n",
              "<style scoped>\n",
              "    .dataframe tbody tr th:only-of-type {\n",
              "        vertical-align: middle;\n",
              "    }\n",
              "\n",
              "    .dataframe tbody tr th {\n",
              "        vertical-align: top;\n",
              "    }\n",
              "\n",
              "    .dataframe thead th {\n",
              "        text-align: right;\n",
              "    }\n",
              "</style>\n",
              "<table border=\"1\" class=\"dataframe\">\n",
              "  <thead>\n",
              "    <tr style=\"text-align: right;\">\n",
              "      <th>KPI</th>\n",
              "      <th>Lv1_Visitors</th>\n",
              "      <th>Lv2_Visitors</th>\n",
              "      <th>Lv3_Visitors</th>\n",
              "      <th>Lv4_Visitors</th>\n",
              "      <th>Lv5_Visitors</th>\n",
              "      <th>Month-wise Total</th>\n",
              "    </tr>\n",
              "    <tr>\n",
              "      <th>Month</th>\n",
              "      <th></th>\n",
              "      <th></th>\n",
              "      <th></th>\n",
              "      <th></th>\n",
              "      <th></th>\n",
              "      <th></th>\n",
              "    </tr>\n",
              "  </thead>\n",
              "  <tbody>\n",
              "    <tr>\n",
              "      <th>1</th>\n",
              "      <td>57.86931</td>\n",
              "      <td>36.12449</td>\n",
              "      <td>29.50453</td>\n",
              "      <td>13.47785</td>\n",
              "      <td>4.91002</td>\n",
              "      <td>141.88620</td>\n",
              "    </tr>\n",
              "    <tr>\n",
              "      <th>2</th>\n",
              "      <td>52.09831</td>\n",
              "      <td>32.18617</td>\n",
              "      <td>26.12804</td>\n",
              "      <td>12.06400</td>\n",
              "      <td>4.45489</td>\n",
              "      <td>126.93141</td>\n",
              "    </tr>\n",
              "    <tr>\n",
              "      <th>3</th>\n",
              "      <td>54.92505</td>\n",
              "      <td>33.67104</td>\n",
              "      <td>26.42382</td>\n",
              "      <td>10.75375</td>\n",
              "      <td>3.92981</td>\n",
              "      <td>129.70347</td>\n",
              "    </tr>\n",
              "    <tr>\n",
              "      <th>4</th>\n",
              "      <td>50.09326</td>\n",
              "      <td>30.23011</td>\n",
              "      <td>23.81095</td>\n",
              "      <td>10.62976</td>\n",
              "      <td>3.97493</td>\n",
              "      <td>118.73901</td>\n",
              "    </tr>\n",
              "    <tr>\n",
              "      <th>5</th>\n",
              "      <td>52.76813</td>\n",
              "      <td>33.19900</td>\n",
              "      <td>23.22455</td>\n",
              "      <td>9.93175</td>\n",
              "      <td>3.66967</td>\n",
              "      <td>122.79310</td>\n",
              "    </tr>\n",
              "    <tr>\n",
              "      <th>6</th>\n",
              "      <td>52.70040</td>\n",
              "      <td>33.31258</td>\n",
              "      <td>24.00946</td>\n",
              "      <td>10.03187</td>\n",
              "      <td>3.61343</td>\n",
              "      <td>123.66774</td>\n",
              "    </tr>\n",
              "    <tr>\n",
              "      <th>7</th>\n",
              "      <td>54.43284</td>\n",
              "      <td>34.56191</td>\n",
              "      <td>24.28696</td>\n",
              "      <td>10.99051</td>\n",
              "      <td>3.86571</td>\n",
              "      <td>128.13793</td>\n",
              "    </tr>\n",
              "    <tr>\n",
              "      <th>8</th>\n",
              "      <td>52.36514</td>\n",
              "      <td>32.87205</td>\n",
              "      <td>24.31317</td>\n",
              "      <td>10.09072</td>\n",
              "      <td>3.64445</td>\n",
              "      <td>123.28553</td>\n",
              "    </tr>\n",
              "    <tr>\n",
              "      <th>9</th>\n",
              "      <td>51.11320</td>\n",
              "      <td>32.01777</td>\n",
              "      <td>25.63464</td>\n",
              "      <td>9.96363</td>\n",
              "      <td>3.49600</td>\n",
              "      <td>122.22524</td>\n",
              "    </tr>\n",
              "    <tr>\n",
              "      <th>10</th>\n",
              "      <td>53.01503</td>\n",
              "      <td>33.12989</td>\n",
              "      <td>25.23965</td>\n",
              "      <td>10.93338</td>\n",
              "      <td>4.00363</td>\n",
              "      <td>126.32158</td>\n",
              "    </tr>\n",
              "    <tr>\n",
              "      <th>11</th>\n",
              "      <td>54.76670</td>\n",
              "      <td>35.33584</td>\n",
              "      <td>26.84182</td>\n",
              "      <td>12.27422</td>\n",
              "      <td>4.57343</td>\n",
              "      <td>133.79201</td>\n",
              "    </tr>\n",
              "    <tr>\n",
              "      <th>12</th>\n",
              "      <td>49.80277</td>\n",
              "      <td>32.19889</td>\n",
              "      <td>26.45654</td>\n",
              "      <td>10.80652</td>\n",
              "      <td>1.15216</td>\n",
              "      <td>120.41688</td>\n",
              "    </tr>\n",
              "    <tr>\n",
              "      <th>Level-wise Total</th>\n",
              "      <td>635.95014</td>\n",
              "      <td>398.83974</td>\n",
              "      <td>305.87413</td>\n",
              "      <td>131.94796</td>\n",
              "      <td>45.28813</td>\n",
              "      <td>1517.90010</td>\n",
              "    </tr>\n",
              "  </tbody>\n",
              "</table>\n",
              "</div>\n",
              "      <button class=\"colab-df-convert\" onclick=\"convertToInteractive('df-63e3a36f-bc25-492e-a3f8-2d08e7e34994')\"\n",
              "              title=\"Convert this dataframe to an interactive table.\"\n",
              "              style=\"display:none;\">\n",
              "        \n",
              "  <svg xmlns=\"http://www.w3.org/2000/svg\" height=\"24px\"viewBox=\"0 0 24 24\"\n",
              "       width=\"24px\">\n",
              "    <path d=\"M0 0h24v24H0V0z\" fill=\"none\"/>\n",
              "    <path d=\"M18.56 5.44l.94 2.06.94-2.06 2.06-.94-2.06-.94-.94-2.06-.94 2.06-2.06.94zm-11 1L8.5 8.5l.94-2.06 2.06-.94-2.06-.94L8.5 2.5l-.94 2.06-2.06.94zm10 10l.94 2.06.94-2.06 2.06-.94-2.06-.94-.94-2.06-.94 2.06-2.06.94z\"/><path d=\"M17.41 7.96l-1.37-1.37c-.4-.4-.92-.59-1.43-.59-.52 0-1.04.2-1.43.59L10.3 9.45l-7.72 7.72c-.78.78-.78 2.05 0 2.83L4 21.41c.39.39.9.59 1.41.59.51 0 1.02-.2 1.41-.59l7.78-7.78 2.81-2.81c.8-.78.8-2.07 0-2.86zM5.41 20L4 18.59l7.72-7.72 1.47 1.35L5.41 20z\"/>\n",
              "  </svg>\n",
              "      </button>\n",
              "      \n",
              "  <style>\n",
              "    .colab-df-container {\n",
              "      display:flex;\n",
              "      flex-wrap:wrap;\n",
              "      gap: 12px;\n",
              "    }\n",
              "\n",
              "    .colab-df-convert {\n",
              "      background-color: #E8F0FE;\n",
              "      border: none;\n",
              "      border-radius: 50%;\n",
              "      cursor: pointer;\n",
              "      display: none;\n",
              "      fill: #1967D2;\n",
              "      height: 32px;\n",
              "      padding: 0 0 0 0;\n",
              "      width: 32px;\n",
              "    }\n",
              "\n",
              "    .colab-df-convert:hover {\n",
              "      background-color: #E2EBFA;\n",
              "      box-shadow: 0px 1px 2px rgba(60, 64, 67, 0.3), 0px 1px 3px 1px rgba(60, 64, 67, 0.15);\n",
              "      fill: #174EA6;\n",
              "    }\n",
              "\n",
              "    [theme=dark] .colab-df-convert {\n",
              "      background-color: #3B4455;\n",
              "      fill: #D2E3FC;\n",
              "    }\n",
              "\n",
              "    [theme=dark] .colab-df-convert:hover {\n",
              "      background-color: #434B5C;\n",
              "      box-shadow: 0px 1px 3px 1px rgba(0, 0, 0, 0.15);\n",
              "      filter: drop-shadow(0px 1px 2px rgba(0, 0, 0, 0.3));\n",
              "      fill: #FFFFFF;\n",
              "    }\n",
              "  </style>\n",
              "\n",
              "      <script>\n",
              "        const buttonEl =\n",
              "          document.querySelector('#df-63e3a36f-bc25-492e-a3f8-2d08e7e34994 button.colab-df-convert');\n",
              "        buttonEl.style.display =\n",
              "          google.colab.kernel.accessAllowed ? 'block' : 'none';\n",
              "\n",
              "        async function convertToInteractive(key) {\n",
              "          const element = document.querySelector('#df-63e3a36f-bc25-492e-a3f8-2d08e7e34994');\n",
              "          const dataTable =\n",
              "            await google.colab.kernel.invokeFunction('convertToInteractive',\n",
              "                                                     [key], {});\n",
              "          if (!dataTable) return;\n",
              "\n",
              "          const docLinkHtml = 'Like what you see? Visit the ' +\n",
              "            '<a target=\"_blank\" href=https://colab.research.google.com/notebooks/data_table.ipynb>data table notebook</a>'\n",
              "            + ' to learn more about interactive tables.';\n",
              "          element.innerHTML = '';\n",
              "          dataTable['output_type'] = 'display_data';\n",
              "          await google.colab.output.renderOutput(dataTable, element);\n",
              "          const docLink = document.createElement('div');\n",
              "          docLink.innerHTML = docLinkHtml;\n",
              "          element.appendChild(docLink);\n",
              "        }\n",
              "      </script>\n",
              "    </div>\n",
              "  </div>\n",
              "  "
            ]
          },
          "metadata": {},
          "execution_count": 48
        }
      ]
    },
    {
      "cell_type": "markdown",
      "source": [
        "Insights:  \n",
        "\n",
        "---\n",
        "\n",
        "* The total visitors for the year 2020 is **191,638,498**\n",
        "* The total visitors for the year 2021 is **122,563,947**\n",
        "* The total visitors for the year 2022 is **151,790,010**\n",
        "\n",
        "---\n",
        "\n",
        "*  Visitiors for 3 years:  \n",
        "                    2020        2021        2022  \n",
        "        Level 1    544.79      479.18      635.95 \n",
        "        Level 2    387.42      319.06      398.83\n",
        "        Level 3    384.6       270.51      305.83\n",
        "        Level 4    542.95      120.97      131.94\n",
        "        Level 5    56.59       39.89       45.28  \n",
        "\n",
        "* Level 4 has inconsistent value for the year 2020 which can possibly be an outlier\n",
        "\n",
        "\n",
        "\n",
        "\n"
      ],
      "metadata": {
        "id": "527IMW6c2stu"
      }
    },
    {
      "cell_type": "markdown",
      "source": [
        "### 1.4.2 What is the percentage difference in the number of visitors between different regions and years?"
      ],
      "metadata": {
        "id": "CADN_QUyl3nJ"
      }
    },
    {
      "cell_type": "markdown",
      "source": [
        "Create a pivot table by segregrating Regions"
      ],
      "metadata": {
        "id": "jtYZiRMUh894"
      }
    },
    {
      "cell_type": "code",
      "source": [
        "pivot_by_region = df.pivot_table(values=[\"Value\"], index=[\"Year\"], columns=[\"Region\"], aggfunc=np.sum)[\"Value\"]\n",
        "# pivot_by_region.sort_values(by=2022 ,axis=1, inplace=True)\n",
        "pivot_by_region.fillna(value=0, inplace=True)\n",
        "pivot_by_region"
      ],
      "metadata": {
        "colab": {
          "base_uri": "https://localhost:8080/",
          "height": 0
        },
        "id": "dAElbqeNuwU9",
        "outputId": "9e965f6c-c875-4471-9abf-00a12919844e"
      },
      "execution_count": 49,
      "outputs": [
        {
          "output_type": "execute_result",
          "data": {
            "text/plain": [
              "Region  Aurangabad  Dehradun  Faridabad       India    Indore     Uddepy  \\\n",
              "Year                                                                       \n",
              "2020       2.85497  11.72070   11.70281  1834.57306   0.00000   43.76357   \n",
              "2021       3.00058   9.30998   11.39358  1161.42601   0.00000   31.30906   \n",
              "2022       1.96448  82.12445    9.21404  1108.65565  35.43866  223.07017   \n",
              "\n",
              "Region    Ujjain  \n",
              "Year              \n",
              "2020    11.76987  \n",
              "2021     9.20026  \n",
              "2022    57.43265  "
            ],
            "text/html": [
              "\n",
              "  <div id=\"df-d4ce78d6-e4e8-4eee-993f-1bc6e01d1adc\">\n",
              "    <div class=\"colab-df-container\">\n",
              "      <div>\n",
              "<style scoped>\n",
              "    .dataframe tbody tr th:only-of-type {\n",
              "        vertical-align: middle;\n",
              "    }\n",
              "\n",
              "    .dataframe tbody tr th {\n",
              "        vertical-align: top;\n",
              "    }\n",
              "\n",
              "    .dataframe thead th {\n",
              "        text-align: right;\n",
              "    }\n",
              "</style>\n",
              "<table border=\"1\" class=\"dataframe\">\n",
              "  <thead>\n",
              "    <tr style=\"text-align: right;\">\n",
              "      <th>Region</th>\n",
              "      <th>Aurangabad</th>\n",
              "      <th>Dehradun</th>\n",
              "      <th>Faridabad</th>\n",
              "      <th>India</th>\n",
              "      <th>Indore</th>\n",
              "      <th>Uddepy</th>\n",
              "      <th>Ujjain</th>\n",
              "    </tr>\n",
              "    <tr>\n",
              "      <th>Year</th>\n",
              "      <th></th>\n",
              "      <th></th>\n",
              "      <th></th>\n",
              "      <th></th>\n",
              "      <th></th>\n",
              "      <th></th>\n",
              "      <th></th>\n",
              "    </tr>\n",
              "  </thead>\n",
              "  <tbody>\n",
              "    <tr>\n",
              "      <th>2020</th>\n",
              "      <td>2.85497</td>\n",
              "      <td>11.72070</td>\n",
              "      <td>11.70281</td>\n",
              "      <td>1834.57306</td>\n",
              "      <td>0.00000</td>\n",
              "      <td>43.76357</td>\n",
              "      <td>11.76987</td>\n",
              "    </tr>\n",
              "    <tr>\n",
              "      <th>2021</th>\n",
              "      <td>3.00058</td>\n",
              "      <td>9.30998</td>\n",
              "      <td>11.39358</td>\n",
              "      <td>1161.42601</td>\n",
              "      <td>0.00000</td>\n",
              "      <td>31.30906</td>\n",
              "      <td>9.20026</td>\n",
              "    </tr>\n",
              "    <tr>\n",
              "      <th>2022</th>\n",
              "      <td>1.96448</td>\n",
              "      <td>82.12445</td>\n",
              "      <td>9.21404</td>\n",
              "      <td>1108.65565</td>\n",
              "      <td>35.43866</td>\n",
              "      <td>223.07017</td>\n",
              "      <td>57.43265</td>\n",
              "    </tr>\n",
              "  </tbody>\n",
              "</table>\n",
              "</div>\n",
              "      <button class=\"colab-df-convert\" onclick=\"convertToInteractive('df-d4ce78d6-e4e8-4eee-993f-1bc6e01d1adc')\"\n",
              "              title=\"Convert this dataframe to an interactive table.\"\n",
              "              style=\"display:none;\">\n",
              "        \n",
              "  <svg xmlns=\"http://www.w3.org/2000/svg\" height=\"24px\"viewBox=\"0 0 24 24\"\n",
              "       width=\"24px\">\n",
              "    <path d=\"M0 0h24v24H0V0z\" fill=\"none\"/>\n",
              "    <path d=\"M18.56 5.44l.94 2.06.94-2.06 2.06-.94-2.06-.94-.94-2.06-.94 2.06-2.06.94zm-11 1L8.5 8.5l.94-2.06 2.06-.94-2.06-.94L8.5 2.5l-.94 2.06-2.06.94zm10 10l.94 2.06.94-2.06 2.06-.94-2.06-.94-.94-2.06-.94 2.06-2.06.94z\"/><path d=\"M17.41 7.96l-1.37-1.37c-.4-.4-.92-.59-1.43-.59-.52 0-1.04.2-1.43.59L10.3 9.45l-7.72 7.72c-.78.78-.78 2.05 0 2.83L4 21.41c.39.39.9.59 1.41.59.51 0 1.02-.2 1.41-.59l7.78-7.78 2.81-2.81c.8-.78.8-2.07 0-2.86zM5.41 20L4 18.59l7.72-7.72 1.47 1.35L5.41 20z\"/>\n",
              "  </svg>\n",
              "      </button>\n",
              "      \n",
              "  <style>\n",
              "    .colab-df-container {\n",
              "      display:flex;\n",
              "      flex-wrap:wrap;\n",
              "      gap: 12px;\n",
              "    }\n",
              "\n",
              "    .colab-df-convert {\n",
              "      background-color: #E8F0FE;\n",
              "      border: none;\n",
              "      border-radius: 50%;\n",
              "      cursor: pointer;\n",
              "      display: none;\n",
              "      fill: #1967D2;\n",
              "      height: 32px;\n",
              "      padding: 0 0 0 0;\n",
              "      width: 32px;\n",
              "    }\n",
              "\n",
              "    .colab-df-convert:hover {\n",
              "      background-color: #E2EBFA;\n",
              "      box-shadow: 0px 1px 2px rgba(60, 64, 67, 0.3), 0px 1px 3px 1px rgba(60, 64, 67, 0.15);\n",
              "      fill: #174EA6;\n",
              "    }\n",
              "\n",
              "    [theme=dark] .colab-df-convert {\n",
              "      background-color: #3B4455;\n",
              "      fill: #D2E3FC;\n",
              "    }\n",
              "\n",
              "    [theme=dark] .colab-df-convert:hover {\n",
              "      background-color: #434B5C;\n",
              "      box-shadow: 0px 1px 3px 1px rgba(0, 0, 0, 0.15);\n",
              "      filter: drop-shadow(0px 1px 2px rgba(0, 0, 0, 0.3));\n",
              "      fill: #FFFFFF;\n",
              "    }\n",
              "  </style>\n",
              "\n",
              "      <script>\n",
              "        const buttonEl =\n",
              "          document.querySelector('#df-d4ce78d6-e4e8-4eee-993f-1bc6e01d1adc button.colab-df-convert');\n",
              "        buttonEl.style.display =\n",
              "          google.colab.kernel.accessAllowed ? 'block' : 'none';\n",
              "\n",
              "        async function convertToInteractive(key) {\n",
              "          const element = document.querySelector('#df-d4ce78d6-e4e8-4eee-993f-1bc6e01d1adc');\n",
              "          const dataTable =\n",
              "            await google.colab.kernel.invokeFunction('convertToInteractive',\n",
              "                                                     [key], {});\n",
              "          if (!dataTable) return;\n",
              "\n",
              "          const docLinkHtml = 'Like what you see? Visit the ' +\n",
              "            '<a target=\"_blank\" href=https://colab.research.google.com/notebooks/data_table.ipynb>data table notebook</a>'\n",
              "            + ' to learn more about interactive tables.';\n",
              "          element.innerHTML = '';\n",
              "          dataTable['output_type'] = 'display_data';\n",
              "          await google.colab.output.renderOutput(dataTable, element);\n",
              "          const docLink = document.createElement('div');\n",
              "          docLink.innerHTML = docLinkHtml;\n",
              "          element.appendChild(docLink);\n",
              "        }\n",
              "      </script>\n",
              "    </div>\n",
              "  </div>\n",
              "  "
            ]
          },
          "metadata": {},
          "execution_count": 49
        }
      ]
    },
    {
      "cell_type": "markdown",
      "source": [
        "Function to add conneting lines in the graph"
      ],
      "metadata": {
        "id": "XsAy1C9wtTHL"
      }
    },
    {
      "cell_type": "code",
      "source": [
        "# function to draw connecting line in graphs\n",
        "def draw_connecting_line(ax1,ax2):\n",
        "  # use ConnectionPatch to draw lines between the two plots\n",
        "  # get the wedge data\n",
        "  theta1, theta2 = ax1.patches[0].theta1, ax1.patches[0].theta2\n",
        "  center, r = ax1.patches[0].center, ax1.patches[0].r\n",
        "  width=0.2\n",
        "\n",
        "  # draw top connecting line\n",
        "  x = r * np.cos(np.pi / 180 * theta2) + center[0]\n",
        "  y = np.sin(np.pi / 180 * theta2) + center[1]\n",
        "  con = ConnectionPatch(xyA=(- width / 2, .80), xyB=(x, y),\n",
        "                        coordsA=\"data\", coordsB=\"data\", axesA=ax2, axesB=ax1)\n",
        "  con.set_color([0, 0, 0])\n",
        "  con.set_linewidth(1)\n",
        "  ax2.add_artist(con)\n",
        "\n",
        "  # draw bottom connecting line\n",
        "  x = r * np.cos(np.pi / 180 * theta1) + center[0]\n",
        "  y = np.sin(np.pi / 180 * theta1) + center[1]\n",
        "  con = ConnectionPatch(xyA=(- width / 2, -.80), xyB=(x, y), coordsA=\"data\",\n",
        "                        coordsB=\"data\", axesA=ax2, axesB=ax1)\n",
        "  con.set_color([0, 0, 0])\n",
        "  ax2.add_artist(con)\n",
        "  con.set_linewidth(1)\n",
        "\n",
        "  # draw circle\n",
        "  centre_circle = plt.Circle((0, 0), 0.30, fc='white')\n",
        "  fig = plt.gcf()\n",
        "  \n",
        "  # Adding Circle in Pie chart\n",
        "  fig.gca().add_artist(centre_circle)\n",
        "\n",
        "\n",
        "\n",
        "def plot_graph(idx, start_angle, year):\n",
        "  colors=colors = ['#ccf9ff','#7ce8ff','#55d0ff','#00acdf','#0080bf','#2a4858']\n",
        "  # make figure and assign axis objects\n",
        "  fig, axs= plt.subplots(1,2, figsize=(12, 5))\n",
        "  fig.subplots_adjust(wspace=0)\n",
        "  fig.suptitle(\"Distribution of visitors year \"+year, size=16, y=1.08)\n",
        "\n",
        "  # large pie chart parameters\n",
        "  pie_chart=(pivot_by_region.drop(columns=[\"India\"], axis=1).iloc[idx,:].sum(), pivot_by_region[\"India\"].iloc[idx])\n",
        "\n",
        "  plt.subplot(121)\n",
        "  plt.title('Distribution of data- Other Regions vs Rest of India', pad=25)\n",
        "  plt.pie(pie_chart, autopct='%1.2f%%', startangle=start_angle, explode=(0,0.08), labels=[\"Others\",\"India\"])\n",
        "  plt.legend()\n",
        "\n",
        "  # small donut chart parameters\n",
        "  donut_chart= pivot_by_region.drop(columns=[\"India\"], axis=1).iloc[idx,:]\n",
        "  donut_chart_pct= 100*(donut_chart/np.sum(pie_chart))\n",
        "\n",
        "  plt.subplot(122)\n",
        "  plt.title ('Region-wise distribution of data', pad=25)\n",
        "  plt.pie(donut_chart_pct, labels=donut_chart.index, autopct=lambda x: '{:.2f}%'.format(x*donut_chart_pct.sum()/100), \n",
        "          radius=0.80, startangle=45, colors=colors)\n",
        "\n",
        "  draw_connecting_line(axs[0],axs[1])\n",
        "\n",
        "  plt.show()\n"
      ],
      "metadata": {
        "id": "IksXDzgdtahx"
      },
      "execution_count": 50,
      "outputs": []
    },
    {
      "cell_type": "markdown",
      "source": [
        "Plotting the distribution graph for the year 2020"
      ],
      "metadata": {
        "id": "QKeYuTasi6dj"
      }
    },
    {
      "cell_type": "code",
      "source": [
        "plot_graph(idx=0, start_angle=-5, year=\"2020\")"
      ],
      "metadata": {
        "colab": {
          "base_uri": "https://localhost:8080/",
          "height": 0
        },
        "id": "aY9ZITCe0Q_n",
        "outputId": "051c74bc-20f6-4749-fd82-0e49763d875f"
      },
      "execution_count": 51,
      "outputs": [
        {
          "output_type": "display_data",
          "data": {
            "text/plain": [
              "<Figure size 1200x500 with 2 Axes>"
            ],
            "image/png": "[encoded data removed]"
          },
          "metadata": {}
        }
      ]
    },
    {
      "cell_type": "markdown",
      "source": [
        "Plotting the distribution graph for the year 2021"
      ],
      "metadata": {
        "id": "uNFsD9UhjBzy"
      }
    },
    {
      "cell_type": "code",
      "source": [
        "plot_graph(idx=1, start_angle=-5, year=\"2021\")"
      ],
      "metadata": {
        "colab": {
          "base_uri": "https://localhost:8080/",
          "height": 0
        },
        "id": "ddw1NWVijH1s",
        "outputId": "03a9650b-715d-43a4-98a6-bc5880e05b8b"
      },
      "execution_count": 52,
      "outputs": [
        {
          "output_type": "display_data",
          "data": {
            "text/plain": [
              "<Figure size 1200x500 with 2 Axes>"
            ],
            "image/png": "[encoded data removed]"
          },
          "metadata": {}
        }
      ]
    },
    {
      "cell_type": "markdown",
      "source": [
        "Plotting the distribution graph for the year 2022"
      ],
      "metadata": {
        "id": "Lzz0_uz8jqW-"
      }
    },
    {
      "cell_type": "code",
      "source": [
        "plot_graph(idx=2, start_angle=-45, year=\"2022\")"
      ],
      "metadata": {
        "colab": {
          "base_uri": "https://localhost:8080/",
          "height": 0
        },
        "id": "f-gfLklYjxa4",
        "outputId": "7f0309ef-0ef2-40d1-e178-5c821c319109"
      },
      "execution_count": 53,
      "outputs": [
        {
          "output_type": "display_data",
          "data": {
            "text/plain": [
              "<Figure size 1200x500 with 2 Axes>"
            ],
            "image/png": "[encoded data removed]"
          },
          "metadata": {}
        }
      ]
    },
    {
      "cell_type": "markdown",
      "source": [
        "Checking percentage change of visitors in each year"
      ],
      "metadata": {
        "id": "cevihXYs77bR"
      }
    },
    {
      "cell_type": "code",
      "source": [
        "visitors_by_year= pd.DataFrame(pivot_by_region.sum(axis=1), columns=[\"Total Visitors\"])\n",
        "visitors_by_year[\"Percentage Change\"] = visitors_by_year.pct_change()*100\n",
        "visitors_by_year"
      ],
      "metadata": {
        "colab": {
          "base_uri": "https://localhost:8080/",
          "height": 0
        },
        "id": "Oesd3wR45mca",
        "outputId": "2d368fd4-5d33-43e3-d4d0-1676d8851ae3"
      },
      "execution_count": 54,
      "outputs": [
        {
          "output_type": "execute_result",
          "data": {
            "text/plain": [
              "      Total Visitors  Percentage Change\n",
              "Year                                   \n",
              "2020      1916.38498                NaN\n",
              "2021      1225.63947         -36.044193\n",
              "2022      1517.90010          23.845563"
            ],
            "text/html": [
              "\n",
              "  <div id=\"df-833223d5-24c5-4da1-98d7-b7d27effb79d\">\n",
              "    <div class=\"colab-df-container\">\n",
              "      <div>\n",
              "<style scoped>\n",
              "    .dataframe tbody tr th:only-of-type {\n",
              "        vertical-align: middle;\n",
              "    }\n",
              "\n",
              "    .dataframe tbody tr th {\n",
              "        vertical-align: top;\n",
              "    }\n",
              "\n",
              "    .dataframe thead th {\n",
              "        text-align: right;\n",
              "    }\n",
              "</style>\n",
              "<table border=\"1\" class=\"dataframe\">\n",
              "  <thead>\n",
              "    <tr style=\"text-align: right;\">\n",
              "      <th></th>\n",
              "      <th>Total Visitors</th>\n",
              "      <th>Percentage Change</th>\n",
              "    </tr>\n",
              "    <tr>\n",
              "      <th>Year</th>\n",
              "      <th></th>\n",
              "      <th></th>\n",
              "    </tr>\n",
              "  </thead>\n",
              "  <tbody>\n",
              "    <tr>\n",
              "      <th>2020</th>\n",
              "      <td>1916.38498</td>\n",
              "      <td>NaN</td>\n",
              "    </tr>\n",
              "    <tr>\n",
              "      <th>2021</th>\n",
              "      <td>1225.63947</td>\n",
              "      <td>-36.044193</td>\n",
              "    </tr>\n",
              "    <tr>\n",
              "      <th>2022</th>\n",
              "      <td>1517.90010</td>\n",
              "      <td>23.845563</td>\n",
              "    </tr>\n",
              "  </tbody>\n",
              "</table>\n",
              "</div>\n",
              "      <button class=\"colab-df-convert\" onclick=\"convertToInteractive('df-833223d5-24c5-4da1-98d7-b7d27effb79d')\"\n",
              "              title=\"Convert this dataframe to an interactive table.\"\n",
              "              style=\"display:none;\">\n",
              "        \n",
              "  <svg xmlns=\"http://www.w3.org/2000/svg\" height=\"24px\"viewBox=\"0 0 24 24\"\n",
              "       width=\"24px\">\n",
              "    <path d=\"M0 0h24v24H0V0z\" fill=\"none\"/>\n",
              "    <path d=\"M18.56 5.44l.94 2.06.94-2.06 2.06-.94-2.06-.94-.94-2.06-.94 2.06-2.06.94zm-11 1L8.5 8.5l.94-2.06 2.06-.94-2.06-.94L8.5 2.5l-.94 2.06-2.06.94zm10 10l.94 2.06.94-2.06 2.06-.94-2.06-.94-.94-2.06-.94 2.06-2.06.94z\"/><path d=\"M17.41 7.96l-1.37-1.37c-.4-.4-.92-.59-1.43-.59-.52 0-1.04.2-1.43.59L10.3 9.45l-7.72 7.72c-.78.78-.78 2.05 0 2.83L4 21.41c.39.39.9.59 1.41.59.51 0 1.02-.2 1.41-.59l7.78-7.78 2.81-2.81c.8-.78.8-2.07 0-2.86zM5.41 20L4 18.59l7.72-7.72 1.47 1.35L5.41 20z\"/>\n",
              "  </svg>\n",
              "      </button>\n",
              "      \n",
              "  <style>\n",
              "    .colab-df-container {\n",
              "      display:flex;\n",
              "      flex-wrap:wrap;\n",
              "      gap: 12px;\n",
              "    }\n",
              "\n",
              "    .colab-df-convert {\n",
              "      background-color: #E8F0FE;\n",
              "      border: none;\n",
              "      border-radius: 50%;\n",
              "      cursor: pointer;\n",
              "      display: none;\n",
              "      fill: #1967D2;\n",
              "      height: 32px;\n",
              "      padding: 0 0 0 0;\n",
              "      width: 32px;\n",
              "    }\n",
              "\n",
              "    .colab-df-convert:hover {\n",
              "      background-color: #E2EBFA;\n",
              "      box-shadow: 0px 1px 2px rgba(60, 64, 67, 0.3), 0px 1px 3px 1px rgba(60, 64, 67, 0.15);\n",
              "      fill: #174EA6;\n",
              "    }\n",
              "\n",
              "    [theme=dark] .colab-df-convert {\n",
              "      background-color: #3B4455;\n",
              "      fill: #D2E3FC;\n",
              "    }\n",
              "\n",
              "    [theme=dark] .colab-df-convert:hover {\n",
              "      background-color: #434B5C;\n",
              "      box-shadow: 0px 1px 3px 1px rgba(0, 0, 0, 0.15);\n",
              "      filter: drop-shadow(0px 1px 2px rgba(0, 0, 0, 0.3));\n",
              "      fill: #FFFFFF;\n",
              "    }\n",
              "  </style>\n",
              "\n",
              "      <script>\n",
              "        const buttonEl =\n",
              "          document.querySelector('#df-833223d5-24c5-4da1-98d7-b7d27effb79d button.colab-df-convert');\n",
              "        buttonEl.style.display =\n",
              "          google.colab.kernel.accessAllowed ? 'block' : 'none';\n",
              "\n",
              "        async function convertToInteractive(key) {\n",
              "          const element = document.querySelector('#df-833223d5-24c5-4da1-98d7-b7d27effb79d');\n",
              "          const dataTable =\n",
              "            await google.colab.kernel.invokeFunction('convertToInteractive',\n",
              "                                                     [key], {});\n",
              "          if (!dataTable) return;\n",
              "\n",
              "          const docLinkHtml = 'Like what you see? Visit the ' +\n",
              "            '<a target=\"_blank\" href=https://colab.research.google.com/notebooks/data_table.ipynb>data table notebook</a>'\n",
              "            + ' to learn more about interactive tables.';\n",
              "          element.innerHTML = '';\n",
              "          dataTable['output_type'] = 'display_data';\n",
              "          await google.colab.output.renderOutput(dataTable, element);\n",
              "          const docLink = document.createElement('div');\n",
              "          docLink.innerHTML = docLinkHtml;\n",
              "          element.appendChild(docLink);\n",
              "        }\n",
              "      </script>\n",
              "    </div>\n",
              "  </div>\n",
              "  "
            ]
          },
          "metadata": {},
          "execution_count": 54
        }
      ]
    },
    {
      "cell_type": "markdown",
      "source": [
        "Insights:  \n",
        "* India contributes to the majority of visitors contributing 95.73%, 94.76%, and 73.04% in the year 2020, 2021 and 2022 respectively.\n",
        "* For year 2020, Uddepy(2.28%) is the highest performer, followed by Faridabad, Dehradun and Ujjain at 0.61%. Aurangabad(0.15%) has the least performance\n",
        "* For year 2021, The performance ranking is similar to previous year with contribution values:- Uddepy(2.28%), Faridabad(0.93%), Dehradun(0.76%), Ujjain(0.75%), Aurangabad(0.24%)\n",
        "* For year 2022, Indore is added to the list. The updated performance ranking are now Uddepy(14.7%), Dehradun(5.41%), Ujjain(3.78%), Indore(2.33%), Faridabad(0.61%), and Aurangabad(0.13%)\n",
        "\n",
        "---\n",
        "\n",
        "* The year-wise growth has negative impact with deacrease of visitors by 36% from 2020 to 2021\n",
        "* The figure increases again by 23.84% in 2022"
      ],
      "metadata": {
        "id": "I3yCB7hQj-F5"
      }
    },
    {
      "cell_type": "markdown",
      "source": [
        "### 1.4.3 Look out for outliers and if there is any, use your preferred way to handle them. Use visualization to showcase outliers before and after treating them. \n"
      ],
      "metadata": {
        "id": "5BSQ089s92sv"
      }
    },
    {
      "cell_type": "markdown",
      "source": [
        "As discussed in the Insights section of 1.4.1 we found inconsistent data value for year 2020 hence we will start by exploring data of 2020 "
      ],
      "metadata": {
        "id": "0kZW9R3z-ZAA"
      }
    },
    {
      "cell_type": "code",
      "source": [
        "df_2020[\"Value\"].describe()"
      ],
      "metadata": {
        "colab": {
          "base_uri": "https://localhost:8080/"
        },
        "id": "hqd7IF5KCQD7",
        "outputId": "f5fa59a5-9c75-4a28-cc5b-ed5bc226c6aa"
      },
      "execution_count": 55,
      "outputs": [
        {
          "output_type": "execute_result",
          "data": {
            "text/plain": [
              "count    456.000000\n",
              "mean       4.202599\n",
              "std       18.776365\n",
              "min        0.006930\n",
              "25%        0.112765\n",
              "50%        0.327040\n",
              "75%        2.470317\n",
              "max      369.868990\n",
              "Name: Value, dtype: float64"
            ]
          },
          "metadata": {},
          "execution_count": 55
        }
      ]
    },
    {
      "cell_type": "markdown",
      "source": [
        "The maximum value and the mean of data has a very large difference which suggests that max value itself is an outlier. Now visualizing the data to check the outlier"
      ],
      "metadata": {
        "id": "5ogLkkyPCYRB"
      }
    },
    {
      "cell_type": "code",
      "source": [
        "plt.title(\"Scatter Plot of values in the year 2020\")\n",
        "sns.scatterplot(df_2020[\"Value\"])\n",
        "plt.xlabel(\"Index of data point\")\n",
        "plt.grid(True)\n",
        "plt.show()"
      ],
      "metadata": {
        "colab": {
          "base_uri": "https://localhost:8080/",
          "height": 0
        },
        "id": "fDzt93lV984P",
        "outputId": "5c4d6f1e-10fc-4f65-a603-07c8b6dd1d65"
      },
      "execution_count": 56,
      "outputs": [
        {
          "output_type": "display_data",
          "data": {
            "text/plain": [
              "<Figure size 640x480 with 1 Axes>"
            ],
            "image/png": "[encoded data removed]"
          },
          "metadata": {}
        }
      ]
    },
    {
      "cell_type": "markdown",
      "source": [
        "Selecting the row with outlier"
      ],
      "metadata": {
        "id": "bgwelMkZC5iB"
      }
    },
    {
      "cell_type": "code",
      "source": [
        "df_2020[df_2020[\"Value\"] == df_2020.Value.max()]"
      ],
      "metadata": {
        "colab": {
          "base_uri": "https://localhost:8080/",
          "height": 0
        },
        "id": "Yq3USq-UCpZr",
        "outputId": "987568a7-5b2b-4c5a-fdd3-0e1769830425"
      },
      "execution_count": 57,
      "outputs": [
        {
          "output_type": "execute_result",
          "data": {
            "text/plain": [
              "     Year  Month  Segment Region           KPI Value Type      Value\n",
              "293  2020      5  Clients  India  Lv4_Visitors    Actuals  369.86899"
            ],
            "text/html": [
              "\n",
              "  <div id=\"df-ffaaf479-fde7-4de5-b982-88661b08b0be\">\n",
              "    <div class=\"colab-df-container\">\n",
              "      <div>\n",
              "<style scoped>\n",
              "    .dataframe tbody tr th:only-of-type {\n",
              "        vertical-align: middle;\n",
              "    }\n",
              "\n",
              "    .dataframe tbody tr th {\n",
              "        vertical-align: top;\n",
              "    }\n",
              "\n",
              "    .dataframe thead th {\n",
              "        text-align: right;\n",
              "    }\n",
              "</style>\n",
              "<table border=\"1\" class=\"dataframe\">\n",
              "  <thead>\n",
              "    <tr style=\"text-align: right;\">\n",
              "      <th></th>\n",
              "      <th>Year</th>\n",
              "      <th>Month</th>\n",
              "      <th>Segment</th>\n",
              "      <th>Region</th>\n",
              "      <th>KPI</th>\n",
              "      <th>Value Type</th>\n",
              "      <th>Value</th>\n",
              "    </tr>\n",
              "  </thead>\n",
              "  <tbody>\n",
              "    <tr>\n",
              "      <th>293</th>\n",
              "      <td>2020</td>\n",
              "      <td>5</td>\n",
              "      <td>Clients</td>\n",
              "      <td>India</td>\n",
              "      <td>Lv4_Visitors</td>\n",
              "      <td>Actuals</td>\n",
              "      <td>369.86899</td>\n",
              "    </tr>\n",
              "  </tbody>\n",
              "</table>\n",
              "</div>\n",
              "      <button class=\"colab-df-convert\" onclick=\"convertToInteractive('df-ffaaf479-fde7-4de5-b982-88661b08b0be')\"\n",
              "              title=\"Convert this dataframe to an interactive table.\"\n",
              "              style=\"display:none;\">\n",
              "        \n",
              "  <svg xmlns=\"http://www.w3.org/2000/svg\" height=\"24px\"viewBox=\"0 0 24 24\"\n",
              "       width=\"24px\">\n",
              "    <path d=\"M0 0h24v24H0V0z\" fill=\"none\"/>\n",
              "    <path d=\"M18.56 5.44l.94 2.06.94-2.06 2.06-.94-2.06-.94-.94-2.06-.94 2.06-2.06.94zm-11 1L8.5 8.5l.94-2.06 2.06-.94-2.06-.94L8.5 2.5l-.94 2.06-2.06.94zm10 10l.94 2.06.94-2.06 2.06-.94-2.06-.94-.94-2.06-.94 2.06-2.06.94z\"/><path d=\"M17.41 7.96l-1.37-1.37c-.4-.4-.92-.59-1.43-.59-.52 0-1.04.2-1.43.59L10.3 9.45l-7.72 7.72c-.78.78-.78 2.05 0 2.83L4 21.41c.39.39.9.59 1.41.59.51 0 1.02-.2 1.41-.59l7.78-7.78 2.81-2.81c.8-.78.8-2.07 0-2.86zM5.41 20L4 18.59l7.72-7.72 1.47 1.35L5.41 20z\"/>\n",
              "  </svg>\n",
              "      </button>\n",
              "      \n",
              "  <style>\n",
              "    .colab-df-container {\n",
              "      display:flex;\n",
              "      flex-wrap:wrap;\n",
              "      gap: 12px;\n",
              "    }\n",
              "\n",
              "    .colab-df-convert {\n",
              "      background-color: #E8F0FE;\n",
              "      border: none;\n",
              "      border-radius: 50%;\n",
              "      cursor: pointer;\n",
              "      display: none;\n",
              "      fill: #1967D2;\n",
              "      height: 32px;\n",
              "      padding: 0 0 0 0;\n",
              "      width: 32px;\n",
              "    }\n",
              "\n",
              "    .colab-df-convert:hover {\n",
              "      background-color: #E2EBFA;\n",
              "      box-shadow: 0px 1px 2px rgba(60, 64, 67, 0.3), 0px 1px 3px 1px rgba(60, 64, 67, 0.15);\n",
              "      fill: #174EA6;\n",
              "    }\n",
              "\n",
              "    [theme=dark] .colab-df-convert {\n",
              "      background-color: #3B4455;\n",
              "      fill: #D2E3FC;\n",
              "    }\n",
              "\n",
              "    [theme=dark] .colab-df-convert:hover {\n",
              "      background-color: #434B5C;\n",
              "      box-shadow: 0px 1px 3px 1px rgba(0, 0, 0, 0.15);\n",
              "      filter: drop-shadow(0px 1px 2px rgba(0, 0, 0, 0.3));\n",
              "      fill: #FFFFFF;\n",
              "    }\n",
              "  </style>\n",
              "\n",
              "      <script>\n",
              "        const buttonEl =\n",
              "          document.querySelector('#df-ffaaf479-fde7-4de5-b982-88661b08b0be button.colab-df-convert');\n",
              "        buttonEl.style.display =\n",
              "          google.colab.kernel.accessAllowed ? 'block' : 'none';\n",
              "\n",
              "        async function convertToInteractive(key) {\n",
              "          const element = document.querySelector('#df-ffaaf479-fde7-4de5-b982-88661b08b0be');\n",
              "          const dataTable =\n",
              "            await google.colab.kernel.invokeFunction('convertToInteractive',\n",
              "                                                     [key], {});\n",
              "          if (!dataTable) return;\n",
              "\n",
              "          const docLinkHtml = 'Like what you see? Visit the ' +\n",
              "            '<a target=\"_blank\" href=https://colab.research.google.com/notebooks/data_table.ipynb>data table notebook</a>'\n",
              "            + ' to learn more about interactive tables.';\n",
              "          element.innerHTML = '';\n",
              "          dataTable['output_type'] = 'display_data';\n",
              "          await google.colab.output.renderOutput(dataTable, element);\n",
              "          const docLink = document.createElement('div');\n",
              "          docLink.innerHTML = docLinkHtml;\n",
              "          element.appendChild(docLink);\n",
              "        }\n",
              "      </script>\n",
              "    </div>\n",
              "  </div>\n",
              "  "
            ]
          },
          "metadata": {},
          "execution_count": 57
        }
      ]
    },
    {
      "cell_type": "markdown",
      "source": [
        "Row number 293 has been identified as an outlier. The outlier is for Lv4_Visitors of 5th Month (India Region).  "
      ],
      "metadata": {
        "id": "hZgCO8I1DikH"
      }
    },
    {
      "cell_type": "code",
      "source": [
        "df_2020[(df_2020.KPI == \"Lv4_Visitors\") & (df_2020.Region == \"India\")].shape"
      ],
      "metadata": {
        "colab": {
          "base_uri": "https://localhost:8080/"
        },
        "id": "okBsAs1pF4m8",
        "outputId": "60881cd8-27af-4782-9255-86a050e4b405"
      },
      "execution_count": 58,
      "outputs": [
        {
          "output_type": "execute_result",
          "data": {
            "text/plain": [
              "(36, 7)"
            ]
          },
          "metadata": {},
          "execution_count": 58
        }
      ]
    },
    {
      "cell_type": "markdown",
      "source": [
        "We have 36 observations similar to given outlier specifications. Hence for simplicity we will delete the outlier row. Other methods like imputation or interpolation can also be used."
      ],
      "metadata": {
        "id": "6WCQ7AZPGKcN"
      }
    },
    {
      "cell_type": "code",
      "source": [
        "df_2020_no_outlier = df_2020[df_2020[\"Value\"] != df_2020.Value.max()]"
      ],
      "metadata": {
        "id": "2WxLN5kuHl2Y"
      },
      "execution_count": 59,
      "outputs": []
    },
    {
      "cell_type": "markdown",
      "source": [
        "Plotting the data to observe changes"
      ],
      "metadata": {
        "id": "E9EF5lmVQsqo"
      }
    },
    {
      "cell_type": "code",
      "source": [
        "fig, axs= plt.subplots(1,2, figsize=(15,5))\n",
        "\n",
        "plt.subplot(121)\n",
        "sns.boxplot(data=df_2020, x=\"KPI\", y=\"Value\")\n",
        "plt.title(\"Data with outier\", pad=10)\n",
        "plt.grid()\n",
        "\n",
        "plt.subplot(122)\n",
        "plt.title(\"Data without outlier\", pad=10)\n",
        "sns.boxplot(data=df_2020_no_outlier, x=\"KPI\", y=\"Value\")\n",
        "plt.grid()\n",
        "\n",
        "plt.show()"
      ],
      "metadata": {
        "colab": {
          "base_uri": "https://localhost:8080/",
          "height": 0
        },
        "id": "kY7wRA_xQzTm",
        "outputId": "052c952d-97ba-4249-cc49-0e711be1fc30"
      },
      "execution_count": 60,
      "outputs": [
        {
          "output_type": "display_data",
          "data": {
            "text/plain": [
              "<Figure size 1500x500 with 2 Axes>"
            ],
            "image/png": "[encoded data removed]"
          },
          "metadata": {}
        }
      ]
    },
    {
      "cell_type": "markdown",
      "source": [
        "Insights:  \n",
        "* We identified one outlier in Lv4_Visitors for the year 2020.\n",
        "* We handled the outlier by deleting it as we have sufficient data for visualization and model creation purposes.\n",
        "* Additionally replacing the outlier with mean or meadian value is also a good option."
      ],
      "metadata": {
        "id": "0K4HakiwTMPs"
      }
    },
    {
      "cell_type": "markdown",
      "source": [
        "Removing the outlier from original dataset for further analysis and model creation"
      ],
      "metadata": {
        "id": "9u1N3VP7Nhrn"
      }
    },
    {
      "cell_type": "code",
      "source": [
        "# Identifying the same outlier in original dataet\n",
        "print(df[df[\"Value\"] == df.Value.max()])\n",
        "print(\"---\"*23,\"\\n\") #  to diffentiatie between dislay (Optional) \n",
        "\n",
        "# Checking shape of data before deleting outlier\n",
        "print(\"The shape of dataset with outlier is:\", df.shape)\n",
        "print(\"---\"*23,\"\\n\") #  to diffentiatie between dislay (Optional) \n",
        "\n",
        "# Dropping the outlier row\n",
        "df.drop(index=293, inplace=True)\n",
        "\n",
        "# Checking shape of data after deleting outlier\n",
        "print(\"The shape of dataset without outlier is:\", df.shape)\n",
        "print(\"---\"*23,\"\\n\") #  to diffentiatie between dislay (Optional) \n",
        "\n",
        "# Displaying the data\n",
        "df"
      ],
      "metadata": {
        "colab": {
          "base_uri": "https://localhost:8080/",
          "height": 0
        },
        "id": "yqwra0BBNwvF",
        "outputId": "bad3257b-5ace-4e3c-e199-e1453cd4ba79"
      },
      "execution_count": 61,
      "outputs": [
        {
          "output_type": "stream",
          "name": "stdout",
          "text": [
            "     Year  Month  Segment Region           KPI Value Type      Value\n",
            "293  2020      5  Clients  India  Lv4_Visitors    Actuals  369.86899\n",
            "--------------------------------------------------------------------- \n",
            "\n",
            "The shape of dataset with outlier is: (1572, 7)\n",
            "--------------------------------------------------------------------- \n",
            "\n",
            "The shape of dataset without outlier is: (1571, 7)\n",
            "--------------------------------------------------------------------- \n",
            "\n"
          ]
        },
        {
          "output_type": "execute_result",
          "data": {
            "text/plain": [
              "      Year  Month    Segment      Region           KPI Value Type     Value\n",
              "0     2020     12    Clients       India  Lv1_Visitors    Actuals  36.65558\n",
              "1     2020     12    Clients       India  Lv2_Visitors    Actuals  26.89569\n",
              "2     2020     12    Clients       India  Lv3_Visitors    Actuals  13.00571\n",
              "3     2020     12    Clients       India  Lv4_Visitors    Actuals   7.17608\n",
              "4     2020     12    Clients       India  Lv3_Visitors    Actuals   7.06677\n",
              "...    ...    ...        ...         ...           ...        ...       ...\n",
              "1567  2022      1  Customers    Dehradun  Lv5_Visitors    Actuals   0.01693\n",
              "1568  2022      1  Customers  Aurangabad  Lv4_Visitors    Actuals   0.01428\n",
              "1569  2022      1  Customers      Ujjain  Lv5_Visitors    Actuals   0.01311\n",
              "1570  2022      1  Customers   Faridabad  Lv5_Visitors    Actuals   0.01071\n",
              "1571  2022      1  Customers  Aurangabad  Lv5_Visitors    Actuals   0.00527\n",
              "\n",
              "[1571 rows x 7 columns]"
            ],
            "text/html": [
              "\n",
              "  <div id=\"df-04bc92b3-b372-40ba-a13f-3dd06632cd50\">\n",
              "    <div class=\"colab-df-container\">\n",
              "      <div>\n",
              "<style scoped>\n",
              "    .dataframe tbody tr th:only-of-type {\n",
              "        vertical-align: middle;\n",
              "    }\n",
              "\n",
              "    .dataframe tbody tr th {\n",
              "        vertical-align: top;\n",
              "    }\n",
              "\n",
              "    .dataframe thead th {\n",
              "        text-align: right;\n",
              "    }\n",
              "</style>\n",
              "<table border=\"1\" class=\"dataframe\">\n",
              "  <thead>\n",
              "    <tr style=\"text-align: right;\">\n",
              "      <th></th>\n",
              "      <th>Year</th>\n",
              "      <th>Month</th>\n",
              "      <th>Segment</th>\n",
              "      <th>Region</th>\n",
              "      <th>KPI</th>\n",
              "      <th>Value Type</th>\n",
              "      <th>Value</th>\n",
              "    </tr>\n",
              "  </thead>\n",
              "  <tbody>\n",
              "    <tr>\n",
              "      <th>0</th>\n",
              "      <td>2020</td>\n",
              "      <td>12</td>\n",
              "      <td>Clients</td>\n",
              "      <td>India</td>\n",
              "      <td>Lv1_Visitors</td>\n",
              "      <td>Actuals</td>\n",
              "      <td>36.65558</td>\n",
              "    </tr>\n",
              "    <tr>\n",
              "      <th>1</th>\n",
              "      <td>2020</td>\n",
              "      <td>12</td>\n",
              "      <td>Clients</td>\n",
              "      <td>India</td>\n",
              "      <td>Lv2_Visitors</td>\n",
              "      <td>Actuals</td>\n",
              "      <td>26.89569</td>\n",
              "    </tr>\n",
              "    <tr>\n",
              "      <th>2</th>\n",
              "      <td>2020</td>\n",
              "      <td>12</td>\n",
              "      <td>Clients</td>\n",
              "      <td>India</td>\n",
              "      <td>Lv3_Visitors</td>\n",
              "      <td>Actuals</td>\n",
              "      <td>13.00571</td>\n",
              "    </tr>\n",
              "    <tr>\n",
              "      <th>3</th>\n",
              "      <td>2020</td>\n",
              "      <td>12</td>\n",
              "      <td>Clients</td>\n",
              "      <td>India</td>\n",
              "      <td>Lv4_Visitors</td>\n",
              "      <td>Actuals</td>\n",
              "      <td>7.17608</td>\n",
              "    </tr>\n",
              "    <tr>\n",
              "      <th>4</th>\n",
              "      <td>2020</td>\n",
              "      <td>12</td>\n",
              "      <td>Clients</td>\n",
              "      <td>India</td>\n",
              "      <td>Lv3_Visitors</td>\n",
              "      <td>Actuals</td>\n",
              "      <td>7.06677</td>\n",
              "    </tr>\n",
              "    <tr>\n",
              "      <th>...</th>\n",
              "      <td>...</td>\n",
              "      <td>...</td>\n",
              "      <td>...</td>\n",
              "      <td>...</td>\n",
              "      <td>...</td>\n",
              "      <td>...</td>\n",
              "      <td>...</td>\n",
              "    </tr>\n",
              "    <tr>\n",
              "      <th>1567</th>\n",
              "      <td>2022</td>\n",
              "      <td>1</td>\n",
              "      <td>Customers</td>\n",
              "      <td>Dehradun</td>\n",
              "      <td>Lv5_Visitors</td>\n",
              "      <td>Actuals</td>\n",
              "      <td>0.01693</td>\n",
              "    </tr>\n",
              "    <tr>\n",
              "      <th>1568</th>\n",
              "      <td>2022</td>\n",
              "      <td>1</td>\n",
              "      <td>Customers</td>\n",
              "      <td>Aurangabad</td>\n",
              "      <td>Lv4_Visitors</td>\n",
              "      <td>Actuals</td>\n",
              "      <td>0.01428</td>\n",
              "    </tr>\n",
              "    <tr>\n",
              "      <th>1569</th>\n",
              "      <td>2022</td>\n",
              "      <td>1</td>\n",
              "      <td>Customers</td>\n",
              "      <td>Ujjain</td>\n",
              "      <td>Lv5_Visitors</td>\n",
              "      <td>Actuals</td>\n",
              "      <td>0.01311</td>\n",
              "    </tr>\n",
              "    <tr>\n",
              "      <th>1570</th>\n",
              "      <td>2022</td>\n",
              "      <td>1</td>\n",
              "      <td>Customers</td>\n",
              "      <td>Faridabad</td>\n",
              "      <td>Lv5_Visitors</td>\n",
              "      <td>Actuals</td>\n",
              "      <td>0.01071</td>\n",
              "    </tr>\n",
              "    <tr>\n",
              "      <th>1571</th>\n",
              "      <td>2022</td>\n",
              "      <td>1</td>\n",
              "      <td>Customers</td>\n",
              "      <td>Aurangabad</td>\n",
              "      <td>Lv5_Visitors</td>\n",
              "      <td>Actuals</td>\n",
              "      <td>0.00527</td>\n",
              "    </tr>\n",
              "  </tbody>\n",
              "</table>\n",
              "<p>1571 rows × 7 columns</p>\n",
              "</div>\n",
              "      <button class=\"colab-df-convert\" onclick=\"convertToInteractive('df-04bc92b3-b372-40ba-a13f-3dd06632cd50')\"\n",
              "              title=\"Convert this dataframe to an interactive table.\"\n",
              "              style=\"display:none;\">\n",
              "        \n",
              "  <svg xmlns=\"http://www.w3.org/2000/svg\" height=\"24px\"viewBox=\"0 0 24 24\"\n",
              "       width=\"24px\">\n",
              "    <path d=\"M0 0h24v24H0V0z\" fill=\"none\"/>\n",
              "    <path d=\"M18.56 5.44l.94 2.06.94-2.06 2.06-.94-2.06-.94-.94-2.06-.94 2.06-2.06.94zm-11 1L8.5 8.5l.94-2.06 2.06-.94-2.06-.94L8.5 2.5l-.94 2.06-2.06.94zm10 10l.94 2.06.94-2.06 2.06-.94-2.06-.94-.94-2.06-.94 2.06-2.06.94z\"/><path d=\"M17.41 7.96l-1.37-1.37c-.4-.4-.92-.59-1.43-.59-.52 0-1.04.2-1.43.59L10.3 9.45l-7.72 7.72c-.78.78-.78 2.05 0 2.83L4 21.41c.39.39.9.59 1.41.59.51 0 1.02-.2 1.41-.59l7.78-7.78 2.81-2.81c.8-.78.8-2.07 0-2.86zM5.41 20L4 18.59l7.72-7.72 1.47 1.35L5.41 20z\"/>\n",
              "  </svg>\n",
              "      </button>\n",
              "      \n",
              "  <style>\n",
              "    .colab-df-container {\n",
              "      display:flex;\n",
              "      flex-wrap:wrap;\n",
              "      gap: 12px;\n",
              "    }\n",
              "\n",
              "    .colab-df-convert {\n",
              "      background-color: #E8F0FE;\n",
              "      border: none;\n",
              "      border-radius: 50%;\n",
              "      cursor: pointer;\n",
              "      display: none;\n",
              "      fill: #1967D2;\n",
              "      height: 32px;\n",
              "      padding: 0 0 0 0;\n",
              "      width: 32px;\n",
              "    }\n",
              "\n",
              "    .colab-df-convert:hover {\n",
              "      background-color: #E2EBFA;\n",
              "      box-shadow: 0px 1px 2px rgba(60, 64, 67, 0.3), 0px 1px 3px 1px rgba(60, 64, 67, 0.15);\n",
              "      fill: #174EA6;\n",
              "    }\n",
              "\n",
              "    [theme=dark] .colab-df-convert {\n",
              "      background-color: #3B4455;\n",
              "      fill: #D2E3FC;\n",
              "    }\n",
              "\n",
              "    [theme=dark] .colab-df-convert:hover {\n",
              "      background-color: #434B5C;\n",
              "      box-shadow: 0px 1px 3px 1px rgba(0, 0, 0, 0.15);\n",
              "      filter: drop-shadow(0px 1px 2px rgba(0, 0, 0, 0.3));\n",
              "      fill: #FFFFFF;\n",
              "    }\n",
              "  </style>\n",
              "\n",
              "      <script>\n",
              "        const buttonEl =\n",
              "          document.querySelector('#df-04bc92b3-b372-40ba-a13f-3dd06632cd50 button.colab-df-convert');\n",
              "        buttonEl.style.display =\n",
              "          google.colab.kernel.accessAllowed ? 'block' : 'none';\n",
              "\n",
              "        async function convertToInteractive(key) {\n",
              "          const element = document.querySelector('#df-04bc92b3-b372-40ba-a13f-3dd06632cd50');\n",
              "          const dataTable =\n",
              "            await google.colab.kernel.invokeFunction('convertToInteractive',\n",
              "                                                     [key], {});\n",
              "          if (!dataTable) return;\n",
              "\n",
              "          const docLinkHtml = 'Like what you see? Visit the ' +\n",
              "            '<a target=\"_blank\" href=https://colab.research.google.com/notebooks/data_table.ipynb>data table notebook</a>'\n",
              "            + ' to learn more about interactive tables.';\n",
              "          element.innerHTML = '';\n",
              "          dataTable['output_type'] = 'display_data';\n",
              "          await google.colab.output.renderOutput(dataTable, element);\n",
              "          const docLink = document.createElement('div');\n",
              "          docLink.innerHTML = docLinkHtml;\n",
              "          element.appendChild(docLink);\n",
              "        }\n",
              "      </script>\n",
              "    </div>\n",
              "  </div>\n",
              "  "
            ]
          },
          "metadata": {},
          "execution_count": 61
        }
      ]
    },
    {
      "cell_type": "markdown",
      "source": [
        "# Part 2- Prescriptive Analysis"
      ],
      "metadata": {
        "id": "EJBmD5hZFsad"
      }
    },
    {
      "cell_type": "markdown",
      "source": [
        "##  2.1 Transpose the data into a view as the reference given, (numbers presented here are not precise)\n",
        "\n"
      ],
      "metadata": {
        "id": "-ydUk4X4F99N"
      }
    },
    {
      "cell_type": "markdown",
      "source": [
        "Check the original dataset"
      ],
      "metadata": {
        "id": "udYeYJXcHHh8"
      }
    },
    {
      "cell_type": "code",
      "source": [
        "df.head()"
      ],
      "metadata": {
        "id": "XTWtcDZoF7r5",
        "colab": {
          "base_uri": "https://localhost:8080/",
          "height": 0
        },
        "outputId": "8e742aac-3b6e-421f-caae-9e579041a4ba"
      },
      "execution_count": 62,
      "outputs": [
        {
          "output_type": "execute_result",
          "data": {
            "text/plain": [
              "   Year  Month  Segment Region           KPI Value Type     Value\n",
              "0  2020     12  Clients  India  Lv1_Visitors    Actuals  36.65558\n",
              "1  2020     12  Clients  India  Lv2_Visitors    Actuals  26.89569\n",
              "2  2020     12  Clients  India  Lv3_Visitors    Actuals  13.00571\n",
              "3  2020     12  Clients  India  Lv4_Visitors    Actuals   7.17608\n",
              "4  2020     12  Clients  India  Lv3_Visitors    Actuals   7.06677"
            ],
            "text/html": [
              "\n",
              "  <div id=\"df-0cea3297-d4ef-4060-bb33-e466ff6aa0a2\">\n",
              "    <div class=\"colab-df-container\">\n",
              "      <div>\n",
              "<style scoped>\n",
              "    .dataframe tbody tr th:only-of-type {\n",
              "        vertical-align: middle;\n",
              "    }\n",
              "\n",
              "    .dataframe tbody tr th {\n",
              "        vertical-align: top;\n",
              "    }\n",
              "\n",
              "    .dataframe thead th {\n",
              "        text-align: right;\n",
              "    }\n",
              "</style>\n",
              "<table border=\"1\" class=\"dataframe\">\n",
              "  <thead>\n",
              "    <tr style=\"text-align: right;\">\n",
              "      <th></th>\n",
              "      <th>Year</th>\n",
              "      <th>Month</th>\n",
              "      <th>Segment</th>\n",
              "      <th>Region</th>\n",
              "      <th>KPI</th>\n",
              "      <th>Value Type</th>\n",
              "      <th>Value</th>\n",
              "    </tr>\n",
              "  </thead>\n",
              "  <tbody>\n",
              "    <tr>\n",
              "      <th>0</th>\n",
              "      <td>2020</td>\n",
              "      <td>12</td>\n",
              "      <td>Clients</td>\n",
              "      <td>India</td>\n",
              "      <td>Lv1_Visitors</td>\n",
              "      <td>Actuals</td>\n",
              "      <td>36.65558</td>\n",
              "    </tr>\n",
              "    <tr>\n",
              "      <th>1</th>\n",
              "      <td>2020</td>\n",
              "      <td>12</td>\n",
              "      <td>Clients</td>\n",
              "      <td>India</td>\n",
              "      <td>Lv2_Visitors</td>\n",
              "      <td>Actuals</td>\n",
              "      <td>26.89569</td>\n",
              "    </tr>\n",
              "    <tr>\n",
              "      <th>2</th>\n",
              "      <td>2020</td>\n",
              "      <td>12</td>\n",
              "      <td>Clients</td>\n",
              "      <td>India</td>\n",
              "      <td>Lv3_Visitors</td>\n",
              "      <td>Actuals</td>\n",
              "      <td>13.00571</td>\n",
              "    </tr>\n",
              "    <tr>\n",
              "      <th>3</th>\n",
              "      <td>2020</td>\n",
              "      <td>12</td>\n",
              "      <td>Clients</td>\n",
              "      <td>India</td>\n",
              "      <td>Lv4_Visitors</td>\n",
              "      <td>Actuals</td>\n",
              "      <td>7.17608</td>\n",
              "    </tr>\n",
              "    <tr>\n",
              "      <th>4</th>\n",
              "      <td>2020</td>\n",
              "      <td>12</td>\n",
              "      <td>Clients</td>\n",
              "      <td>India</td>\n",
              "      <td>Lv3_Visitors</td>\n",
              "      <td>Actuals</td>\n",
              "      <td>7.06677</td>\n",
              "    </tr>\n",
              "  </tbody>\n",
              "</table>\n",
              "</div>\n",
              "      <button class=\"colab-df-convert\" onclick=\"convertToInteractive('df-0cea3297-d4ef-4060-bb33-e466ff6aa0a2')\"\n",
              "              title=\"Convert this dataframe to an interactive table.\"\n",
              "              style=\"display:none;\">\n",
              "        \n",
              "  <svg xmlns=\"http://www.w3.org/2000/svg\" height=\"24px\"viewBox=\"0 0 24 24\"\n",
              "       width=\"24px\">\n",
              "    <path d=\"M0 0h24v24H0V0z\" fill=\"none\"/>\n",
              "    <path d=\"M18.56 5.44l.94 2.06.94-2.06 2.06-.94-2.06-.94-.94-2.06-.94 2.06-2.06.94zm-11 1L8.5 8.5l.94-2.06 2.06-.94-2.06-.94L8.5 2.5l-.94 2.06-2.06.94zm10 10l.94 2.06.94-2.06 2.06-.94-2.06-.94-.94-2.06-.94 2.06-2.06.94z\"/><path d=\"M17.41 7.96l-1.37-1.37c-.4-.4-.92-.59-1.43-.59-.52 0-1.04.2-1.43.59L10.3 9.45l-7.72 7.72c-.78.78-.78 2.05 0 2.83L4 21.41c.39.39.9.59 1.41.59.51 0 1.02-.2 1.41-.59l7.78-7.78 2.81-2.81c.8-.78.8-2.07 0-2.86zM5.41 20L4 18.59l7.72-7.72 1.47 1.35L5.41 20z\"/>\n",
              "  </svg>\n",
              "      </button>\n",
              "      \n",
              "  <style>\n",
              "    .colab-df-container {\n",
              "      display:flex;\n",
              "      flex-wrap:wrap;\n",
              "      gap: 12px;\n",
              "    }\n",
              "\n",
              "    .colab-df-convert {\n",
              "      background-color: #E8F0FE;\n",
              "      border: none;\n",
              "      border-radius: 50%;\n",
              "      cursor: pointer;\n",
              "      display: none;\n",
              "      fill: #1967D2;\n",
              "      height: 32px;\n",
              "      padding: 0 0 0 0;\n",
              "      width: 32px;\n",
              "    }\n",
              "\n",
              "    .colab-df-convert:hover {\n",
              "      background-color: #E2EBFA;\n",
              "      box-shadow: 0px 1px 2px rgba(60, 64, 67, 0.3), 0px 1px 3px 1px rgba(60, 64, 67, 0.15);\n",
              "      fill: #174EA6;\n",
              "    }\n",
              "\n",
              "    [theme=dark] .colab-df-convert {\n",
              "      background-color: #3B4455;\n",
              "      fill: #D2E3FC;\n",
              "    }\n",
              "\n",
              "    [theme=dark] .colab-df-convert:hover {\n",
              "      background-color: #434B5C;\n",
              "      box-shadow: 0px 1px 3px 1px rgba(0, 0, 0, 0.15);\n",
              "      filter: drop-shadow(0px 1px 2px rgba(0, 0, 0, 0.3));\n",
              "      fill: #FFFFFF;\n",
              "    }\n",
              "  </style>\n",
              "\n",
              "      <script>\n",
              "        const buttonEl =\n",
              "          document.querySelector('#df-0cea3297-d4ef-4060-bb33-e466ff6aa0a2 button.colab-df-convert');\n",
              "        buttonEl.style.display =\n",
              "          google.colab.kernel.accessAllowed ? 'block' : 'none';\n",
              "\n",
              "        async function convertToInteractive(key) {\n",
              "          const element = document.querySelector('#df-0cea3297-d4ef-4060-bb33-e466ff6aa0a2');\n",
              "          const dataTable =\n",
              "            await google.colab.kernel.invokeFunction('convertToInteractive',\n",
              "                                                     [key], {});\n",
              "          if (!dataTable) return;\n",
              "\n",
              "          const docLinkHtml = 'Like what you see? Visit the ' +\n",
              "            '<a target=\"_blank\" href=https://colab.research.google.com/notebooks/data_table.ipynb>data table notebook</a>'\n",
              "            + ' to learn more about interactive tables.';\n",
              "          element.innerHTML = '';\n",
              "          dataTable['output_type'] = 'display_data';\n",
              "          await google.colab.output.renderOutput(dataTable, element);\n",
              "          const docLink = document.createElement('div');\n",
              "          docLink.innerHTML = docLinkHtml;\n",
              "          element.appendChild(docLink);\n",
              "        }\n",
              "      </script>\n",
              "    </div>\n",
              "  </div>\n",
              "  "
            ]
          },
          "metadata": {},
          "execution_count": 62
        }
      ]
    },
    {
      "cell_type": "markdown",
      "source": [
        "Transpose the data as per the requirements i.e to segerrate data based on KPI"
      ],
      "metadata": {
        "id": "fyDtUb77HQHm"
      }
    },
    {
      "cell_type": "code",
      "source": [
        "# Creating a pivotable to seggregate the KPI values\n",
        "transformed_df = df.pivot_table(values=\"Value\", index=[\"Year\",\"Month\",\"Segment\",\"Region\",\"Value Type\"], columns=\"KPI\", aggfunc=np.sum)\n",
        "\n",
        "# Removing multilevel columns to make it like desired output\n",
        "transformed_df.columns.name = None\n",
        "transformed_df.reset_index(inplace=True)"
      ],
      "metadata": {
        "id": "0CjJ8qCxHPGI"
      },
      "execution_count": 63,
      "outputs": []
    },
    {
      "cell_type": "markdown",
      "source": [
        "Displaying the transformed data"
      ],
      "metadata": {
        "id": "M7h_DDKcLlXo"
      }
    },
    {
      "cell_type": "code",
      "source": [
        "transformed_df"
      ],
      "metadata": {
        "colab": {
          "base_uri": "https://localhost:8080/",
          "height": 0
        },
        "id": "abc2eFjDLjR3",
        "outputId": "76c56a9d-53c7-4de6-e37c-ed96e69804d3"
      },
      "execution_count": 64,
      "outputs": [
        {
          "output_type": "execute_result",
          "data": {
            "text/plain": [
              "     Year  Month    Segment      Region Value Type  Lv1_Visitors  \\\n",
              "0    2020      1    Clients       India    Actuals      33.22789   \n",
              "1    2020      1  Customers  Aurangabad    Actuals       0.07540   \n",
              "2    2020      1  Customers    Dehradun    Actuals       0.28903   \n",
              "3    2020      1  Customers   Faridabad    Actuals       0.14750   \n",
              "4    2020      1  Customers       India    Actuals       4.24743   \n",
              "..    ...    ...        ...         ...        ...           ...   \n",
              "295  2022     12  Customers    Dehradun    Actuals       0.28445   \n",
              "296  2022     12  Customers   Faridabad    Actuals       0.43786   \n",
              "297  2022     12  Customers       India    Actuals       4.09152   \n",
              "298  2022     12  Customers      Uddepy    Actuals       0.81802   \n",
              "299  2022     12  Customers      Ujjain    Actuals       0.18327   \n",
              "\n",
              "     Lv2_Visitors  Lv3_Visitors  Lv4_Visitors  Lv5_Visitors  \n",
              "0        23.04318      24.10633      11.57186       3.63939  \n",
              "1         0.04992       0.06850       0.02157       0.00934  \n",
              "2         0.21332       0.25380       0.08578       0.03875  \n",
              "3         0.12968       0.17720       0.08025       0.02344  \n",
              "4         3.26618       3.71396       1.58246       0.42569  \n",
              "..            ...           ...           ...           ...  \n",
              "295       0.16806       0.08196       0.02561       0.00357  \n",
              "296       0.31130       0.21086       0.04815       0.00399  \n",
              "297       2.87220       2.05978       0.64707       0.04625  \n",
              "298       0.49203       0.41606       0.16241       0.01492  \n",
              "299       0.11600       0.06821       0.02556       0.00293  \n",
              "\n",
              "[300 rows x 10 columns]"
            ],
            "text/html": [
              "\n",
              "  <div id=\"df-d46f0d2e-16a9-4b98-938a-8cc2f1832774\">\n",
              "    <div class=\"colab-df-container\">\n",
              "      <div>\n",
              "<style scoped>\n",
              "    .dataframe tbody tr th:only-of-type {\n",
              "        vertical-align: middle;\n",
              "    }\n",
              "\n",
              "    .dataframe tbody tr th {\n",
              "        vertical-align: top;\n",
              "    }\n",
              "\n",
              "    .dataframe thead th {\n",
              "        text-align: right;\n",
              "    }\n",
              "</style>\n",
              "<table border=\"1\" class=\"dataframe\">\n",
              "  <thead>\n",
              "    <tr style=\"text-align: right;\">\n",
              "      <th></th>\n",
              "      <th>Year</th>\n",
              "      <th>Month</th>\n",
              "      <th>Segment</th>\n",
              "      <th>Region</th>\n",
              "      <th>Value Type</th>\n",
              "      <th>Lv1_Visitors</th>\n",
              "      <th>Lv2_Visitors</th>\n",
              "      <th>Lv3_Visitors</th>\n",
              "      <th>Lv4_Visitors</th>\n",
              "      <th>Lv5_Visitors</th>\n",
              "    </tr>\n",
              "  </thead>\n",
              "  <tbody>\n",
              "    <tr>\n",
              "      <th>0</th>\n",
              "      <td>2020</td>\n",
              "      <td>1</td>\n",
              "      <td>Clients</td>\n",
              "      <td>India</td>\n",
              "      <td>Actuals</td>\n",
              "      <td>33.22789</td>\n",
              "      <td>23.04318</td>\n",
              "      <td>24.10633</td>\n",
              "      <td>11.57186</td>\n",
              "      <td>3.63939</td>\n",
              "    </tr>\n",
              "    <tr>\n",
              "      <th>1</th>\n",
              "      <td>2020</td>\n",
              "      <td>1</td>\n",
              "      <td>Customers</td>\n",
              "      <td>Aurangabad</td>\n",
              "      <td>Actuals</td>\n",
              "      <td>0.07540</td>\n",
              "      <td>0.04992</td>\n",
              "      <td>0.06850</td>\n",
              "      <td>0.02157</td>\n",
              "      <td>0.00934</td>\n",
              "    </tr>\n",
              "    <tr>\n",
              "      <th>2</th>\n",
              "      <td>2020</td>\n",
              "      <td>1</td>\n",
              "      <td>Customers</td>\n",
              "      <td>Dehradun</td>\n",
              "      <td>Actuals</td>\n",
              "      <td>0.28903</td>\n",
              "      <td>0.21332</td>\n",
              "      <td>0.25380</td>\n",
              "      <td>0.08578</td>\n",
              "      <td>0.03875</td>\n",
              "    </tr>\n",
              "    <tr>\n",
              "      <th>3</th>\n",
              "      <td>2020</td>\n",
              "      <td>1</td>\n",
              "      <td>Customers</td>\n",
              "      <td>Faridabad</td>\n",
              "      <td>Actuals</td>\n",
              "      <td>0.14750</td>\n",
              "      <td>0.12968</td>\n",
              "      <td>0.17720</td>\n",
              "      <td>0.08025</td>\n",
              "      <td>0.02344</td>\n",
              "    </tr>\n",
              "    <tr>\n",
              "      <th>4</th>\n",
              "      <td>2020</td>\n",
              "      <td>1</td>\n",
              "      <td>Customers</td>\n",
              "      <td>India</td>\n",
              "      <td>Actuals</td>\n",
              "      <td>4.24743</td>\n",
              "      <td>3.26618</td>\n",
              "      <td>3.71396</td>\n",
              "      <td>1.58246</td>\n",
              "      <td>0.42569</td>\n",
              "    </tr>\n",
              "    <tr>\n",
              "      <th>...</th>\n",
              "      <td>...</td>\n",
              "      <td>...</td>\n",
              "      <td>...</td>\n",
              "      <td>...</td>\n",
              "      <td>...</td>\n",
              "      <td>...</td>\n",
              "      <td>...</td>\n",
              "      <td>...</td>\n",
              "      <td>...</td>\n",
              "      <td>...</td>\n",
              "    </tr>\n",
              "    <tr>\n",
              "      <th>295</th>\n",
              "      <td>2022</td>\n",
              "      <td>12</td>\n",
              "      <td>Customers</td>\n",
              "      <td>Dehradun</td>\n",
              "      <td>Actuals</td>\n",
              "      <td>0.28445</td>\n",
              "      <td>0.16806</td>\n",
              "      <td>0.08196</td>\n",
              "      <td>0.02561</td>\n",
              "      <td>0.00357</td>\n",
              "    </tr>\n",
              "    <tr>\n",
              "      <th>296</th>\n",
              "      <td>2022</td>\n",
              "      <td>12</td>\n",
              "      <td>Customers</td>\n",
              "      <td>Faridabad</td>\n",
              "      <td>Actuals</td>\n",
              "      <td>0.43786</td>\n",
              "      <td>0.31130</td>\n",
              "      <td>0.21086</td>\n",
              "      <td>0.04815</td>\n",
              "      <td>0.00399</td>\n",
              "    </tr>\n",
              "    <tr>\n",
              "      <th>297</th>\n",
              "      <td>2022</td>\n",
              "      <td>12</td>\n",
              "      <td>Customers</td>\n",
              "      <td>India</td>\n",
              "      <td>Actuals</td>\n",
              "      <td>4.09152</td>\n",
              "      <td>2.87220</td>\n",
              "      <td>2.05978</td>\n",
              "      <td>0.64707</td>\n",
              "      <td>0.04625</td>\n",
              "    </tr>\n",
              "    <tr>\n",
              "      <th>298</th>\n",
              "      <td>2022</td>\n",
              "      <td>12</td>\n",
              "      <td>Customers</td>\n",
              "      <td>Uddepy</td>\n",
              "      <td>Actuals</td>\n",
              "      <td>0.81802</td>\n",
              "      <td>0.49203</td>\n",
              "      <td>0.41606</td>\n",
              "      <td>0.16241</td>\n",
              "      <td>0.01492</td>\n",
              "    </tr>\n",
              "    <tr>\n",
              "      <th>299</th>\n",
              "      <td>2022</td>\n",
              "      <td>12</td>\n",
              "      <td>Customers</td>\n",
              "      <td>Ujjain</td>\n",
              "      <td>Actuals</td>\n",
              "      <td>0.18327</td>\n",
              "      <td>0.11600</td>\n",
              "      <td>0.06821</td>\n",
              "      <td>0.02556</td>\n",
              "      <td>0.00293</td>\n",
              "    </tr>\n",
              "  </tbody>\n",
              "</table>\n",
              "<p>300 rows × 10 columns</p>\n",
              "</div>\n",
              "      <button class=\"colab-df-convert\" onclick=\"convertToInteractive('df-d46f0d2e-16a9-4b98-938a-8cc2f1832774')\"\n",
              "              title=\"Convert this dataframe to an interactive table.\"\n",
              "              style=\"display:none;\">\n",
              "        \n",
              "  <svg xmlns=\"http://www.w3.org/2000/svg\" height=\"24px\"viewBox=\"0 0 24 24\"\n",
              "       width=\"24px\">\n",
              "    <path d=\"M0 0h24v24H0V0z\" fill=\"none\"/>\n",
              "    <path d=\"M18.56 5.44l.94 2.06.94-2.06 2.06-.94-2.06-.94-.94-2.06-.94 2.06-2.06.94zm-11 1L8.5 8.5l.94-2.06 2.06-.94-2.06-.94L8.5 2.5l-.94 2.06-2.06.94zm10 10l.94 2.06.94-2.06 2.06-.94-2.06-.94-.94-2.06-.94 2.06-2.06.94z\"/><path d=\"M17.41 7.96l-1.37-1.37c-.4-.4-.92-.59-1.43-.59-.52 0-1.04.2-1.43.59L10.3 9.45l-7.72 7.72c-.78.78-.78 2.05 0 2.83L4 21.41c.39.39.9.59 1.41.59.51 0 1.02-.2 1.41-.59l7.78-7.78 2.81-2.81c.8-.78.8-2.07 0-2.86zM5.41 20L4 18.59l7.72-7.72 1.47 1.35L5.41 20z\"/>\n",
              "  </svg>\n",
              "      </button>\n",
              "      \n",
              "  <style>\n",
              "    .colab-df-container {\n",
              "      display:flex;\n",
              "      flex-wrap:wrap;\n",
              "      gap: 12px;\n",
              "    }\n",
              "\n",
              "    .colab-df-convert {\n",
              "      background-color: #E8F0FE;\n",
              "      border: none;\n",
              "      border-radius: 50%;\n",
              "      cursor: pointer;\n",
              "      display: none;\n",
              "      fill: #1967D2;\n",
              "      height: 32px;\n",
              "      padding: 0 0 0 0;\n",
              "      width: 32px;\n",
              "    }\n",
              "\n",
              "    .colab-df-convert:hover {\n",
              "      background-color: #E2EBFA;\n",
              "      box-shadow: 0px 1px 2px rgba(60, 64, 67, 0.3), 0px 1px 3px 1px rgba(60, 64, 67, 0.15);\n",
              "      fill: #174EA6;\n",
              "    }\n",
              "\n",
              "    [theme=dark] .colab-df-convert {\n",
              "      background-color: #3B4455;\n",
              "      fill: #D2E3FC;\n",
              "    }\n",
              "\n",
              "    [theme=dark] .colab-df-convert:hover {\n",
              "      background-color: #434B5C;\n",
              "      box-shadow: 0px 1px 3px 1px rgba(0, 0, 0, 0.15);\n",
              "      filter: drop-shadow(0px 1px 2px rgba(0, 0, 0, 0.3));\n",
              "      fill: #FFFFFF;\n",
              "    }\n",
              "  </style>\n",
              "\n",
              "      <script>\n",
              "        const buttonEl =\n",
              "          document.querySelector('#df-d46f0d2e-16a9-4b98-938a-8cc2f1832774 button.colab-df-convert');\n",
              "        buttonEl.style.display =\n",
              "          google.colab.kernel.accessAllowed ? 'block' : 'none';\n",
              "\n",
              "        async function convertToInteractive(key) {\n",
              "          const element = document.querySelector('#df-d46f0d2e-16a9-4b98-938a-8cc2f1832774');\n",
              "          const dataTable =\n",
              "            await google.colab.kernel.invokeFunction('convertToInteractive',\n",
              "                                                     [key], {});\n",
              "          if (!dataTable) return;\n",
              "\n",
              "          const docLinkHtml = 'Like what you see? Visit the ' +\n",
              "            '<a target=\"_blank\" href=https://colab.research.google.com/notebooks/data_table.ipynb>data table notebook</a>'\n",
              "            + ' to learn more about interactive tables.';\n",
              "          element.innerHTML = '';\n",
              "          dataTable['output_type'] = 'display_data';\n",
              "          await google.colab.output.renderOutput(dataTable, element);\n",
              "          const docLink = document.createElement('div');\n",
              "          docLink.innerHTML = docLinkHtml;\n",
              "          element.appendChild(docLink);\n",
              "        }\n",
              "      </script>\n",
              "    </div>\n",
              "  </div>\n",
              "  "
            ]
          },
          "metadata": {},
          "execution_count": 64
        }
      ]
    },
    {
      "cell_type": "markdown",
      "source": [
        "Insights:  \n",
        "* The shape of the transformed data is 300x10 whereas shape of original data was 1571x7"
      ],
      "metadata": {
        "id": "sg2lbWN3L9RU"
      }
    },
    {
      "cell_type": "markdown",
      "source": [
        "##  2.2  Assume you are a data analyst at Fittlyf company, analyze the data for the region performing worst in all the years and prescribe what could be the reason and how to improve the number of visitors from that region.\n",
        "\n",
        "\n"
      ],
      "metadata": {
        "id": "cC13z8ITRcZC"
      }
    },
    {
      "cell_type": "markdown",
      "source": [
        "To compare the performance of the region across all 3 years we will plot the contribution percentage of each region for each year."
      ],
      "metadata": {
        "id": "94GROMxj4IZt"
      }
    },
    {
      "cell_type": "code",
      "source": [
        "# Creating the dataset of relevent data from the original dataset\n",
        "df_region_compare = df.drop(columns=[\"Month\",\"Segment\",\"Value Type\"])\n",
        "\n",
        "# Display the data\n",
        "df_region_compare.head()"
      ],
      "metadata": {
        "colab": {
          "base_uri": "https://localhost:8080/",
          "height": 206
        },
        "id": "2kvjpn5JRpUh",
        "outputId": "ac94bf85-a578-4b38-9e5b-02c14b0075a6"
      },
      "execution_count": 65,
      "outputs": [
        {
          "output_type": "execute_result",
          "data": {
            "text/plain": [
              "   Year Region           KPI     Value\n",
              "0  2020  India  Lv1_Visitors  36.65558\n",
              "1  2020  India  Lv2_Visitors  26.89569\n",
              "2  2020  India  Lv3_Visitors  13.00571\n",
              "3  2020  India  Lv4_Visitors   7.17608\n",
              "4  2020  India  Lv3_Visitors   7.06677"
            ],
            "text/html": [
              "\n",
              "  <div id=\"df-d64c14a8-93be-4902-90d2-80157a7f997f\">\n",
              "    <div class=\"colab-df-container\">\n",
              "      <div>\n",
              "<style scoped>\n",
              "    .dataframe tbody tr th:only-of-type {\n",
              "        vertical-align: middle;\n",
              "    }\n",
              "\n",
              "    .dataframe tbody tr th {\n",
              "        vertical-align: top;\n",
              "    }\n",
              "\n",
              "    .dataframe thead th {\n",
              "        text-align: right;\n",
              "    }\n",
              "</style>\n",
              "<table border=\"1\" class=\"dataframe\">\n",
              "  <thead>\n",
              "    <tr style=\"text-align: right;\">\n",
              "      <th></th>\n",
              "      <th>Year</th>\n",
              "      <th>Region</th>\n",
              "      <th>KPI</th>\n",
              "      <th>Value</th>\n",
              "    </tr>\n",
              "  </thead>\n",
              "  <tbody>\n",
              "    <tr>\n",
              "      <th>0</th>\n",
              "      <td>2020</td>\n",
              "      <td>India</td>\n",
              "      <td>Lv1_Visitors</td>\n",
              "      <td>36.65558</td>\n",
              "    </tr>\n",
              "    <tr>\n",
              "      <th>1</th>\n",
              "      <td>2020</td>\n",
              "      <td>India</td>\n",
              "      <td>Lv2_Visitors</td>\n",
              "      <td>26.89569</td>\n",
              "    </tr>\n",
              "    <tr>\n",
              "      <th>2</th>\n",
              "      <td>2020</td>\n",
              "      <td>India</td>\n",
              "      <td>Lv3_Visitors</td>\n",
              "      <td>13.00571</td>\n",
              "    </tr>\n",
              "    <tr>\n",
              "      <th>3</th>\n",
              "      <td>2020</td>\n",
              "      <td>India</td>\n",
              "      <td>Lv4_Visitors</td>\n",
              "      <td>7.17608</td>\n",
              "    </tr>\n",
              "    <tr>\n",
              "      <th>4</th>\n",
              "      <td>2020</td>\n",
              "      <td>India</td>\n",
              "      <td>Lv3_Visitors</td>\n",
              "      <td>7.06677</td>\n",
              "    </tr>\n",
              "  </tbody>\n",
              "</table>\n",
              "</div>\n",
              "      <button class=\"colab-df-convert\" onclick=\"convertToInteractive('df-d64c14a8-93be-4902-90d2-80157a7f997f')\"\n",
              "              title=\"Convert this dataframe to an interactive table.\"\n",
              "              style=\"display:none;\">\n",
              "        \n",
              "  <svg xmlns=\"http://www.w3.org/2000/svg\" height=\"24px\"viewBox=\"0 0 24 24\"\n",
              "       width=\"24px\">\n",
              "    <path d=\"M0 0h24v24H0V0z\" fill=\"none\"/>\n",
              "    <path d=\"M18.56 5.44l.94 2.06.94-2.06 2.06-.94-2.06-.94-.94-2.06-.94 2.06-2.06.94zm-11 1L8.5 8.5l.94-2.06 2.06-.94-2.06-.94L8.5 2.5l-.94 2.06-2.06.94zm10 10l.94 2.06.94-2.06 2.06-.94-2.06-.94-.94-2.06-.94 2.06-2.06.94z\"/><path d=\"M17.41 7.96l-1.37-1.37c-.4-.4-.92-.59-1.43-.59-.52 0-1.04.2-1.43.59L10.3 9.45l-7.72 7.72c-.78.78-.78 2.05 0 2.83L4 21.41c.39.39.9.59 1.41.59.51 0 1.02-.2 1.41-.59l7.78-7.78 2.81-2.81c.8-.78.8-2.07 0-2.86zM5.41 20L4 18.59l7.72-7.72 1.47 1.35L5.41 20z\"/>\n",
              "  </svg>\n",
              "      </button>\n",
              "      \n",
              "  <style>\n",
              "    .colab-df-container {\n",
              "      display:flex;\n",
              "      flex-wrap:wrap;\n",
              "      gap: 12px;\n",
              "    }\n",
              "\n",
              "    .colab-df-convert {\n",
              "      background-color: #E8F0FE;\n",
              "      border: none;\n",
              "      border-radius: 50%;\n",
              "      cursor: pointer;\n",
              "      display: none;\n",
              "      fill: #1967D2;\n",
              "      height: 32px;\n",
              "      padding: 0 0 0 0;\n",
              "      width: 32px;\n",
              "    }\n",
              "\n",
              "    .colab-df-convert:hover {\n",
              "      background-color: #E2EBFA;\n",
              "      box-shadow: 0px 1px 2px rgba(60, 64, 67, 0.3), 0px 1px 3px 1px rgba(60, 64, 67, 0.15);\n",
              "      fill: #174EA6;\n",
              "    }\n",
              "\n",
              "    [theme=dark] .colab-df-convert {\n",
              "      background-color: #3B4455;\n",
              "      fill: #D2E3FC;\n",
              "    }\n",
              "\n",
              "    [theme=dark] .colab-df-convert:hover {\n",
              "      background-color: #434B5C;\n",
              "      box-shadow: 0px 1px 3px 1px rgba(0, 0, 0, 0.15);\n",
              "      filter: drop-shadow(0px 1px 2px rgba(0, 0, 0, 0.3));\n",
              "      fill: #FFFFFF;\n",
              "    }\n",
              "  </style>\n",
              "\n",
              "      <script>\n",
              "        const buttonEl =\n",
              "          document.querySelector('#df-d64c14a8-93be-4902-90d2-80157a7f997f button.colab-df-convert');\n",
              "        buttonEl.style.display =\n",
              "          google.colab.kernel.accessAllowed ? 'block' : 'none';\n",
              "\n",
              "        async function convertToInteractive(key) {\n",
              "          const element = document.querySelector('#df-d64c14a8-93be-4902-90d2-80157a7f997f');\n",
              "          const dataTable =\n",
              "            await google.colab.kernel.invokeFunction('convertToInteractive',\n",
              "                                                     [key], {});\n",
              "          if (!dataTable) return;\n",
              "\n",
              "          const docLinkHtml = 'Like what you see? Visit the ' +\n",
              "            '<a target=\"_blank\" href=https://colab.research.google.com/notebooks/data_table.ipynb>data table notebook</a>'\n",
              "            + ' to learn more about interactive tables.';\n",
              "          element.innerHTML = '';\n",
              "          dataTable['output_type'] = 'display_data';\n",
              "          await google.colab.output.renderOutput(dataTable, element);\n",
              "          const docLink = document.createElement('div');\n",
              "          docLink.innerHTML = docLinkHtml;\n",
              "          element.appendChild(docLink);\n",
              "        }\n",
              "      </script>\n",
              "    </div>\n",
              "  </div>\n",
              "  "
            ]
          },
          "metadata": {},
          "execution_count": 65
        }
      ]
    },
    {
      "cell_type": "markdown",
      "source": [
        "We will ignore \"Indore\" Region from analysis since it was introduced in the year 2022 and no prior data is present for comparison"
      ],
      "metadata": {
        "id": "sauVbAQSImZE"
      }
    },
    {
      "cell_type": "code",
      "source": [
        "df_region_compare = df_region_compare[df_region_compare[\"Region\"] != \"Indore\"]"
      ],
      "metadata": {
        "id": "mR0azLc4Ix65"
      },
      "execution_count": 66,
      "outputs": []
    },
    {
      "cell_type": "markdown",
      "source": [
        "Begin analysis to identify worst performing regions"
      ],
      "metadata": {
        "id": "OkcYRT-hJyqN"
      }
    },
    {
      "cell_type": "code",
      "source": [
        "# Grouping the the data based on region and year\n",
        "df_region_compare = df_region_compare.drop(columns=[\"KPI\"]).groupby(by=[\"Region\",\"Year\"]).sum()\n",
        "\n",
        "# Calculation the contribution percentage of all the regions with respect to each year\n",
        "df_region_compare[\"% Contribution\"] = 100*df_region_compare[\"Value\"]/df_region_compare.groupby(by=[\"Region\"])[\"Value\"].transform('sum')\n",
        "\n",
        "# Displaying the data\n",
        "df_region_compare"
      ],
      "metadata": {
        "colab": {
          "base_uri": "https://localhost:8080/",
          "height": 645
        },
        "id": "3h1KIIiAJjUo",
        "outputId": "8fda037f-84c3-4882-8af1-6c7611cb686b"
      },
      "execution_count": 67,
      "outputs": [
        {
          "output_type": "execute_result",
          "data": {
            "text/plain": [
              "                      Value  % Contribution\n",
              "Region     Year                            \n",
              "Aurangabad 2020     2.85497       36.508428\n",
              "           2021     3.00058       38.370441\n",
              "           2022     1.96448       25.121131\n",
              "Dehradun   2020    11.72070       11.362208\n",
              "           2021     9.30998        9.025222\n",
              "           2022    82.12445       79.612570\n",
              "Faridabad  2020    11.70281       36.219914\n",
              "           2021    11.39358       35.262855\n",
              "           2022     9.21404       28.517231\n",
              "India      2020  1464.70407       39.217888\n",
              "           2021  1161.42601       31.097527\n",
              "           2022  1108.65565       29.684585\n",
              "Uddepy     2020    43.76357       14.678728\n",
              "           2021    31.30906       10.501364\n",
              "           2022   223.07017       74.819908\n",
              "Ujjain     2020    11.76987       15.012057\n",
              "           2021     9.20026       11.734609\n",
              "           2022    57.43265       73.253334"
            ],
            "text/html": [
              "\n",
              "  <div id=\"df-15ad9ec0-722b-42fd-9c1d-6c478cf12e81\">\n",
              "    <div class=\"colab-df-container\">\n",
              "      <div>\n",
              "<style scoped>\n",
              "    .dataframe tbody tr th:only-of-type {\n",
              "        vertical-align: middle;\n",
              "    }\n",
              "\n",
              "    .dataframe tbody tr th {\n",
              "        vertical-align: top;\n",
              "    }\n",
              "\n",
              "    .dataframe thead th {\n",
              "        text-align: right;\n",
              "    }\n",
              "</style>\n",
              "<table border=\"1\" class=\"dataframe\">\n",
              "  <thead>\n",
              "    <tr style=\"text-align: right;\">\n",
              "      <th></th>\n",
              "      <th></th>\n",
              "      <th>Value</th>\n",
              "      <th>% Contribution</th>\n",
              "    </tr>\n",
              "    <tr>\n",
              "      <th>Region</th>\n",
              "      <th>Year</th>\n",
              "      <th></th>\n",
              "      <th></th>\n",
              "    </tr>\n",
              "  </thead>\n",
              "  <tbody>\n",
              "    <tr>\n",
              "      <th rowspan=\"3\" valign=\"top\">Aurangabad</th>\n",
              "      <th>2020</th>\n",
              "      <td>2.85497</td>\n",
              "      <td>36.508428</td>\n",
              "    </tr>\n",
              "    <tr>\n",
              "      <th>2021</th>\n",
              "      <td>3.00058</td>\n",
              "      <td>38.370441</td>\n",
              "    </tr>\n",
              "    <tr>\n",
              "      <th>2022</th>\n",
              "      <td>1.96448</td>\n",
              "      <td>25.121131</td>\n",
              "    </tr>\n",
              "    <tr>\n",
              "      <th rowspan=\"3\" valign=\"top\">Dehradun</th>\n",
              "      <th>2020</th>\n",
              "      <td>11.72070</td>\n",
              "      <td>11.362208</td>\n",
              "    </tr>\n",
              "    <tr>\n",
              "      <th>2021</th>\n",
              "      <td>9.30998</td>\n",
              "      <td>9.025222</td>\n",
              "    </tr>\n",
              "    <tr>\n",
              "      <th>2022</th>\n",
              "      <td>82.12445</td>\n",
              "      <td>79.612570</td>\n",
              "    </tr>\n",
              "    <tr>\n",
              "      <th rowspan=\"3\" valign=\"top\">Faridabad</th>\n",
              "      <th>2020</th>\n",
              "      <td>11.70281</td>\n",
              "      <td>36.219914</td>\n",
              "    </tr>\n",
              "    <tr>\n",
              "      <th>2021</th>\n",
              "      <td>11.39358</td>\n",
              "      <td>35.262855</td>\n",
              "    </tr>\n",
              "    <tr>\n",
              "      <th>2022</th>\n",
              "      <td>9.21404</td>\n",
              "      <td>28.517231</td>\n",
              "    </tr>\n",
              "    <tr>\n",
              "      <th rowspan=\"3\" valign=\"top\">India</th>\n",
              "      <th>2020</th>\n",
              "      <td>1464.70407</td>\n",
              "      <td>39.217888</td>\n",
              "    </tr>\n",
              "    <tr>\n",
              "      <th>2021</th>\n",
              "      <td>1161.42601</td>\n",
              "      <td>31.097527</td>\n",
              "    </tr>\n",
              "    <tr>\n",
              "      <th>2022</th>\n",
              "      <td>1108.65565</td>\n",
              "      <td>29.684585</td>\n",
              "    </tr>\n",
              "    <tr>\n",
              "      <th rowspan=\"3\" valign=\"top\">Uddepy</th>\n",
              "      <th>2020</th>\n",
              "      <td>43.76357</td>\n",
              "      <td>14.678728</td>\n",
              "    </tr>\n",
              "    <tr>\n",
              "      <th>2021</th>\n",
              "      <td>31.30906</td>\n",
              "      <td>10.501364</td>\n",
              "    </tr>\n",
              "    <tr>\n",
              "      <th>2022</th>\n",
              "      <td>223.07017</td>\n",
              "      <td>74.819908</td>\n",
              "    </tr>\n",
              "    <tr>\n",
              "      <th rowspan=\"3\" valign=\"top\">Ujjain</th>\n",
              "      <th>2020</th>\n",
              "      <td>11.76987</td>\n",
              "      <td>15.012057</td>\n",
              "    </tr>\n",
              "    <tr>\n",
              "      <th>2021</th>\n",
              "      <td>9.20026</td>\n",
              "      <td>11.734609</td>\n",
              "    </tr>\n",
              "    <tr>\n",
              "      <th>2022</th>\n",
              "      <td>57.43265</td>\n",
              "      <td>73.253334</td>\n",
              "    </tr>\n",
              "  </tbody>\n",
              "</table>\n",
              "</div>\n",
              "      <button class=\"colab-df-convert\" onclick=\"convertToInteractive('df-15ad9ec0-722b-42fd-9c1d-6c478cf12e81')\"\n",
              "              title=\"Convert this dataframe to an interactive table.\"\n",
              "              style=\"display:none;\">\n",
              "        \n",
              "  <svg xmlns=\"http://www.w3.org/2000/svg\" height=\"24px\"viewBox=\"0 0 24 24\"\n",
              "       width=\"24px\">\n",
              "    <path d=\"M0 0h24v24H0V0z\" fill=\"none\"/>\n",
              "    <path d=\"M18.56 5.44l.94 2.06.94-2.06 2.06-.94-2.06-.94-.94-2.06-.94 2.06-2.06.94zm-11 1L8.5 8.5l.94-2.06 2.06-.94-2.06-.94L8.5 2.5l-.94 2.06-2.06.94zm10 10l.94 2.06.94-2.06 2.06-.94-2.06-.94-.94-2.06-.94 2.06-2.06.94z\"/><path d=\"M17.41 7.96l-1.37-1.37c-.4-.4-.92-.59-1.43-.59-.52 0-1.04.2-1.43.59L10.3 9.45l-7.72 7.72c-.78.78-.78 2.05 0 2.83L4 21.41c.39.39.9.59 1.41.59.51 0 1.02-.2 1.41-.59l7.78-7.78 2.81-2.81c.8-.78.8-2.07 0-2.86zM5.41 20L4 18.59l7.72-7.72 1.47 1.35L5.41 20z\"/>\n",
              "  </svg>\n",
              "      </button>\n",
              "      \n",
              "  <style>\n",
              "    .colab-df-container {\n",
              "      display:flex;\n",
              "      flex-wrap:wrap;\n",
              "      gap: 12px;\n",
              "    }\n",
              "\n",
              "    .colab-df-convert {\n",
              "      background-color: #E8F0FE;\n",
              "      border: none;\n",
              "      border-radius: 50%;\n",
              "      cursor: pointer;\n",
              "      display: none;\n",
              "      fill: #1967D2;\n",
              "      height: 32px;\n",
              "      padding: 0 0 0 0;\n",
              "      width: 32px;\n",
              "    }\n",
              "\n",
              "    .colab-df-convert:hover {\n",
              "      background-color: #E2EBFA;\n",
              "      box-shadow: 0px 1px 2px rgba(60, 64, 67, 0.3), 0px 1px 3px 1px rgba(60, 64, 67, 0.15);\n",
              "      fill: #174EA6;\n",
              "    }\n",
              "\n",
              "    [theme=dark] .colab-df-convert {\n",
              "      background-color: #3B4455;\n",
              "      fill: #D2E3FC;\n",
              "    }\n",
              "\n",
              "    [theme=dark] .colab-df-convert:hover {\n",
              "      background-color: #434B5C;\n",
              "      box-shadow: 0px 1px 3px 1px rgba(0, 0, 0, 0.15);\n",
              "      filter: drop-shadow(0px 1px 2px rgba(0, 0, 0, 0.3));\n",
              "      fill: #FFFFFF;\n",
              "    }\n",
              "  </style>\n",
              "\n",
              "      <script>\n",
              "        const buttonEl =\n",
              "          document.querySelector('#df-15ad9ec0-722b-42fd-9c1d-6c478cf12e81 button.colab-df-convert');\n",
              "        buttonEl.style.display =\n",
              "          google.colab.kernel.accessAllowed ? 'block' : 'none';\n",
              "\n",
              "        async function convertToInteractive(key) {\n",
              "          const element = document.querySelector('#df-15ad9ec0-722b-42fd-9c1d-6c478cf12e81');\n",
              "          const dataTable =\n",
              "            await google.colab.kernel.invokeFunction('convertToInteractive',\n",
              "                                                     [key], {});\n",
              "          if (!dataTable) return;\n",
              "\n",
              "          const docLinkHtml = 'Like what you see? Visit the ' +\n",
              "            '<a target=\"_blank\" href=https://colab.research.google.com/notebooks/data_table.ipynb>data table notebook</a>'\n",
              "            + ' to learn more about interactive tables.';\n",
              "          element.innerHTML = '';\n",
              "          dataTable['output_type'] = 'display_data';\n",
              "          await google.colab.output.renderOutput(dataTable, element);\n",
              "          const docLink = document.createElement('div');\n",
              "          docLink.innerHTML = docLinkHtml;\n",
              "          element.appendChild(docLink);\n",
              "        }\n",
              "      </script>\n",
              "    </div>\n",
              "  </div>\n",
              "  "
            ]
          },
          "metadata": {},
          "execution_count": 67
        }
      ]
    },
    {
      "cell_type": "markdown",
      "source": [
        "Visualizing the percentage contribution of each region in each year"
      ],
      "metadata": {
        "id": "T1WuJT71IXJn"
      }
    },
    {
      "cell_type": "code",
      "source": [
        "# Sorting values for beautification of visualization\n",
        "df_region_compare.sort_values(by=\"% Contribution\", ascending=False, inplace=True)\n",
        "\n",
        "# Plotting the comparison graph\n",
        "plot = sns.catplot(data=df_region_compare.reset_index(),\n",
        "                   x=\"Region\", y=\"% Contribution\", hue=\"Year\",\n",
        "                   kind=\"bar\", palette=\"colorblind\",\n",
        "                   aspect=1.5, legend_out=False)\n",
        "\n",
        "plt.title(\"Performance comparison by Year\", pad=15)\n",
        "plt.grid(True, linewidth=0.5, linestyle=\"--\")\n",
        "plot.fig.show()"
      ],
      "metadata": {
        "colab": {
          "base_uri": "https://localhost:8080/",
          "height": 541
        },
        "id": "RY6_DRCbIV6x",
        "outputId": "d8815a70-c7bf-45eb-d588-5365735daae9"
      },
      "execution_count": 68,
      "outputs": [
        {
          "output_type": "display_data",
          "data": {
            "text/plain": [
              "<Figure size 750x500 with 1 Axes>"
            ],
            "image/png": "[encoded data removed]"
          },
          "metadata": {}
        }
      ]
    },
    {
      "cell_type": "markdown",
      "source": [
        "Insights:  \n",
        "* India, Aurangabad and Faridabad are worst performing regions as their total visitor count has decreased in the year 2022 compared to year 2020.\n",
        "* Dehradun, Uddepy and Ujjain have experienced a massive surge in the number of visitors in the year 2022 compared to year 2020.\n",
        "* The geographic location of the worst and best performing regions appears to have no correlation.  \n",
        "\n",
        "Recommendations:  \n",
        "* Due to absence of product related data, all the recommendations to increase website traffic is based on general solutions.\n",
        "> 1. The first reason could be lack of product awareness among people. This can be solved through focused marketing and educating the audience about the product and company.\n",
        "> 2. Gather testimonials from the clients and customers and advertise them. For eg., Doctors testimonial for Health related product, ISO certifications for relevant products and best practices, etc.\n",
        "> 3. Avail delivery options to remote areas. It could be possible that people from remote regions are facing difficulty to order the product. Alternatively, resort to convectional strategies for better reach like connecting with local shops for advertisement and product promotion.\n",
        "\n",
        "Furthermore, more astute analysis can be done if more relevant data can be gathered, like online vs offline orders, age group of people, gender of customers etc."
      ],
      "metadata": {
        "id": "JqllWIvVRPDM"
      }
    }
  ]
}