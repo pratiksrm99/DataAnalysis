{
  "nbformat": 4,
  "nbformat_minor": 0,
  "metadata": {
    "colab": {
      "provenance": [],
      "collapsed_sections": [
        "iGWaFVzX9Pfi"
      ],
      "authorship_tag": "ABX9TyNpH2maCLnxUgWrXWLuznS5"
    },
    "kernelspec": {
      "name": "python3",
      "display_name": "Python 3"
    },
    "language_info": {
      "name": "python"
    }
  },
  "cells": [
    {
      "cell_type": "markdown",
      "source": [
        "# Checklist\n",
        "##### 1) Part 0- Complete\n",
        "##### 2) Part 1- Incomplete\n",
        "##### 3) Part 2- Incomplete\n",
        "##### 4) Part 3- Incomplete\n",
        "##### 5) Part 4- Incomplete"
      ],
      "metadata": {
        "id": "A_49J07IVI0S"
      }
    },
    {
      "cell_type": "markdown",
      "source": [
        "# Part 0- Critical thinking\n"
      ],
      "metadata": {
        "id": "iGWaFVzX9Pfi"
      }
    },
    {
      "cell_type": "markdown",
      "source": [
        "### Problem Statement:\n",
        "##### How many people would buy the premium face mask which is scientifically proven to be better than N95 of around 1000.rs in India? Explain how did you conclude this answer and what was your approach towards this question in brief\n",
        "\n",
        "---\n",
        "\n",
        "Total population of India is 1.3 billion with total of 28 states and 8 Union territories. Considering that only few states and UT have to compulsary wear masks, the number of people wearing masks outside their home is quite less. The average cost of a normal mask is 10.rs which is significantly less than the cost of premium mask. Hence most of the population in rural area will prefer to/ afford to buy normal mask instead of premium. Rural population and Urban population has a split of approx 70:30 ratio i.e 900 million rural population and 500 million urban population.  \n",
        "Therefore, the main number of focus here is 500 million i.e 17 million average population per state/UT. If 8 states/UT have mask compulsion then we have potential customer population of 17*8= 136 million. Out of remaining 365 million people, 60% are not interested in wearing a mask due to reason like work from home, no illness/symptoms of flu or covid, feel uncomfortable and difficult to breathe in a mask, travelling in a private car, etc. Therefore, only 140 million potential customers remain make a total of 140+136= approx 280 million of potential customers.  \n",
        "\n",
        "Now average earning per month in Urban areas is around 25000.rs and approx 40% people fall below this category, leaving us with 170 million people. Again considering that 30% people are high earners and prefer to buy premium mask and only half of 70% moderate earners wish to buy premium mask we have total number of people that would buy a premium mask to be:  \n",
        "(170x30%)+((170x70%)/2) = 51+60 = 111 million people."
      ],
      "metadata": {
        "id": "1didDMtEamIa"
      }
    },
    {
      "cell_type": "markdown",
      "source": [
        "# Part 1- Descriptive Analysis"
      ],
      "metadata": {
        "id": "WPAPGc20knCO"
      }
    },
    {
      "cell_type": "markdown",
      "source": [
        "## 1.1 Import Data And Required Packages"
      ],
      "metadata": {
        "id": "VBetNbtEnF4k"
      }
    },
    {
      "cell_type": "markdown",
      "source": [
        "#### Import pandas, numpy, matplotlib, seaborn"
      ],
      "metadata": {
        "id": "SK7sK7rTnugn"
      }
    },
    {
      "cell_type": "code",
      "execution_count": 1,
      "metadata": {
        "id": "KgEcNFweVHmO"
      },
      "outputs": [],
      "source": [
        "import pandas as pd\n",
        "import numpy as np\n",
        "import matplotlib.pyplot as plt\n",
        "%matplotlib inline\n",
        "import seaborn as sns"
      ]
    },
    {
      "cell_type": "markdown",
      "source": [
        "#### Read given excel data that is uploaded in sample data folder.\n",
        "\n",
        "(NOTE: please add the data in the sample data folder for your runtime or change path to navigate to your data)"
      ],
      "metadata": {
        "id": "D225aeoUn1nM"
      }
    },
    {
      "cell_type": "code",
      "source": [
        "df = pd.read_excel('/content/sample_data/assignment.xlsx')"
      ],
      "metadata": {
        "id": "4nfC2LMFl4i9"
      },
      "execution_count": 2,
      "outputs": []
    },
    {
      "cell_type": "markdown",
      "source": [
        "#### Show top 5 records of data"
      ],
      "metadata": {
        "id": "n_j2Blh1oJEQ"
      }
    },
    {
      "cell_type": "code",
      "source": [
        "df.head()"
      ],
      "metadata": {
        "colab": {
          "base_uri": "https://localhost:8080/",
          "height": 0
        },
        "id": "ThvmkDPKl-FE",
        "outputId": "d62e14be-3552-4920-a905-f7d3cb07f663"
      },
      "execution_count": 3,
      "outputs": [
        {
          "output_type": "execute_result",
          "data": {
            "text/plain": [
              "   Year  Month  Segment Region           KPI Value Type    Value\n",
              "0  2020     12  Clients  India  Lv1_Visitors    Actuals  3665558\n",
              "1  2020     12  Clients  India  Lv2_Visitors    Actuals  2689569\n",
              "2  2020     12  Clients  India  Lv3_Visitors    Actuals  1300571\n",
              "3  2020     12  Clients  India  Lv4_Visitors    Actuals   717608\n",
              "4  2020     12  Clients  India  Lv3_Visitors    Actuals   706677"
            ],
            "text/html": [
              "\n",
              "  <div id=\"df-515871da-e1ac-4c77-b388-5443d8391a8d\">\n",
              "    <div class=\"colab-df-container\">\n",
              "      <div>\n",
              "<style scoped>\n",
              "    .dataframe tbody tr th:only-of-type {\n",
              "        vertical-align: middle;\n",
              "    }\n",
              "\n",
              "    .dataframe tbody tr th {\n",
              "        vertical-align: top;\n",
              "    }\n",
              "\n",
              "    .dataframe thead th {\n",
              "        text-align: right;\n",
              "    }\n",
              "</style>\n",
              "<table border=\"1\" class=\"dataframe\">\n",
              "  <thead>\n",
              "    <tr style=\"text-align: right;\">\n",
              "      <th></th>\n",
              "      <th>Year</th>\n",
              "      <th>Month</th>\n",
              "      <th>Segment</th>\n",
              "      <th>Region</th>\n",
              "      <th>KPI</th>\n",
              "      <th>Value Type</th>\n",
              "      <th>Value</th>\n",
              "    </tr>\n",
              "  </thead>\n",
              "  <tbody>\n",
              "    <tr>\n",
              "      <th>0</th>\n",
              "      <td>2020</td>\n",
              "      <td>12</td>\n",
              "      <td>Clients</td>\n",
              "      <td>India</td>\n",
              "      <td>Lv1_Visitors</td>\n",
              "      <td>Actuals</td>\n",
              "      <td>3665558</td>\n",
              "    </tr>\n",
              "    <tr>\n",
              "      <th>1</th>\n",
              "      <td>2020</td>\n",
              "      <td>12</td>\n",
              "      <td>Clients</td>\n",
              "      <td>India</td>\n",
              "      <td>Lv2_Visitors</td>\n",
              "      <td>Actuals</td>\n",
              "      <td>2689569</td>\n",
              "    </tr>\n",
              "    <tr>\n",
              "      <th>2</th>\n",
              "      <td>2020</td>\n",
              "      <td>12</td>\n",
              "      <td>Clients</td>\n",
              "      <td>India</td>\n",
              "      <td>Lv3_Visitors</td>\n",
              "      <td>Actuals</td>\n",
              "      <td>1300571</td>\n",
              "    </tr>\n",
              "    <tr>\n",
              "      <th>3</th>\n",
              "      <td>2020</td>\n",
              "      <td>12</td>\n",
              "      <td>Clients</td>\n",
              "      <td>India</td>\n",
              "      <td>Lv4_Visitors</td>\n",
              "      <td>Actuals</td>\n",
              "      <td>717608</td>\n",
              "    </tr>\n",
              "    <tr>\n",
              "      <th>4</th>\n",
              "      <td>2020</td>\n",
              "      <td>12</td>\n",
              "      <td>Clients</td>\n",
              "      <td>India</td>\n",
              "      <td>Lv3_Visitors</td>\n",
              "      <td>Actuals</td>\n",
              "      <td>706677</td>\n",
              "    </tr>\n",
              "  </tbody>\n",
              "</table>\n",
              "</div>\n",
              "      <button class=\"colab-df-convert\" onclick=\"convertToInteractive('df-515871da-e1ac-4c77-b388-5443d8391a8d')\"\n",
              "              title=\"Convert this dataframe to an interactive table.\"\n",
              "              style=\"display:none;\">\n",
              "        \n",
              "  <svg xmlns=\"http://www.w3.org/2000/svg\" height=\"24px\"viewBox=\"0 0 24 24\"\n",
              "       width=\"24px\">\n",
              "    <path d=\"M0 0h24v24H0V0z\" fill=\"none\"/>\n",
              "    <path d=\"M18.56 5.44l.94 2.06.94-2.06 2.06-.94-2.06-.94-.94-2.06-.94 2.06-2.06.94zm-11 1L8.5 8.5l.94-2.06 2.06-.94-2.06-.94L8.5 2.5l-.94 2.06-2.06.94zm10 10l.94 2.06.94-2.06 2.06-.94-2.06-.94-.94-2.06-.94 2.06-2.06.94z\"/><path d=\"M17.41 7.96l-1.37-1.37c-.4-.4-.92-.59-1.43-.59-.52 0-1.04.2-1.43.59L10.3 9.45l-7.72 7.72c-.78.78-.78 2.05 0 2.83L4 21.41c.39.39.9.59 1.41.59.51 0 1.02-.2 1.41-.59l7.78-7.78 2.81-2.81c.8-.78.8-2.07 0-2.86zM5.41 20L4 18.59l7.72-7.72 1.47 1.35L5.41 20z\"/>\n",
              "  </svg>\n",
              "      </button>\n",
              "      \n",
              "  <style>\n",
              "    .colab-df-container {\n",
              "      display:flex;\n",
              "      flex-wrap:wrap;\n",
              "      gap: 12px;\n",
              "    }\n",
              "\n",
              "    .colab-df-convert {\n",
              "      background-color: #E8F0FE;\n",
              "      border: none;\n",
              "      border-radius: 50%;\n",
              "      cursor: pointer;\n",
              "      display: none;\n",
              "      fill: #1967D2;\n",
              "      height: 32px;\n",
              "      padding: 0 0 0 0;\n",
              "      width: 32px;\n",
              "    }\n",
              "\n",
              "    .colab-df-convert:hover {\n",
              "      background-color: #E2EBFA;\n",
              "      box-shadow: 0px 1px 2px rgba(60, 64, 67, 0.3), 0px 1px 3px 1px rgba(60, 64, 67, 0.15);\n",
              "      fill: #174EA6;\n",
              "    }\n",
              "\n",
              "    [theme=dark] .colab-df-convert {\n",
              "      background-color: #3B4455;\n",
              "      fill: #D2E3FC;\n",
              "    }\n",
              "\n",
              "    [theme=dark] .colab-df-convert:hover {\n",
              "      background-color: #434B5C;\n",
              "      box-shadow: 0px 1px 3px 1px rgba(0, 0, 0, 0.15);\n",
              "      filter: drop-shadow(0px 1px 2px rgba(0, 0, 0, 0.3));\n",
              "      fill: #FFFFFF;\n",
              "    }\n",
              "  </style>\n",
              "\n",
              "      <script>\n",
              "        const buttonEl =\n",
              "          document.querySelector('#df-515871da-e1ac-4c77-b388-5443d8391a8d button.colab-df-convert');\n",
              "        buttonEl.style.display =\n",
              "          google.colab.kernel.accessAllowed ? 'block' : 'none';\n",
              "\n",
              "        async function convertToInteractive(key) {\n",
              "          const element = document.querySelector('#df-515871da-e1ac-4c77-b388-5443d8391a8d');\n",
              "          const dataTable =\n",
              "            await google.colab.kernel.invokeFunction('convertToInteractive',\n",
              "                                                     [key], {});\n",
              "          if (!dataTable) return;\n",
              "\n",
              "          const docLinkHtml = 'Like what you see? Visit the ' +\n",
              "            '<a target=\"_blank\" href=https://colab.research.google.com/notebooks/data_table.ipynb>data table notebook</a>'\n",
              "            + ' to learn more about interactive tables.';\n",
              "          element.innerHTML = '';\n",
              "          dataTable['output_type'] = 'display_data';\n",
              "          await google.colab.output.renderOutput(dataTable, element);\n",
              "          const docLink = document.createElement('div');\n",
              "          docLink.innerHTML = docLinkHtml;\n",
              "          element.appendChild(docLink);\n",
              "        }\n",
              "      </script>\n",
              "    </div>\n",
              "  </div>\n",
              "  "
            ]
          },
          "metadata": {},
          "execution_count": 3
        }
      ]
    },
    {
      "cell_type": "markdown",
      "source": [
        "#### Shape of dataset"
      ],
      "metadata": {
        "id": "M5Wm9uBwoXNc"
      }
    },
    {
      "cell_type": "code",
      "source": [
        "df.shape"
      ],
      "metadata": {
        "colab": {
          "base_uri": "https://localhost:8080/"
        },
        "id": "8wDq_oX6mheF",
        "outputId": "5b97e084-7dd5-4cc1-b46c-0b729b56ac6f"
      },
      "execution_count": 4,
      "outputs": [
        {
          "output_type": "execute_result",
          "data": {
            "text/plain": [
              "(1572, 7)"
            ]
          },
          "metadata": {},
          "execution_count": 4
        }
      ]
    },
    {
      "cell_type": "markdown",
      "source": [
        "## 1.2 Dataset Information\n",
        "\n",
        "*   Year : Year -> (2020/2021/2022)\n",
        "*   Month : Month of the year -> (value between 1-12 inclusive of both ends)\n",
        "*   Segment : End user category -> (Clients/Customers)\n",
        "*   Region : which Region the record belongs to-> ('India', 'Uddepy', 'Dehradun', 'Ujjain', 'Indore', 'Faridabad','Aurangabad')\n",
        "*   KPI : Performance indicator/feature -> ('Lv1_Visitors', 'Lv2_Visitors', 'Lv3_Visitors', 'Lv4_Visitors', 'Lv5_Visitors')\n",
        "*   Value Type\n",
        "*   Value\n",
        "\n",
        "\n"
      ],
      "metadata": {
        "id": "UlmbLBRLobie"
      }
    },
    {
      "cell_type": "markdown",
      "source": [
        "### 1.2.1 What type of company this dataset belongs to?\n",
        "\n",
        "Looking at the \"Segment\", \"KPI\" and \"Region\" columns, it is evident that the dataset belong to an e-commerce company that operates in India. The keyword \"visitors\" in KPI shows that it is an engagement with a website. Additionally, the dataset has a time frame between year 2020 and 2022. As per data, \"Clients\" numeric value is more than \"Customers\" so it could also be a wholesale seller like **\"Indiamart\"** or similar."
      ],
      "metadata": {
        "id": "qYfyuPQx7KU2"
      }
    },
    {
      "cell_type": "markdown",
      "source": [
        "### 1.2.2 Suppose that this dataset is for a website like Flipkart, what could be the possible definitions of the columns Level(visitors) 1, 2, 3, 4 and 5 in the given dataset? Do you observe any pattern?\n",
        "\n",
        "On expanding the KPI to individual features, we obtain columns L1_visitor, L2_visitor, L3_visitor, L4_visitor, L5_visitor. Furthermore, a pattern can be observed such that sum of value decreases as we move one level up i.e L1_visitor has the highest sum of value whereas L5_visitor has the lowest sum of value. As per the pattern, it can be assumed that the possible definations of these indicators could be the **\" *category of the visitor* \"** as per their engagement behaviour and the value indicate the **\" *total number of visitors per month* \"** by that visitor category. \n",
        "\n",
        "The categories could be:  \n",
        "\n",
        "1.   **The Browser**: Browsing and looking for products they dont actually want and least likely to buy.\n",
        "2.   **The Price Hunter**: Looking for the products they actually want and checking for best deal accross various websites.\n",
        "3.   **The repeat visitor**: Aware of your website and products and somewhat likely to buy in near future.\n",
        "4.   **The Buyer**: The actual people that businesses are looking for. They are most likely to buy some product from your website.\n",
        "5.   **The repeat buyer**: They trust your website and brand and keep buying stuff frequently.\n",
        "\n"
      ],
      "metadata": {
        "id": "yKLQRa4NQoE8"
      }
    },
    {
      "cell_type": "markdown",
      "source": [
        "## 1.3) Data Checks to perform\n",
        "\n",
        "* Check Missing values\n",
        "* Check Duplicates\n",
        "* Check data type\n",
        "* Check the number of unique values of each column\n",
        "* Check statistics of data set\n",
        "* Check various categories present in the different categorical column"
      ],
      "metadata": {
        "id": "nVcloAFfDj7b"
      }
    },
    {
      "cell_type": "markdown",
      "source": [
        "### 1.3.1 Check Missing values"
      ],
      "metadata": {
        "id": "mBGbrCagLeO4"
      }
    },
    {
      "cell_type": "code",
      "source": [
        "df.isna().sum()"
      ],
      "metadata": {
        "colab": {
          "base_uri": "https://localhost:8080/"
        },
        "id": "01Q3z0uNLlAl",
        "outputId": "8f2f7b32-8c06-4adf-adbd-d3b0974073cf"
      },
      "execution_count": 5,
      "outputs": [
        {
          "output_type": "execute_result",
          "data": {
            "text/plain": [
              "Year          0\n",
              "Month         0\n",
              "Segment       0\n",
              "Region        0\n",
              "KPI           0\n",
              "Value Type    0\n",
              "Value         0\n",
              "dtype: int64"
            ]
          },
          "metadata": {},
          "execution_count": 5
        }
      ]
    },
    {
      "cell_type": "markdown",
      "source": [
        "There are no missing values in the data set"
      ],
      "metadata": {
        "id": "LW06yXR8L5M7"
      }
    },
    {
      "cell_type": "markdown",
      "source": [
        "### 1.3.2 Check Duplicates\n",
        "\n"
      ],
      "metadata": {
        "id": "ZePFcD-bF-Gr"
      }
    },
    {
      "cell_type": "code",
      "source": [
        "df.duplicated().sum()"
      ],
      "metadata": {
        "colab": {
          "base_uri": "https://localhost:8080/"
        },
        "id": "rlauoBpVoaov",
        "outputId": "e3a5d677-4400-45d7-d8d6-414900caa65c"
      },
      "execution_count": 6,
      "outputs": [
        {
          "output_type": "execute_result",
          "data": {
            "text/plain": [
              "0"
            ]
          },
          "metadata": {},
          "execution_count": 6
        }
      ]
    },
    {
      "cell_type": "markdown",
      "source": [
        "There are no duplicate values in the data set"
      ],
      "metadata": {
        "id": "AhT-uLhCMR0w"
      }
    },
    {
      "cell_type": "markdown",
      "source": [
        "### 1.3.3 Check Data Types\n",
        "\n"
      ],
      "metadata": {
        "id": "ueEXv-ykMZHa"
      }
    },
    {
      "cell_type": "code",
      "source": [
        "df.info()"
      ],
      "metadata": {
        "colab": {
          "base_uri": "https://localhost:8080/"
        },
        "id": "xtA2RfcYKuEr",
        "outputId": "beb0250c-d009-4c9e-8906-228cf9c03caa"
      },
      "execution_count": 7,
      "outputs": [
        {
          "output_type": "stream",
          "name": "stdout",
          "text": [
            "<class 'pandas.core.frame.DataFrame'>\n",
            "RangeIndex: 1572 entries, 0 to 1571\n",
            "Data columns (total 7 columns):\n",
            " #   Column      Non-Null Count  Dtype \n",
            "---  ------      --------------  ----- \n",
            " 0   Year        1572 non-null   int64 \n",
            " 1   Month       1572 non-null   int64 \n",
            " 2   Segment     1572 non-null   object\n",
            " 3   Region      1572 non-null   object\n",
            " 4   KPI         1572 non-null   object\n",
            " 5   Value Type  1572 non-null   object\n",
            " 6   Value       1572 non-null   int64 \n",
            "dtypes: int64(3), object(4)\n",
            "memory usage: 86.1+ KB\n"
          ]
        }
      ]
    },
    {
      "cell_type": "markdown",
      "source": [
        "### 1.3.4 Check number of unique values in each column\n",
        "\n"
      ],
      "metadata": {
        "id": "ZkS9kNvcMl-a"
      }
    },
    {
      "cell_type": "code",
      "source": [
        "df.nunique()"
      ],
      "metadata": {
        "colab": {
          "base_uri": "https://localhost:8080/"
        },
        "id": "nRr_KuthMwAw",
        "outputId": "e2cdb77f-4bc9-463e-e768-7ca44ec8a323"
      },
      "execution_count": 8,
      "outputs": [
        {
          "output_type": "execute_result",
          "data": {
            "text/plain": [
              "Year             3\n",
              "Month           12\n",
              "Segment          2\n",
              "Region           7\n",
              "KPI              5\n",
              "Value Type       1\n",
              "Value         1558\n",
              "dtype: int64"
            ]
          },
          "metadata": {},
          "execution_count": 8
        }
      ]
    },
    {
      "cell_type": "markdown",
      "source": [
        "### 1.3.5 Check Statistics of Dataset\n",
        "\n"
      ],
      "metadata": {
        "id": "DdaAA4s8M9H5"
      }
    },
    {
      "cell_type": "code",
      "source": [
        "## Scaling the value column for understanding purposes and clear display \n",
        "# Dividing value column by 100000\n",
        "\n",
        "SCALING_FACTOR = 100000\n",
        "\n",
        "df[\"Value\"] = df[\"Value\"].apply(lambda x: x/SCALING_FACTOR)\n",
        "df.describe()"
      ],
      "metadata": {
        "colab": {
          "base_uri": "https://localhost:8080/",
          "height": 0
        },
        "id": "YMUAiN3_NDjQ",
        "outputId": "3066ae95-5b00-4635-d4d7-8c138476ee2f"
      },
      "execution_count": 9,
      "outputs": [
        {
          "output_type": "execute_result",
          "data": {
            "text/plain": [
              "              Year        Month        Value\n",
              "count  1572.000000  1572.000000  1572.000000\n",
              "mean   2021.129771     6.500000     2.964329\n",
              "std       0.832781     3.453151    11.303644\n",
              "min    2020.000000     1.000000     0.001370\n",
              "25%    2020.000000     3.750000     0.092477\n",
              "50%    2021.000000     6.500000     0.325745\n",
              "75%    2022.000000     9.250000     1.796810\n",
              "max    2022.000000    12.000000   369.868990"
            ],
            "text/html": [
              "\n",
              "  <div id=\"df-7541edd2-f753-4d15-b9ed-c58f9bda8982\">\n",
              "    <div class=\"colab-df-container\">\n",
              "      <div>\n",
              "<style scoped>\n",
              "    .dataframe tbody tr th:only-of-type {\n",
              "        vertical-align: middle;\n",
              "    }\n",
              "\n",
              "    .dataframe tbody tr th {\n",
              "        vertical-align: top;\n",
              "    }\n",
              "\n",
              "    .dataframe thead th {\n",
              "        text-align: right;\n",
              "    }\n",
              "</style>\n",
              "<table border=\"1\" class=\"dataframe\">\n",
              "  <thead>\n",
              "    <tr style=\"text-align: right;\">\n",
              "      <th></th>\n",
              "      <th>Year</th>\n",
              "      <th>Month</th>\n",
              "      <th>Value</th>\n",
              "    </tr>\n",
              "  </thead>\n",
              "  <tbody>\n",
              "    <tr>\n",
              "      <th>count</th>\n",
              "      <td>1572.000000</td>\n",
              "      <td>1572.000000</td>\n",
              "      <td>1572.000000</td>\n",
              "    </tr>\n",
              "    <tr>\n",
              "      <th>mean</th>\n",
              "      <td>2021.129771</td>\n",
              "      <td>6.500000</td>\n",
              "      <td>2.964329</td>\n",
              "    </tr>\n",
              "    <tr>\n",
              "      <th>std</th>\n",
              "      <td>0.832781</td>\n",
              "      <td>3.453151</td>\n",
              "      <td>11.303644</td>\n",
              "    </tr>\n",
              "    <tr>\n",
              "      <th>min</th>\n",
              "      <td>2020.000000</td>\n",
              "      <td>1.000000</td>\n",
              "      <td>0.001370</td>\n",
              "    </tr>\n",
              "    <tr>\n",
              "      <th>25%</th>\n",
              "      <td>2020.000000</td>\n",
              "      <td>3.750000</td>\n",
              "      <td>0.092477</td>\n",
              "    </tr>\n",
              "    <tr>\n",
              "      <th>50%</th>\n",
              "      <td>2021.000000</td>\n",
              "      <td>6.500000</td>\n",
              "      <td>0.325745</td>\n",
              "    </tr>\n",
              "    <tr>\n",
              "      <th>75%</th>\n",
              "      <td>2022.000000</td>\n",
              "      <td>9.250000</td>\n",
              "      <td>1.796810</td>\n",
              "    </tr>\n",
              "    <tr>\n",
              "      <th>max</th>\n",
              "      <td>2022.000000</td>\n",
              "      <td>12.000000</td>\n",
              "      <td>369.868990</td>\n",
              "    </tr>\n",
              "  </tbody>\n",
              "</table>\n",
              "</div>\n",
              "      <button class=\"colab-df-convert\" onclick=\"convertToInteractive('df-7541edd2-f753-4d15-b9ed-c58f9bda8982')\"\n",
              "              title=\"Convert this dataframe to an interactive table.\"\n",
              "              style=\"display:none;\">\n",
              "        \n",
              "  <svg xmlns=\"http://www.w3.org/2000/svg\" height=\"24px\"viewBox=\"0 0 24 24\"\n",
              "       width=\"24px\">\n",
              "    <path d=\"M0 0h24v24H0V0z\" fill=\"none\"/>\n",
              "    <path d=\"M18.56 5.44l.94 2.06.94-2.06 2.06-.94-2.06-.94-.94-2.06-.94 2.06-2.06.94zm-11 1L8.5 8.5l.94-2.06 2.06-.94-2.06-.94L8.5 2.5l-.94 2.06-2.06.94zm10 10l.94 2.06.94-2.06 2.06-.94-2.06-.94-.94-2.06-.94 2.06-2.06.94z\"/><path d=\"M17.41 7.96l-1.37-1.37c-.4-.4-.92-.59-1.43-.59-.52 0-1.04.2-1.43.59L10.3 9.45l-7.72 7.72c-.78.78-.78 2.05 0 2.83L4 21.41c.39.39.9.59 1.41.59.51 0 1.02-.2 1.41-.59l7.78-7.78 2.81-2.81c.8-.78.8-2.07 0-2.86zM5.41 20L4 18.59l7.72-7.72 1.47 1.35L5.41 20z\"/>\n",
              "  </svg>\n",
              "      </button>\n",
              "      \n",
              "  <style>\n",
              "    .colab-df-container {\n",
              "      display:flex;\n",
              "      flex-wrap:wrap;\n",
              "      gap: 12px;\n",
              "    }\n",
              "\n",
              "    .colab-df-convert {\n",
              "      background-color: #E8F0FE;\n",
              "      border: none;\n",
              "      border-radius: 50%;\n",
              "      cursor: pointer;\n",
              "      display: none;\n",
              "      fill: #1967D2;\n",
              "      height: 32px;\n",
              "      padding: 0 0 0 0;\n",
              "      width: 32px;\n",
              "    }\n",
              "\n",
              "    .colab-df-convert:hover {\n",
              "      background-color: #E2EBFA;\n",
              "      box-shadow: 0px 1px 2px rgba(60, 64, 67, 0.3), 0px 1px 3px 1px rgba(60, 64, 67, 0.15);\n",
              "      fill: #174EA6;\n",
              "    }\n",
              "\n",
              "    [theme=dark] .colab-df-convert {\n",
              "      background-color: #3B4455;\n",
              "      fill: #D2E3FC;\n",
              "    }\n",
              "\n",
              "    [theme=dark] .colab-df-convert:hover {\n",
              "      background-color: #434B5C;\n",
              "      box-shadow: 0px 1px 3px 1px rgba(0, 0, 0, 0.15);\n",
              "      filter: drop-shadow(0px 1px 2px rgba(0, 0, 0, 0.3));\n",
              "      fill: #FFFFFF;\n",
              "    }\n",
              "  </style>\n",
              "\n",
              "      <script>\n",
              "        const buttonEl =\n",
              "          document.querySelector('#df-7541edd2-f753-4d15-b9ed-c58f9bda8982 button.colab-df-convert');\n",
              "        buttonEl.style.display =\n",
              "          google.colab.kernel.accessAllowed ? 'block' : 'none';\n",
              "\n",
              "        async function convertToInteractive(key) {\n",
              "          const element = document.querySelector('#df-7541edd2-f753-4d15-b9ed-c58f9bda8982');\n",
              "          const dataTable =\n",
              "            await google.colab.kernel.invokeFunction('convertToInteractive',\n",
              "                                                     [key], {});\n",
              "          if (!dataTable) return;\n",
              "\n",
              "          const docLinkHtml = 'Like what you see? Visit the ' +\n",
              "            '<a target=\"_blank\" href=https://colab.research.google.com/notebooks/data_table.ipynb>data table notebook</a>'\n",
              "            + ' to learn more about interactive tables.';\n",
              "          element.innerHTML = '';\n",
              "          dataTable['output_type'] = 'display_data';\n",
              "          await google.colab.output.renderOutput(dataTable, element);\n",
              "          const docLink = document.createElement('div');\n",
              "          docLink.innerHTML = docLinkHtml;\n",
              "          element.appendChild(docLink);\n",
              "        }\n",
              "      </script>\n",
              "    </div>\n",
              "  </div>\n",
              "  "
            ]
          },
          "metadata": {},
          "execution_count": 9
        }
      ]
    },
    {
      "cell_type": "markdown",
      "source": [
        "Insights:\n",
        "\n",
        "* From above description of numerical data, the data has a time frame between 2020 and 2022 for all the 12 months.\n",
        "* The std deviation of the values column is very high with minimum value of 0.0013 to maximum value of 369.869."
      ],
      "metadata": {
        "id": "naLmDkb2Nu-7"
      }
    },
    {
      "cell_type": "markdown",
      "source": [
        "## 1.4) Pivot view summary and visualizations"
      ],
      "metadata": {
        "id": "gMdvXN7S0f6k"
      }
    },
    {
      "cell_type": "markdown",
      "source": [
        "### 1.4.1 What was the total number of visitors segmented by each level, every month in each year?"
      ],
      "metadata": {
        "id": "EIK6T4fU0xn3"
      }
    },
    {
      "cell_type": "markdown",
      "source": [
        "Segregate data for each year into different dataframes"
      ],
      "metadata": {
        "id": "Bujx2YI81Zc2"
      }
    },
    {
      "cell_type": "code",
      "source": [
        "df_2020 = df[df[\"Year\"]==2020] # 2020 dataframe\n",
        "df_2021 = df[df[\"Year\"]==2021] # 2021 dataframe\n",
        "df_2022 = df[df[\"Year\"]==2022] # 2022 dataframe"
      ],
      "metadata": {
        "id": "VmIkDW_6OXGY"
      },
      "execution_count": 10,
      "outputs": []
    },
    {
      "cell_type": "markdown",
      "source": [
        "Create pivot table for each year into different dataframes segregratting into individual KPI"
      ],
      "metadata": {
        "id": "wmwsZRqT4GXO"
      }
    },
    {
      "cell_type": "code",
      "source": [
        "pivot_2020 = df_2020.pivot_table(values=[\"Value\"], index=[\"Month\"], columns=[\"KPI\"], aggfunc=np.sum)[\"Value\"]\n",
        "pivot_2021 = df_2021.pivot_table(values=[\"Value\"], index=[\"Month\"], columns=[\"KPI\"], aggfunc=np.sum)[\"Value\"]\n",
        "pivot_2022 = df_2022.pivot_table(values=[\"Value\"], index=[\"Month\"], columns=[\"KPI\"], aggfunc=np.sum)[\"Value\"]\n",
        "\n",
        "# Removing the column and index name for styling and avoiding confusion (optional)\n",
        "# pivot_2020.columns.name, pivot_2020.index.name = None, None\n",
        "# pivot_2021.columns.name, pivot_2021.index.name = None, None\n",
        "# pivot_2022.columns.name, pivot_2022.index.name = None, None\n",
        "\n",
        "# Adding month-wise total column to dataframes\n",
        "pivot_2020[\"Month-wise Total\"] = pivot_2020[\"Lv1_Visitors\"]+pivot_2020[\"Lv2_Visitors\"]+pivot_2020[\"Lv3_Visitors\"]+pivot_2020[\"Lv4_Visitors\"]+pivot_2020[\"Lv5_Visitors\"]\n",
        "pivot_2021[\"Month-wise Total\"] = pivot_2021[\"Lv1_Visitors\"]+pivot_2021[\"Lv2_Visitors\"]+pivot_2021[\"Lv3_Visitors\"]+pivot_2021[\"Lv4_Visitors\"]+pivot_2021[\"Lv5_Visitors\"]\n",
        "pivot_2022[\"Month-wise Total\"] = pivot_2022[\"Lv1_Visitors\"]+pivot_2022[\"Lv2_Visitors\"]+pivot_2022[\"Lv3_Visitors\"]+pivot_2022[\"Lv4_Visitors\"]+pivot_2022[\"Lv5_Visitors\"]\n",
        "\n",
        "# Adding level-wise total row to dataframes\n",
        "pivot_2020.loc[\"Level-wise Total\"] = [np.sum(pivot_2020[\"Lv1_Visitors\"]), np.sum(pivot_2020[\"Lv2_Visitors\"]), np.sum(pivot_2020[\"Lv3_Visitors\"]), np.sum(pivot_2020[\"Lv4_Visitors\"]), np.sum(pivot_2020[\"Lv5_Visitors\"]), np.sum(pivot_2020[\"Month-wise Total\"])]\n",
        "pivot_2021.loc[\"Level-wise Total\"] = [np.sum(pivot_2021[\"Lv1_Visitors\"]), np.sum(pivot_2021[\"Lv2_Visitors\"]), np.sum(pivot_2021[\"Lv3_Visitors\"]), np.sum(pivot_2021[\"Lv4_Visitors\"]), np.sum(pivot_2021[\"Lv5_Visitors\"]), np.sum(pivot_2021[\"Month-wise Total\"])]\n",
        "pivot_2022.loc[\"Level-wise Total\"] = [np.sum(pivot_2022[\"Lv1_Visitors\"]), np.sum(pivot_2022[\"Lv2_Visitors\"]), np.sum(pivot_2022[\"Lv3_Visitors\"]), np.sum(pivot_2022[\"Lv4_Visitors\"]), np.sum(pivot_2022[\"Lv5_Visitors\"]), np.sum(pivot_2022[\"Month-wise Total\"])]"
      ],
      "metadata": {
        "id": "KbJ_kqME1Get"
      },
      "execution_count": 11,
      "outputs": []
    },
    {
      "cell_type": "markdown",
      "source": [
        "Pivot view summary for the year 2020"
      ],
      "metadata": {
        "id": "FmP6Gspb2lBt"
      }
    },
    {
      "cell_type": "code",
      "source": [
        "pivot_2020"
      ],
      "metadata": {
        "colab": {
          "base_uri": "https://localhost:8080/",
          "height": 0
        },
        "id": "ySAiYyDhypeC",
        "outputId": "44c2f274-e78a-4d6a-f091-00af7750cc38"
      },
      "execution_count": 12,
      "outputs": [
        {
          "output_type": "execute_result",
          "data": {
            "text/plain": [
              "KPI               Lv1_Visitors  Lv2_Visitors  Lv3_Visitors  Lv4_Visitors  \\\n",
              "Month                                                                      \n",
              "1                     39.28041      27.65271      29.65989      13.92282   \n",
              "2                     36.11176      25.10550      27.11901      12.72036   \n",
              "3                     41.53670      28.83993      31.37029      14.90653   \n",
              "4                     55.35973      39.10298      41.97245      21.47745   \n",
              "5                     56.60716      41.18410      43.67712     388.47029   \n",
              "6                     49.30513      35.32115      35.14933      15.62415   \n",
              "7                     43.87748      31.13380      29.98704      12.77021   \n",
              "8                     38.50727      27.01970      25.35076      10.61372   \n",
              "9                     41.59677      29.27064      27.82353      12.06931   \n",
              "10                    53.01025      37.51545      36.85645      15.64191   \n",
              "11                    45.14268      32.23226      28.81184      12.80953   \n",
              "12                    44.46232      33.04935      26.83006      11.93322   \n",
              "Level-wise Total     544.79766     387.42757     384.60777     542.95950   \n",
              "\n",
              "KPI               Lv5_Visitors  Month-wise Total  \n",
              "Month                                             \n",
              "1                      4.32501         114.84084  \n",
              "2                      3.88833         104.94496  \n",
              "3                      4.63865         121.29210  \n",
              "4                      6.63513         164.54774  \n",
              "5                      6.53319         536.47186  \n",
              "6                      5.19698         140.59674  \n",
              "7                      4.22305         121.99158  \n",
              "8                      3.41384         104.90529  \n",
              "9                      3.97399         114.73424  \n",
              "10                     5.10797         148.13203  \n",
              "11                     4.52552         123.52183  \n",
              "12                     4.13082         120.40577  \n",
              "Level-wise Total      56.59248        1916.38498  "
            ],
            "text/html": [
              "\n",
              "  <div id=\"df-26aea516-e53c-4b85-9f72-20478c6b2751\">\n",
              "    <div class=\"colab-df-container\">\n",
              "      <div>\n",
              "<style scoped>\n",
              "    .dataframe tbody tr th:only-of-type {\n",
              "        vertical-align: middle;\n",
              "    }\n",
              "\n",
              "    .dataframe tbody tr th {\n",
              "        vertical-align: top;\n",
              "    }\n",
              "\n",
              "    .dataframe thead th {\n",
              "        text-align: right;\n",
              "    }\n",
              "</style>\n",
              "<table border=\"1\" class=\"dataframe\">\n",
              "  <thead>\n",
              "    <tr style=\"text-align: right;\">\n",
              "      <th>KPI</th>\n",
              "      <th>Lv1_Visitors</th>\n",
              "      <th>Lv2_Visitors</th>\n",
              "      <th>Lv3_Visitors</th>\n",
              "      <th>Lv4_Visitors</th>\n",
              "      <th>Lv5_Visitors</th>\n",
              "      <th>Month-wise Total</th>\n",
              "    </tr>\n",
              "    <tr>\n",
              "      <th>Month</th>\n",
              "      <th></th>\n",
              "      <th></th>\n",
              "      <th></th>\n",
              "      <th></th>\n",
              "      <th></th>\n",
              "      <th></th>\n",
              "    </tr>\n",
              "  </thead>\n",
              "  <tbody>\n",
              "    <tr>\n",
              "      <th>1</th>\n",
              "      <td>39.28041</td>\n",
              "      <td>27.65271</td>\n",
              "      <td>29.65989</td>\n",
              "      <td>13.92282</td>\n",
              "      <td>4.32501</td>\n",
              "      <td>114.84084</td>\n",
              "    </tr>\n",
              "    <tr>\n",
              "      <th>2</th>\n",
              "      <td>36.11176</td>\n",
              "      <td>25.10550</td>\n",
              "      <td>27.11901</td>\n",
              "      <td>12.72036</td>\n",
              "      <td>3.88833</td>\n",
              "      <td>104.94496</td>\n",
              "    </tr>\n",
              "    <tr>\n",
              "      <th>3</th>\n",
              "      <td>41.53670</td>\n",
              "      <td>28.83993</td>\n",
              "      <td>31.37029</td>\n",
              "      <td>14.90653</td>\n",
              "      <td>4.63865</td>\n",
              "      <td>121.29210</td>\n",
              "    </tr>\n",
              "    <tr>\n",
              "      <th>4</th>\n",
              "      <td>55.35973</td>\n",
              "      <td>39.10298</td>\n",
              "      <td>41.97245</td>\n",
              "      <td>21.47745</td>\n",
              "      <td>6.63513</td>\n",
              "      <td>164.54774</td>\n",
              "    </tr>\n",
              "    <tr>\n",
              "      <th>5</th>\n",
              "      <td>56.60716</td>\n",
              "      <td>41.18410</td>\n",
              "      <td>43.67712</td>\n",
              "      <td>388.47029</td>\n",
              "      <td>6.53319</td>\n",
              "      <td>536.47186</td>\n",
              "    </tr>\n",
              "    <tr>\n",
              "      <th>6</th>\n",
              "      <td>49.30513</td>\n",
              "      <td>35.32115</td>\n",
              "      <td>35.14933</td>\n",
              "      <td>15.62415</td>\n",
              "      <td>5.19698</td>\n",
              "      <td>140.59674</td>\n",
              "    </tr>\n",
              "    <tr>\n",
              "      <th>7</th>\n",
              "      <td>43.87748</td>\n",
              "      <td>31.13380</td>\n",
              "      <td>29.98704</td>\n",
              "      <td>12.77021</td>\n",
              "      <td>4.22305</td>\n",
              "      <td>121.99158</td>\n",
              "    </tr>\n",
              "    <tr>\n",
              "      <th>8</th>\n",
              "      <td>38.50727</td>\n",
              "      <td>27.01970</td>\n",
              "      <td>25.35076</td>\n",
              "      <td>10.61372</td>\n",
              "      <td>3.41384</td>\n",
              "      <td>104.90529</td>\n",
              "    </tr>\n",
              "    <tr>\n",
              "      <th>9</th>\n",
              "      <td>41.59677</td>\n",
              "      <td>29.27064</td>\n",
              "      <td>27.82353</td>\n",
              "      <td>12.06931</td>\n",
              "      <td>3.97399</td>\n",
              "      <td>114.73424</td>\n",
              "    </tr>\n",
              "    <tr>\n",
              "      <th>10</th>\n",
              "      <td>53.01025</td>\n",
              "      <td>37.51545</td>\n",
              "      <td>36.85645</td>\n",
              "      <td>15.64191</td>\n",
              "      <td>5.10797</td>\n",
              "      <td>148.13203</td>\n",
              "    </tr>\n",
              "    <tr>\n",
              "      <th>11</th>\n",
              "      <td>45.14268</td>\n",
              "      <td>32.23226</td>\n",
              "      <td>28.81184</td>\n",
              "      <td>12.80953</td>\n",
              "      <td>4.52552</td>\n",
              "      <td>123.52183</td>\n",
              "    </tr>\n",
              "    <tr>\n",
              "      <th>12</th>\n",
              "      <td>44.46232</td>\n",
              "      <td>33.04935</td>\n",
              "      <td>26.83006</td>\n",
              "      <td>11.93322</td>\n",
              "      <td>4.13082</td>\n",
              "      <td>120.40577</td>\n",
              "    </tr>\n",
              "    <tr>\n",
              "      <th>Level-wise Total</th>\n",
              "      <td>544.79766</td>\n",
              "      <td>387.42757</td>\n",
              "      <td>384.60777</td>\n",
              "      <td>542.95950</td>\n",
              "      <td>56.59248</td>\n",
              "      <td>1916.38498</td>\n",
              "    </tr>\n",
              "  </tbody>\n",
              "</table>\n",
              "</div>\n",
              "      <button class=\"colab-df-convert\" onclick=\"convertToInteractive('df-26aea516-e53c-4b85-9f72-20478c6b2751')\"\n",
              "              title=\"Convert this dataframe to an interactive table.\"\n",
              "              style=\"display:none;\">\n",
              "        \n",
              "  <svg xmlns=\"http://www.w3.org/2000/svg\" height=\"24px\"viewBox=\"0 0 24 24\"\n",
              "       width=\"24px\">\n",
              "    <path d=\"M0 0h24v24H0V0z\" fill=\"none\"/>\n",
              "    <path d=\"M18.56 5.44l.94 2.06.94-2.06 2.06-.94-2.06-.94-.94-2.06-.94 2.06-2.06.94zm-11 1L8.5 8.5l.94-2.06 2.06-.94-2.06-.94L8.5 2.5l-.94 2.06-2.06.94zm10 10l.94 2.06.94-2.06 2.06-.94-2.06-.94-.94-2.06-.94 2.06-2.06.94z\"/><path d=\"M17.41 7.96l-1.37-1.37c-.4-.4-.92-.59-1.43-.59-.52 0-1.04.2-1.43.59L10.3 9.45l-7.72 7.72c-.78.78-.78 2.05 0 2.83L4 21.41c.39.39.9.59 1.41.59.51 0 1.02-.2 1.41-.59l7.78-7.78 2.81-2.81c.8-.78.8-2.07 0-2.86zM5.41 20L4 18.59l7.72-7.72 1.47 1.35L5.41 20z\"/>\n",
              "  </svg>\n",
              "      </button>\n",
              "      \n",
              "  <style>\n",
              "    .colab-df-container {\n",
              "      display:flex;\n",
              "      flex-wrap:wrap;\n",
              "      gap: 12px;\n",
              "    }\n",
              "\n",
              "    .colab-df-convert {\n",
              "      background-color: #E8F0FE;\n",
              "      border: none;\n",
              "      border-radius: 50%;\n",
              "      cursor: pointer;\n",
              "      display: none;\n",
              "      fill: #1967D2;\n",
              "      height: 32px;\n",
              "      padding: 0 0 0 0;\n",
              "      width: 32px;\n",
              "    }\n",
              "\n",
              "    .colab-df-convert:hover {\n",
              "      background-color: #E2EBFA;\n",
              "      box-shadow: 0px 1px 2px rgba(60, 64, 67, 0.3), 0px 1px 3px 1px rgba(60, 64, 67, 0.15);\n",
              "      fill: #174EA6;\n",
              "    }\n",
              "\n",
              "    [theme=dark] .colab-df-convert {\n",
              "      background-color: #3B4455;\n",
              "      fill: #D2E3FC;\n",
              "    }\n",
              "\n",
              "    [theme=dark] .colab-df-convert:hover {\n",
              "      background-color: #434B5C;\n",
              "      box-shadow: 0px 1px 3px 1px rgba(0, 0, 0, 0.15);\n",
              "      filter: drop-shadow(0px 1px 2px rgba(0, 0, 0, 0.3));\n",
              "      fill: #FFFFFF;\n",
              "    }\n",
              "  </style>\n",
              "\n",
              "      <script>\n",
              "        const buttonEl =\n",
              "          document.querySelector('#df-26aea516-e53c-4b85-9f72-20478c6b2751 button.colab-df-convert');\n",
              "        buttonEl.style.display =\n",
              "          google.colab.kernel.accessAllowed ? 'block' : 'none';\n",
              "\n",
              "        async function convertToInteractive(key) {\n",
              "          const element = document.querySelector('#df-26aea516-e53c-4b85-9f72-20478c6b2751');\n",
              "          const dataTable =\n",
              "            await google.colab.kernel.invokeFunction('convertToInteractive',\n",
              "                                                     [key], {});\n",
              "          if (!dataTable) return;\n",
              "\n",
              "          const docLinkHtml = 'Like what you see? Visit the ' +\n",
              "            '<a target=\"_blank\" href=https://colab.research.google.com/notebooks/data_table.ipynb>data table notebook</a>'\n",
              "            + ' to learn more about interactive tables.';\n",
              "          element.innerHTML = '';\n",
              "          dataTable['output_type'] = 'display_data';\n",
              "          await google.colab.output.renderOutput(dataTable, element);\n",
              "          const docLink = document.createElement('div');\n",
              "          docLink.innerHTML = docLinkHtml;\n",
              "          element.appendChild(docLink);\n",
              "        }\n",
              "      </script>\n",
              "    </div>\n",
              "  </div>\n",
              "  "
            ]
          },
          "metadata": {},
          "execution_count": 12
        }
      ]
    },
    {
      "cell_type": "markdown",
      "source": [
        "Pivot view summary for the year 2021"
      ],
      "metadata": {
        "id": "_mcv4Thy9zQC"
      }
    },
    {
      "cell_type": "code",
      "source": [
        "pivot_2021"
      ],
      "metadata": {
        "colab": {
          "base_uri": "https://localhost:8080/",
          "height": 0
        },
        "id": "wB22oc8L98gF",
        "outputId": "b52b1a20-7dc2-447e-e8a2-40c47222ea9c"
      },
      "execution_count": 13,
      "outputs": [
        {
          "output_type": "execute_result",
          "data": {
            "text/plain": [
              "KPI               Lv1_Visitors  Lv2_Visitors  Lv3_Visitors  Lv4_Visitors  \\\n",
              "Month                                                                      \n",
              "1                     45.99499      34.27053      28.08389      12.65810   \n",
              "2                     39.78160      28.52656      24.11639      10.81451   \n",
              "3                     40.85245      28.03308      24.88462      11.36561   \n",
              "4                     38.94486      26.23508      22.67941      10.13203   \n",
              "5                     40.60154      27.34743      23.76839      10.51066   \n",
              "6                     35.12596      23.36733      20.66367       8.82378   \n",
              "7                     35.83579      24.37691      20.95257       9.61647   \n",
              "8                     38.94788      25.63196      21.61006       9.84493   \n",
              "9                     36.52692      23.95509      20.50716       8.96033   \n",
              "10                    38.39830      24.40480      20.70340       8.85540   \n",
              "11                    42.44211      26.57505      21.59881      10.03236   \n",
              "12                    41.72845      26.34373      20.94714       9.36473   \n",
              "Level-wise Total     475.18085     319.06755     270.51551     120.97891   \n",
              "\n",
              "KPI               Lv5_Visitors  Month-wise Total  \n",
              "Month                                             \n",
              "1                      4.31654         125.32405  \n",
              "2                      3.69060         106.92966  \n",
              "3                      3.85526         108.99102  \n",
              "4                      3.27495         101.26633  \n",
              "5                      3.42566         105.65368  \n",
              "6                      2.67300          90.65374  \n",
              "7                      2.97286          93.75460  \n",
              "8                      3.00599          99.04082  \n",
              "9                      2.91774          92.86724  \n",
              "10                     3.08226          95.44416  \n",
              "11                     3.53576         104.18409  \n",
              "12                     3.14603         101.53008  \n",
              "Level-wise Total      39.89665        1225.63947  "
            ],
            "text/html": [
              "\n",
              "  <div id=\"df-6bd95234-51ea-4040-bdb9-70362771ba1f\">\n",
              "    <div class=\"colab-df-container\">\n",
              "      <div>\n",
              "<style scoped>\n",
              "    .dataframe tbody tr th:only-of-type {\n",
              "        vertical-align: middle;\n",
              "    }\n",
              "\n",
              "    .dataframe tbody tr th {\n",
              "        vertical-align: top;\n",
              "    }\n",
              "\n",
              "    .dataframe thead th {\n",
              "        text-align: right;\n",
              "    }\n",
              "</style>\n",
              "<table border=\"1\" class=\"dataframe\">\n",
              "  <thead>\n",
              "    <tr style=\"text-align: right;\">\n",
              "      <th>KPI</th>\n",
              "      <th>Lv1_Visitors</th>\n",
              "      <th>Lv2_Visitors</th>\n",
              "      <th>Lv3_Visitors</th>\n",
              "      <th>Lv4_Visitors</th>\n",
              "      <th>Lv5_Visitors</th>\n",
              "      <th>Month-wise Total</th>\n",
              "    </tr>\n",
              "    <tr>\n",
              "      <th>Month</th>\n",
              "      <th></th>\n",
              "      <th></th>\n",
              "      <th></th>\n",
              "      <th></th>\n",
              "      <th></th>\n",
              "      <th></th>\n",
              "    </tr>\n",
              "  </thead>\n",
              "  <tbody>\n",
              "    <tr>\n",
              "      <th>1</th>\n",
              "      <td>45.99499</td>\n",
              "      <td>34.27053</td>\n",
              "      <td>28.08389</td>\n",
              "      <td>12.65810</td>\n",
              "      <td>4.31654</td>\n",
              "      <td>125.32405</td>\n",
              "    </tr>\n",
              "    <tr>\n",
              "      <th>2</th>\n",
              "      <td>39.78160</td>\n",
              "      <td>28.52656</td>\n",
              "      <td>24.11639</td>\n",
              "      <td>10.81451</td>\n",
              "      <td>3.69060</td>\n",
              "      <td>106.92966</td>\n",
              "    </tr>\n",
              "    <tr>\n",
              "      <th>3</th>\n",
              "      <td>40.85245</td>\n",
              "      <td>28.03308</td>\n",
              "      <td>24.88462</td>\n",
              "      <td>11.36561</td>\n",
              "      <td>3.85526</td>\n",
              "      <td>108.99102</td>\n",
              "    </tr>\n",
              "    <tr>\n",
              "      <th>4</th>\n",
              "      <td>38.94486</td>\n",
              "      <td>26.23508</td>\n",
              "      <td>22.67941</td>\n",
              "      <td>10.13203</td>\n",
              "      <td>3.27495</td>\n",
              "      <td>101.26633</td>\n",
              "    </tr>\n",
              "    <tr>\n",
              "      <th>5</th>\n",
              "      <td>40.60154</td>\n",
              "      <td>27.34743</td>\n",
              "      <td>23.76839</td>\n",
              "      <td>10.51066</td>\n",
              "      <td>3.42566</td>\n",
              "      <td>105.65368</td>\n",
              "    </tr>\n",
              "    <tr>\n",
              "      <th>6</th>\n",
              "      <td>35.12596</td>\n",
              "      <td>23.36733</td>\n",
              "      <td>20.66367</td>\n",
              "      <td>8.82378</td>\n",
              "      <td>2.67300</td>\n",
              "      <td>90.65374</td>\n",
              "    </tr>\n",
              "    <tr>\n",
              "      <th>7</th>\n",
              "      <td>35.83579</td>\n",
              "      <td>24.37691</td>\n",
              "      <td>20.95257</td>\n",
              "      <td>9.61647</td>\n",
              "      <td>2.97286</td>\n",
              "      <td>93.75460</td>\n",
              "    </tr>\n",
              "    <tr>\n",
              "      <th>8</th>\n",
              "      <td>38.94788</td>\n",
              "      <td>25.63196</td>\n",
              "      <td>21.61006</td>\n",
              "      <td>9.84493</td>\n",
              "      <td>3.00599</td>\n",
              "      <td>99.04082</td>\n",
              "    </tr>\n",
              "    <tr>\n",
              "      <th>9</th>\n",
              "      <td>36.52692</td>\n",
              "      <td>23.95509</td>\n",
              "      <td>20.50716</td>\n",
              "      <td>8.96033</td>\n",
              "      <td>2.91774</td>\n",
              "      <td>92.86724</td>\n",
              "    </tr>\n",
              "    <tr>\n",
              "      <th>10</th>\n",
              "      <td>38.39830</td>\n",
              "      <td>24.40480</td>\n",
              "      <td>20.70340</td>\n",
              "      <td>8.85540</td>\n",
              "      <td>3.08226</td>\n",
              "      <td>95.44416</td>\n",
              "    </tr>\n",
              "    <tr>\n",
              "      <th>11</th>\n",
              "      <td>42.44211</td>\n",
              "      <td>26.57505</td>\n",
              "      <td>21.59881</td>\n",
              "      <td>10.03236</td>\n",
              "      <td>3.53576</td>\n",
              "      <td>104.18409</td>\n",
              "    </tr>\n",
              "    <tr>\n",
              "      <th>12</th>\n",
              "      <td>41.72845</td>\n",
              "      <td>26.34373</td>\n",
              "      <td>20.94714</td>\n",
              "      <td>9.36473</td>\n",
              "      <td>3.14603</td>\n",
              "      <td>101.53008</td>\n",
              "    </tr>\n",
              "    <tr>\n",
              "      <th>Level-wise Total</th>\n",
              "      <td>475.18085</td>\n",
              "      <td>319.06755</td>\n",
              "      <td>270.51551</td>\n",
              "      <td>120.97891</td>\n",
              "      <td>39.89665</td>\n",
              "      <td>1225.63947</td>\n",
              "    </tr>\n",
              "  </tbody>\n",
              "</table>\n",
              "</div>\n",
              "      <button class=\"colab-df-convert\" onclick=\"convertToInteractive('df-6bd95234-51ea-4040-bdb9-70362771ba1f')\"\n",
              "              title=\"Convert this dataframe to an interactive table.\"\n",
              "              style=\"display:none;\">\n",
              "        \n",
              "  <svg xmlns=\"http://www.w3.org/2000/svg\" height=\"24px\"viewBox=\"0 0 24 24\"\n",
              "       width=\"24px\">\n",
              "    <path d=\"M0 0h24v24H0V0z\" fill=\"none\"/>\n",
              "    <path d=\"M18.56 5.44l.94 2.06.94-2.06 2.06-.94-2.06-.94-.94-2.06-.94 2.06-2.06.94zm-11 1L8.5 8.5l.94-2.06 2.06-.94-2.06-.94L8.5 2.5l-.94 2.06-2.06.94zm10 10l.94 2.06.94-2.06 2.06-.94-2.06-.94-.94-2.06-.94 2.06-2.06.94z\"/><path d=\"M17.41 7.96l-1.37-1.37c-.4-.4-.92-.59-1.43-.59-.52 0-1.04.2-1.43.59L10.3 9.45l-7.72 7.72c-.78.78-.78 2.05 0 2.83L4 21.41c.39.39.9.59 1.41.59.51 0 1.02-.2 1.41-.59l7.78-7.78 2.81-2.81c.8-.78.8-2.07 0-2.86zM5.41 20L4 18.59l7.72-7.72 1.47 1.35L5.41 20z\"/>\n",
              "  </svg>\n",
              "      </button>\n",
              "      \n",
              "  <style>\n",
              "    .colab-df-container {\n",
              "      display:flex;\n",
              "      flex-wrap:wrap;\n",
              "      gap: 12px;\n",
              "    }\n",
              "\n",
              "    .colab-df-convert {\n",
              "      background-color: #E8F0FE;\n",
              "      border: none;\n",
              "      border-radius: 50%;\n",
              "      cursor: pointer;\n",
              "      display: none;\n",
              "      fill: #1967D2;\n",
              "      height: 32px;\n",
              "      padding: 0 0 0 0;\n",
              "      width: 32px;\n",
              "    }\n",
              "\n",
              "    .colab-df-convert:hover {\n",
              "      background-color: #E2EBFA;\n",
              "      box-shadow: 0px 1px 2px rgba(60, 64, 67, 0.3), 0px 1px 3px 1px rgba(60, 64, 67, 0.15);\n",
              "      fill: #174EA6;\n",
              "    }\n",
              "\n",
              "    [theme=dark] .colab-df-convert {\n",
              "      background-color: #3B4455;\n",
              "      fill: #D2E3FC;\n",
              "    }\n",
              "\n",
              "    [theme=dark] .colab-df-convert:hover {\n",
              "      background-color: #434B5C;\n",
              "      box-shadow: 0px 1px 3px 1px rgba(0, 0, 0, 0.15);\n",
              "      filter: drop-shadow(0px 1px 2px rgba(0, 0, 0, 0.3));\n",
              "      fill: #FFFFFF;\n",
              "    }\n",
              "  </style>\n",
              "\n",
              "      <script>\n",
              "        const buttonEl =\n",
              "          document.querySelector('#df-6bd95234-51ea-4040-bdb9-70362771ba1f button.colab-df-convert');\n",
              "        buttonEl.style.display =\n",
              "          google.colab.kernel.accessAllowed ? 'block' : 'none';\n",
              "\n",
              "        async function convertToInteractive(key) {\n",
              "          const element = document.querySelector('#df-6bd95234-51ea-4040-bdb9-70362771ba1f');\n",
              "          const dataTable =\n",
              "            await google.colab.kernel.invokeFunction('convertToInteractive',\n",
              "                                                     [key], {});\n",
              "          if (!dataTable) return;\n",
              "\n",
              "          const docLinkHtml = 'Like what you see? Visit the ' +\n",
              "            '<a target=\"_blank\" href=https://colab.research.google.com/notebooks/data_table.ipynb>data table notebook</a>'\n",
              "            + ' to learn more about interactive tables.';\n",
              "          element.innerHTML = '';\n",
              "          dataTable['output_type'] = 'display_data';\n",
              "          await google.colab.output.renderOutput(dataTable, element);\n",
              "          const docLink = document.createElement('div');\n",
              "          docLink.innerHTML = docLinkHtml;\n",
              "          element.appendChild(docLink);\n",
              "        }\n",
              "      </script>\n",
              "    </div>\n",
              "  </div>\n",
              "  "
            ]
          },
          "metadata": {},
          "execution_count": 13
        }
      ]
    },
    {
      "cell_type": "markdown",
      "source": [
        "Pivot view summary for the year 2022"
      ],
      "metadata": {
        "id": "gXA4VRDu945q"
      }
    },
    {
      "cell_type": "code",
      "source": [
        "pivot_2022"
      ],
      "metadata": {
        "colab": {
          "base_uri": "https://localhost:8080/",
          "height": 0
        },
        "id": "SE792Lnq9_jD",
        "outputId": "5663c275-2184-4676-8921-a4670e7b0138"
      },
      "execution_count": 14,
      "outputs": [
        {
          "output_type": "execute_result",
          "data": {
            "text/plain": [
              "KPI               Lv1_Visitors  Lv2_Visitors  Lv3_Visitors  Lv4_Visitors  \\\n",
              "Month                                                                      \n",
              "1                     57.86931      36.12449      29.50453      13.47785   \n",
              "2                     52.09831      32.18617      26.12804      12.06400   \n",
              "3                     54.92505      33.67104      26.42382      10.75375   \n",
              "4                     50.09326      30.23011      23.81095      10.62976   \n",
              "5                     52.76813      33.19900      23.22455       9.93175   \n",
              "6                     52.70040      33.31258      24.00946      10.03187   \n",
              "7                     54.43284      34.56191      24.28696      10.99051   \n",
              "8                     52.36514      32.87205      24.31317      10.09072   \n",
              "9                     51.11320      32.01777      25.63464       9.96363   \n",
              "10                    53.01503      33.12989      25.23965      10.93338   \n",
              "11                    54.76670      35.33584      26.84182      12.27422   \n",
              "12                    49.80277      32.19889      26.45654      10.80652   \n",
              "Level-wise Total     635.95014     398.83974     305.87413     131.94796   \n",
              "\n",
              "KPI               Lv5_Visitors  Month-wise Total  \n",
              "Month                                             \n",
              "1                      4.91002         141.88620  \n",
              "2                      4.45489         126.93141  \n",
              "3                      3.92981         129.70347  \n",
              "4                      3.97493         118.73901  \n",
              "5                      3.66967         122.79310  \n",
              "6                      3.61343         123.66774  \n",
              "7                      3.86571         128.13793  \n",
              "8                      3.64445         123.28553  \n",
              "9                      3.49600         122.22524  \n",
              "10                     4.00363         126.32158  \n",
              "11                     4.57343         133.79201  \n",
              "12                     1.15216         120.41688  \n",
              "Level-wise Total      45.28813        1517.90010  "
            ],
            "text/html": [
              "\n",
              "  <div id=\"df-5be4d186-6c47-4a3a-a860-2e11b0b15793\">\n",
              "    <div class=\"colab-df-container\">\n",
              "      <div>\n",
              "<style scoped>\n",
              "    .dataframe tbody tr th:only-of-type {\n",
              "        vertical-align: middle;\n",
              "    }\n",
              "\n",
              "    .dataframe tbody tr th {\n",
              "        vertical-align: top;\n",
              "    }\n",
              "\n",
              "    .dataframe thead th {\n",
              "        text-align: right;\n",
              "    }\n",
              "</style>\n",
              "<table border=\"1\" class=\"dataframe\">\n",
              "  <thead>\n",
              "    <tr style=\"text-align: right;\">\n",
              "      <th>KPI</th>\n",
              "      <th>Lv1_Visitors</th>\n",
              "      <th>Lv2_Visitors</th>\n",
              "      <th>Lv3_Visitors</th>\n",
              "      <th>Lv4_Visitors</th>\n",
              "      <th>Lv5_Visitors</th>\n",
              "      <th>Month-wise Total</th>\n",
              "    </tr>\n",
              "    <tr>\n",
              "      <th>Month</th>\n",
              "      <th></th>\n",
              "      <th></th>\n",
              "      <th></th>\n",
              "      <th></th>\n",
              "      <th></th>\n",
              "      <th></th>\n",
              "    </tr>\n",
              "  </thead>\n",
              "  <tbody>\n",
              "    <tr>\n",
              "      <th>1</th>\n",
              "      <td>57.86931</td>\n",
              "      <td>36.12449</td>\n",
              "      <td>29.50453</td>\n",
              "      <td>13.47785</td>\n",
              "      <td>4.91002</td>\n",
              "      <td>141.88620</td>\n",
              "    </tr>\n",
              "    <tr>\n",
              "      <th>2</th>\n",
              "      <td>52.09831</td>\n",
              "      <td>32.18617</td>\n",
              "      <td>26.12804</td>\n",
              "      <td>12.06400</td>\n",
              "      <td>4.45489</td>\n",
              "      <td>126.93141</td>\n",
              "    </tr>\n",
              "    <tr>\n",
              "      <th>3</th>\n",
              "      <td>54.92505</td>\n",
              "      <td>33.67104</td>\n",
              "      <td>26.42382</td>\n",
              "      <td>10.75375</td>\n",
              "      <td>3.92981</td>\n",
              "      <td>129.70347</td>\n",
              "    </tr>\n",
              "    <tr>\n",
              "      <th>4</th>\n",
              "      <td>50.09326</td>\n",
              "      <td>30.23011</td>\n",
              "      <td>23.81095</td>\n",
              "      <td>10.62976</td>\n",
              "      <td>3.97493</td>\n",
              "      <td>118.73901</td>\n",
              "    </tr>\n",
              "    <tr>\n",
              "      <th>5</th>\n",
              "      <td>52.76813</td>\n",
              "      <td>33.19900</td>\n",
              "      <td>23.22455</td>\n",
              "      <td>9.93175</td>\n",
              "      <td>3.66967</td>\n",
              "      <td>122.79310</td>\n",
              "    </tr>\n",
              "    <tr>\n",
              "      <th>6</th>\n",
              "      <td>52.70040</td>\n",
              "      <td>33.31258</td>\n",
              "      <td>24.00946</td>\n",
              "      <td>10.03187</td>\n",
              "      <td>3.61343</td>\n",
              "      <td>123.66774</td>\n",
              "    </tr>\n",
              "    <tr>\n",
              "      <th>7</th>\n",
              "      <td>54.43284</td>\n",
              "      <td>34.56191</td>\n",
              "      <td>24.28696</td>\n",
              "      <td>10.99051</td>\n",
              "      <td>3.86571</td>\n",
              "      <td>128.13793</td>\n",
              "    </tr>\n",
              "    <tr>\n",
              "      <th>8</th>\n",
              "      <td>52.36514</td>\n",
              "      <td>32.87205</td>\n",
              "      <td>24.31317</td>\n",
              "      <td>10.09072</td>\n",
              "      <td>3.64445</td>\n",
              "      <td>123.28553</td>\n",
              "    </tr>\n",
              "    <tr>\n",
              "      <th>9</th>\n",
              "      <td>51.11320</td>\n",
              "      <td>32.01777</td>\n",
              "      <td>25.63464</td>\n",
              "      <td>9.96363</td>\n",
              "      <td>3.49600</td>\n",
              "      <td>122.22524</td>\n",
              "    </tr>\n",
              "    <tr>\n",
              "      <th>10</th>\n",
              "      <td>53.01503</td>\n",
              "      <td>33.12989</td>\n",
              "      <td>25.23965</td>\n",
              "      <td>10.93338</td>\n",
              "      <td>4.00363</td>\n",
              "      <td>126.32158</td>\n",
              "    </tr>\n",
              "    <tr>\n",
              "      <th>11</th>\n",
              "      <td>54.76670</td>\n",
              "      <td>35.33584</td>\n",
              "      <td>26.84182</td>\n",
              "      <td>12.27422</td>\n",
              "      <td>4.57343</td>\n",
              "      <td>133.79201</td>\n",
              "    </tr>\n",
              "    <tr>\n",
              "      <th>12</th>\n",
              "      <td>49.80277</td>\n",
              "      <td>32.19889</td>\n",
              "      <td>26.45654</td>\n",
              "      <td>10.80652</td>\n",
              "      <td>1.15216</td>\n",
              "      <td>120.41688</td>\n",
              "    </tr>\n",
              "    <tr>\n",
              "      <th>Level-wise Total</th>\n",
              "      <td>635.95014</td>\n",
              "      <td>398.83974</td>\n",
              "      <td>305.87413</td>\n",
              "      <td>131.94796</td>\n",
              "      <td>45.28813</td>\n",
              "      <td>1517.90010</td>\n",
              "    </tr>\n",
              "  </tbody>\n",
              "</table>\n",
              "</div>\n",
              "      <button class=\"colab-df-convert\" onclick=\"convertToInteractive('df-5be4d186-6c47-4a3a-a860-2e11b0b15793')\"\n",
              "              title=\"Convert this dataframe to an interactive table.\"\n",
              "              style=\"display:none;\">\n",
              "        \n",
              "  <svg xmlns=\"http://www.w3.org/2000/svg\" height=\"24px\"viewBox=\"0 0 24 24\"\n",
              "       width=\"24px\">\n",
              "    <path d=\"M0 0h24v24H0V0z\" fill=\"none\"/>\n",
              "    <path d=\"M18.56 5.44l.94 2.06.94-2.06 2.06-.94-2.06-.94-.94-2.06-.94 2.06-2.06.94zm-11 1L8.5 8.5l.94-2.06 2.06-.94-2.06-.94L8.5 2.5l-.94 2.06-2.06.94zm10 10l.94 2.06.94-2.06 2.06-.94-2.06-.94-.94-2.06-.94 2.06-2.06.94z\"/><path d=\"M17.41 7.96l-1.37-1.37c-.4-.4-.92-.59-1.43-.59-.52 0-1.04.2-1.43.59L10.3 9.45l-7.72 7.72c-.78.78-.78 2.05 0 2.83L4 21.41c.39.39.9.59 1.41.59.51 0 1.02-.2 1.41-.59l7.78-7.78 2.81-2.81c.8-.78.8-2.07 0-2.86zM5.41 20L4 18.59l7.72-7.72 1.47 1.35L5.41 20z\"/>\n",
              "  </svg>\n",
              "      </button>\n",
              "      \n",
              "  <style>\n",
              "    .colab-df-container {\n",
              "      display:flex;\n",
              "      flex-wrap:wrap;\n",
              "      gap: 12px;\n",
              "    }\n",
              "\n",
              "    .colab-df-convert {\n",
              "      background-color: #E8F0FE;\n",
              "      border: none;\n",
              "      border-radius: 50%;\n",
              "      cursor: pointer;\n",
              "      display: none;\n",
              "      fill: #1967D2;\n",
              "      height: 32px;\n",
              "      padding: 0 0 0 0;\n",
              "      width: 32px;\n",
              "    }\n",
              "\n",
              "    .colab-df-convert:hover {\n",
              "      background-color: #E2EBFA;\n",
              "      box-shadow: 0px 1px 2px rgba(60, 64, 67, 0.3), 0px 1px 3px 1px rgba(60, 64, 67, 0.15);\n",
              "      fill: #174EA6;\n",
              "    }\n",
              "\n",
              "    [theme=dark] .colab-df-convert {\n",
              "      background-color: #3B4455;\n",
              "      fill: #D2E3FC;\n",
              "    }\n",
              "\n",
              "    [theme=dark] .colab-df-convert:hover {\n",
              "      background-color: #434B5C;\n",
              "      box-shadow: 0px 1px 3px 1px rgba(0, 0, 0, 0.15);\n",
              "      filter: drop-shadow(0px 1px 2px rgba(0, 0, 0, 0.3));\n",
              "      fill: #FFFFFF;\n",
              "    }\n",
              "  </style>\n",
              "\n",
              "      <script>\n",
              "        const buttonEl =\n",
              "          document.querySelector('#df-5be4d186-6c47-4a3a-a860-2e11b0b15793 button.colab-df-convert');\n",
              "        buttonEl.style.display =\n",
              "          google.colab.kernel.accessAllowed ? 'block' : 'none';\n",
              "\n",
              "        async function convertToInteractive(key) {\n",
              "          const element = document.querySelector('#df-5be4d186-6c47-4a3a-a860-2e11b0b15793');\n",
              "          const dataTable =\n",
              "            await google.colab.kernel.invokeFunction('convertToInteractive',\n",
              "                                                     [key], {});\n",
              "          if (!dataTable) return;\n",
              "\n",
              "          const docLinkHtml = 'Like what you see? Visit the ' +\n",
              "            '<a target=\"_blank\" href=https://colab.research.google.com/notebooks/data_table.ipynb>data table notebook</a>'\n",
              "            + ' to learn more about interactive tables.';\n",
              "          element.innerHTML = '';\n",
              "          dataTable['output_type'] = 'display_data';\n",
              "          await google.colab.output.renderOutput(dataTable, element);\n",
              "          const docLink = document.createElement('div');\n",
              "          docLink.innerHTML = docLinkHtml;\n",
              "          element.appendChild(docLink);\n",
              "        }\n",
              "      </script>\n",
              "    </div>\n",
              "  </div>\n",
              "  "
            ]
          },
          "metadata": {},
          "execution_count": 14
        }
      ]
    },
    {
      "cell_type": "markdown",
      "source": [
        "Insights:  \n",
        "\n",
        "---\n",
        "\n",
        "* The total visitors for the year 2020 is **191,638,498**\n",
        "* The total visitors for the year 2021 is **122,563,947**\n",
        "* The total visitors for the year 2022 is **151,790,010**\n",
        "\n",
        "---\n",
        "\n",
        "*  Visitiors for 3 years:  \n",
        "                    2020        2021        2022  \n",
        "        Level 1    544.79      479.18      635.95 \n",
        "        Level 2    387.42      319.06      398.83\n",
        "        Level 3    384.6       270.51      305.83\n",
        "        Level 4    542.95      120.97      131.94\n",
        "        Level 5    56.59       39.89       45.28  \n",
        "\n",
        "* Level 4 has inconsistent value for the year 2020 which can possibly be an outlier\n",
        "\n",
        "\n",
        "\n",
        "\n"
      ],
      "metadata": {
        "id": "527IMW6c2stu"
      }
    },
    {
      "cell_type": "markdown",
      "source": [
        "### 1.4.2 What is the percentage difference in the number of visitors between different regions and years?"
      ],
      "metadata": {
        "id": "CADN_QUyl3nJ"
      }
    },
    {
      "cell_type": "code",
      "source": [
        "pivot_by_region = df.pivot_table(values=[\"Value\"], index=[\"Year\"], columns=[\"Region\"], aggfunc=np.sum)[\"Value\"]\n",
        "pivot_by_region.sort_values(by=2022 ,axis=1, inplace=True)\n",
        "pivot_by_region.fillna(value=0, inplace=True)\n",
        "pivot_by_region"
      ],
      "metadata": {
        "colab": {
          "base_uri": "https://localhost:8080/",
          "height": 175
        },
        "id": "dAElbqeNuwU9",
        "outputId": "af7628fb-c9d8-4445-b64f-eb13d39a6cc6"
      },
      "execution_count": 99,
      "outputs": [
        {
          "output_type": "execute_result",
          "data": {
            "text/plain": [
              "Region  Aurangabad  Faridabad    Indore    Ujjain  Dehradun     Uddepy  \\\n",
              "Year                                                                     \n",
              "2020       2.85497   11.70281   0.00000  11.76987  11.72070   43.76357   \n",
              "2021       3.00058   11.39358   0.00000   9.20026   9.30998   31.30906   \n",
              "2022       1.96448    9.21404  35.43866  57.43265  82.12445  223.07017   \n",
              "\n",
              "Region       India  \n",
              "Year                \n",
              "2020    1834.57306  \n",
              "2021    1161.42601  \n",
              "2022    1108.65565  "
            ],
            "text/html": [
              "\n",
              "  <div id=\"df-09fd4645-d49f-437d-87d4-57fa640ab71a\">\n",
              "    <div class=\"colab-df-container\">\n",
              "      <div>\n",
              "<style scoped>\n",
              "    .dataframe tbody tr th:only-of-type {\n",
              "        vertical-align: middle;\n",
              "    }\n",
              "\n",
              "    .dataframe tbody tr th {\n",
              "        vertical-align: top;\n",
              "    }\n",
              "\n",
              "    .dataframe thead th {\n",
              "        text-align: right;\n",
              "    }\n",
              "</style>\n",
              "<table border=\"1\" class=\"dataframe\">\n",
              "  <thead>\n",
              "    <tr style=\"text-align: right;\">\n",
              "      <th>Region</th>\n",
              "      <th>Aurangabad</th>\n",
              "      <th>Faridabad</th>\n",
              "      <th>Indore</th>\n",
              "      <th>Ujjain</th>\n",
              "      <th>Dehradun</th>\n",
              "      <th>Uddepy</th>\n",
              "      <th>India</th>\n",
              "    </tr>\n",
              "    <tr>\n",
              "      <th>Year</th>\n",
              "      <th></th>\n",
              "      <th></th>\n",
              "      <th></th>\n",
              "      <th></th>\n",
              "      <th></th>\n",
              "      <th></th>\n",
              "      <th></th>\n",
              "    </tr>\n",
              "  </thead>\n",
              "  <tbody>\n",
              "    <tr>\n",
              "      <th>2020</th>\n",
              "      <td>2.85497</td>\n",
              "      <td>11.70281</td>\n",
              "      <td>0.00000</td>\n",
              "      <td>11.76987</td>\n",
              "      <td>11.72070</td>\n",
              "      <td>43.76357</td>\n",
              "      <td>1834.57306</td>\n",
              "    </tr>\n",
              "    <tr>\n",
              "      <th>2021</th>\n",
              "      <td>3.00058</td>\n",
              "      <td>11.39358</td>\n",
              "      <td>0.00000</td>\n",
              "      <td>9.20026</td>\n",
              "      <td>9.30998</td>\n",
              "      <td>31.30906</td>\n",
              "      <td>1161.42601</td>\n",
              "    </tr>\n",
              "    <tr>\n",
              "      <th>2022</th>\n",
              "      <td>1.96448</td>\n",
              "      <td>9.21404</td>\n",
              "      <td>35.43866</td>\n",
              "      <td>57.43265</td>\n",
              "      <td>82.12445</td>\n",
              "      <td>223.07017</td>\n",
              "      <td>1108.65565</td>\n",
              "    </tr>\n",
              "  </tbody>\n",
              "</table>\n",
              "</div>\n",
              "      <button class=\"colab-df-convert\" onclick=\"convertToInteractive('df-09fd4645-d49f-437d-87d4-57fa640ab71a')\"\n",
              "              title=\"Convert this dataframe to an interactive table.\"\n",
              "              style=\"display:none;\">\n",
              "        \n",
              "  <svg xmlns=\"http://www.w3.org/2000/svg\" height=\"24px\"viewBox=\"0 0 24 24\"\n",
              "       width=\"24px\">\n",
              "    <path d=\"M0 0h24v24H0V0z\" fill=\"none\"/>\n",
              "    <path d=\"M18.56 5.44l.94 2.06.94-2.06 2.06-.94-2.06-.94-.94-2.06-.94 2.06-2.06.94zm-11 1L8.5 8.5l.94-2.06 2.06-.94-2.06-.94L8.5 2.5l-.94 2.06-2.06.94zm10 10l.94 2.06.94-2.06 2.06-.94-2.06-.94-.94-2.06-.94 2.06-2.06.94z\"/><path d=\"M17.41 7.96l-1.37-1.37c-.4-.4-.92-.59-1.43-.59-.52 0-1.04.2-1.43.59L10.3 9.45l-7.72 7.72c-.78.78-.78 2.05 0 2.83L4 21.41c.39.39.9.59 1.41.59.51 0 1.02-.2 1.41-.59l7.78-7.78 2.81-2.81c.8-.78.8-2.07 0-2.86zM5.41 20L4 18.59l7.72-7.72 1.47 1.35L5.41 20z\"/>\n",
              "  </svg>\n",
              "      </button>\n",
              "      \n",
              "  <style>\n",
              "    .colab-df-container {\n",
              "      display:flex;\n",
              "      flex-wrap:wrap;\n",
              "      gap: 12px;\n",
              "    }\n",
              "\n",
              "    .colab-df-convert {\n",
              "      background-color: #E8F0FE;\n",
              "      border: none;\n",
              "      border-radius: 50%;\n",
              "      cursor: pointer;\n",
              "      display: none;\n",
              "      fill: #1967D2;\n",
              "      height: 32px;\n",
              "      padding: 0 0 0 0;\n",
              "      width: 32px;\n",
              "    }\n",
              "\n",
              "    .colab-df-convert:hover {\n",
              "      background-color: #E2EBFA;\n",
              "      box-shadow: 0px 1px 2px rgba(60, 64, 67, 0.3), 0px 1px 3px 1px rgba(60, 64, 67, 0.15);\n",
              "      fill: #174EA6;\n",
              "    }\n",
              "\n",
              "    [theme=dark] .colab-df-convert {\n",
              "      background-color: #3B4455;\n",
              "      fill: #D2E3FC;\n",
              "    }\n",
              "\n",
              "    [theme=dark] .colab-df-convert:hover {\n",
              "      background-color: #434B5C;\n",
              "      box-shadow: 0px 1px 3px 1px rgba(0, 0, 0, 0.15);\n",
              "      filter: drop-shadow(0px 1px 2px rgba(0, 0, 0, 0.3));\n",
              "      fill: #FFFFFF;\n",
              "    }\n",
              "  </style>\n",
              "\n",
              "      <script>\n",
              "        const buttonEl =\n",
              "          document.querySelector('#df-09fd4645-d49f-437d-87d4-57fa640ab71a button.colab-df-convert');\n",
              "        buttonEl.style.display =\n",
              "          google.colab.kernel.accessAllowed ? 'block' : 'none';\n",
              "\n",
              "        async function convertToInteractive(key) {\n",
              "          const element = document.querySelector('#df-09fd4645-d49f-437d-87d4-57fa640ab71a');\n",
              "          const dataTable =\n",
              "            await google.colab.kernel.invokeFunction('convertToInteractive',\n",
              "                                                     [key], {});\n",
              "          if (!dataTable) return;\n",
              "\n",
              "          const docLinkHtml = 'Like what you see? Visit the ' +\n",
              "            '<a target=\"_blank\" href=https://colab.research.google.com/notebooks/data_table.ipynb>data table notebook</a>'\n",
              "            + ' to learn more about interactive tables.';\n",
              "          element.innerHTML = '';\n",
              "          dataTable['output_type'] = 'display_data';\n",
              "          await google.colab.output.renderOutput(dataTable, element);\n",
              "          const docLink = document.createElement('div');\n",
              "          docLink.innerHTML = docLinkHtml;\n",
              "          element.appendChild(docLink);\n",
              "        }\n",
              "      </script>\n",
              "    </div>\n",
              "  </div>\n",
              "  "
            ]
          },
          "metadata": {},
          "execution_count": 99
        }
      ]
    },
    {
      "cell_type": "code",
      "source": [
        "# make figure and assign axis objects\n",
        "fig = plt.figure(figsize=(14, 5))\n",
        "ax1 = fig.add_subplot(121)\n",
        "ax2 = fig.add_subplot(122)\n",
        "fig.subplots_adjust(wspace=0)\n",
        "fig.suptitle(\"Distribution of visitors year 2022\")\n",
        "\n",
        "# large pie chart parameters\n",
        "pie_chart=(pivot_by_region.iloc[2,:-1].sum(), pivot_by_region.iloc[2,-1])\n",
        "\n",
        "ax1.pie(pie_chart, autopct='%1.2f%%', startangle=-45, explode=(0,0.08))\n",
        "\n",
        "# small bar chart parameters\n",
        "bar_chart= pivot_by_region.iloc[2,:-1]\n",
        "bar_chart_pct= 100*(bar_chart/bar_chart.sum())\n",
        "\n",
        "ax2.barh(y=bar_chart.index, width=bar_chart_pct)\n",
        "\n",
        "ax1.set_title('Distribution of visitors in percent')\n",
        "ax2.set_title('Distribution amongst regions')\n",
        "\n",
        "plt.show()"
      ],
      "metadata": {
        "colab": {
          "base_uri": "https://localhost:8080/",
          "height": 491
        },
        "id": "aY9ZITCe0Q_n",
        "outputId": "b8ff9b43-c659-45cc-eed4-86fbc679bf61"
      },
      "execution_count": 104,
      "outputs": [
        {
          "output_type": "display_data",
          "data": {
            "text/plain": [
              "<Figure size 1400x500 with 2 Axes>"
            ],
            "image/png": "[encoded data removed]"
          },
          "metadata": {}
        }
      ]
    }
  ]
}