{
 "cells": [
  {
   "attachments": {},
   "cell_type": "markdown",
   "metadata": {},
   "source": [
    "# Part 3- Prediction"
   ]
  },
  {
   "attachments": {},
   "cell_type": "markdown",
   "metadata": {},
   "source": [
    "Import all libraries"
   ]
  },
  {
   "cell_type": "code",
   "execution_count": 593,
   "metadata": {},
   "outputs": [],
   "source": [
    "import pandas as pd\n",
    "import numpy as np\n",
    "import matplotlib.pyplot as plt\n",
    "%matplotlib inline\n",
    "import seaborn as sns\n",
    "import pmdarima as pm\n",
    "from statsmodels.tsa.arima.model import ARIMA\n",
    "\n",
    "\n",
    "pd.options.mode.chained_assignment = None"
   ]
  },
  {
   "attachments": {},
   "cell_type": "markdown",
   "metadata": {},
   "source": [
    "##  3.1 Write a function called predict_future(‘Region’,’Segment’) which, when called, would perform the following activity:\n",
    ">1. Predict “Level 5” future values for the next 6 months, given the parameters of the function. (Please make sure the parameters have default values in place) Also, plot it.\n",
    ">2. Generates the MAPE and RMSE of your prediction of the year 2022, 2021 & 2020 for the given parameters.  \n",
    "\n",
    "Plot a line graph of the level 5 actual numbers from 2020-2022 & in the same graph, there should be the predicted numbers for 2023. The x-axis should be the timeline from 2020 Jan to 2023 Jun and the y-axis should be the value of the level 5 column and predicted values. You may use Rolling Average and ARIMA for forecasting. (link for reference: \n",
    "https://youtu.be/jiQM93dmUek)\n",
    "\n"
   ]
  },
  {
   "attachments": {},
   "cell_type": "markdown",
   "metadata": {},
   "source": [
    "Load the data"
   ]
  },
  {
   "cell_type": "code",
   "execution_count": 594,
   "metadata": {},
   "outputs": [
    {
     "data": {
      "text/html": [
       "<div>\n",
       "<style scoped>\n",
       "    .dataframe tbody tr th:only-of-type {\n",
       "        vertical-align: middle;\n",
       "    }\n",
       "\n",
       "    .dataframe tbody tr th {\n",
       "        vertical-align: top;\n",
       "    }\n",
       "\n",
       "    .dataframe thead th {\n",
       "        text-align: right;\n",
       "    }\n",
       "</style>\n",
       "<table border=\"1\" class=\"dataframe\">\n",
       "  <thead>\n",
       "    <tr style=\"text-align: right;\">\n",
       "      <th></th>\n",
       "      <th>Year</th>\n",
       "      <th>Month</th>\n",
       "      <th>Segment</th>\n",
       "      <th>Region</th>\n",
       "      <th>KPI</th>\n",
       "      <th>Value Type</th>\n",
       "      <th>Value</th>\n",
       "    </tr>\n",
       "  </thead>\n",
       "  <tbody>\n",
       "    <tr>\n",
       "      <th>0</th>\n",
       "      <td>2020</td>\n",
       "      <td>12</td>\n",
       "      <td>Clients</td>\n",
       "      <td>India</td>\n",
       "      <td>Lv1_Visitors</td>\n",
       "      <td>Actuals</td>\n",
       "      <td>3665558.0</td>\n",
       "    </tr>\n",
       "    <tr>\n",
       "      <th>1</th>\n",
       "      <td>2020</td>\n",
       "      <td>12</td>\n",
       "      <td>Clients</td>\n",
       "      <td>India</td>\n",
       "      <td>Lv2_Visitors</td>\n",
       "      <td>Actuals</td>\n",
       "      <td>2689569.0</td>\n",
       "    </tr>\n",
       "    <tr>\n",
       "      <th>2</th>\n",
       "      <td>2020</td>\n",
       "      <td>12</td>\n",
       "      <td>Clients</td>\n",
       "      <td>India</td>\n",
       "      <td>Lv3_Visitors</td>\n",
       "      <td>Actuals</td>\n",
       "      <td>1300571.0</td>\n",
       "    </tr>\n",
       "    <tr>\n",
       "      <th>3</th>\n",
       "      <td>2020</td>\n",
       "      <td>12</td>\n",
       "      <td>Clients</td>\n",
       "      <td>India</td>\n",
       "      <td>Lv4_Visitors</td>\n",
       "      <td>Actuals</td>\n",
       "      <td>717608.0</td>\n",
       "    </tr>\n",
       "    <tr>\n",
       "      <th>4</th>\n",
       "      <td>2020</td>\n",
       "      <td>12</td>\n",
       "      <td>Clients</td>\n",
       "      <td>India</td>\n",
       "      <td>Lv3_Visitors</td>\n",
       "      <td>Actuals</td>\n",
       "      <td>706677.0</td>\n",
       "    </tr>\n",
       "  </tbody>\n",
       "</table>\n",
       "</div>"
      ],
      "text/plain": [
       "   Year  Month  Segment Region           KPI Value Type      Value\n",
       "0  2020     12  Clients  India  Lv1_Visitors    Actuals  3665558.0\n",
       "1  2020     12  Clients  India  Lv2_Visitors    Actuals  2689569.0\n",
       "2  2020     12  Clients  India  Lv3_Visitors    Actuals  1300571.0\n",
       "3  2020     12  Clients  India  Lv4_Visitors    Actuals   717608.0\n",
       "4  2020     12  Clients  India  Lv3_Visitors    Actuals   706677.0"
      ]
     },
     "execution_count": 594,
     "metadata": {},
     "output_type": "execute_result"
    }
   ],
   "source": [
    "# Reading the dataset\n",
    "df = pd.read_csv(\"../data/createdDataFrame.csv\")\n",
    "df[\"Value\"] = df[\"Value\"]*100000\n",
    "# Displaying the data\n",
    "df.head()"
   ]
  },
  {
   "attachments": {},
   "cell_type": "markdown",
   "metadata": {},
   "source": [
    "### 3.1.1 Predict “Level 5” future values for the next 6 months, given the parameters of the function. (Please make sure the parameters have default values in place) Also, plot it."
   ]
  },
  {
   "cell_type": "code",
   "execution_count": 595,
   "metadata": {},
   "outputs": [
    {
     "data": {
      "text/plain": [
       "(324, 7)"
      ]
     },
     "execution_count": 595,
     "metadata": {},
     "output_type": "execute_result"
    }
   ],
   "source": [
    "# select level_5 values from data\n",
    "df_lv5 = df[df[\"KPI\"]==\"Lv5_Visitors\"]\n",
    "df_lv5.shape"
   ]
  },
  {
   "cell_type": "code",
   "execution_count": 655,
   "metadata": {},
   "outputs": [],
   "source": [
    "region = \"Faridabad\"\n",
    "segment = \"Customers\"\n",
    "\n",
    "def predict_future(region,segment):\n",
    "    tmp_df = df_lv5[(df_lv5[\"Region\"]==region) & (df_lv5[\"Segment\"]==segment)]\n",
    "    tmp_df[\"Date\"] = pd.to_datetime(tmp_df[[\"Year\",\"Month\"]].assign(day=1))\n",
    "    tmp_df = tmp_df[[\"Date\",\"Value\"]]\n",
    "    tmp_df = tmp_df.groupby(by=\"Date\").sum()\n",
    "\n",
    "    train_set = tmp_df[tmp_df.index<\"2022-07-01\"]\n",
    "    test_set = tmp_df[tmp_df.index>=\"2022-07-01\"]\n",
    "\n",
    "    model = pm.auto_arima(train_set.Value,\n",
    "                        seasonal=False,\n",
    "                        test='adf',\n",
    "                        stepwise=True, trace=False)\n",
    "\n",
    "    # Forecast\n",
    "    n_periods = 12\n",
    "    forecast, confint = model.predict(n_periods=n_periods, return_conf_int=True)\n",
    "    print(forecast)\n",
    "    # Plot\n",
    "    plt.figure(figsize=(12,5))\n",
    "    plt.plot(train_set.Value, label=\"Training\")\n",
    "    plt.plot(forecast, color='darkgreen', label=\"Forecast\")\n",
    "    plt.plot(test_set, color=\"orange\", label=\"Actual\")\n",
    "    plt.fill_between(forecast.index, \n",
    "                    confint[:,0], \n",
    "                    confint[:,1], \n",
    "                    color='k', alpha=0.15)\n",
    "\n",
    "    plt.title(region)\n",
    "    plt.legend()\n",
    "    plt.gca().set_ylim(bottom=0)\n",
    "    plt.show()\n",
    "\n",
    "\n",
    "    return tmp_df"
   ]
  },
  {
   "cell_type": "code",
   "execution_count": 656,
   "metadata": {},
   "outputs": [
    {
     "name": "stdout",
     "output_type": "stream",
     "text": [
      "2022-07-01    10860.066981\n",
      "2022-08-01     9192.802760\n",
      "2022-09-01     7525.538538\n",
      "2022-10-01     5858.274317\n",
      "2022-11-01     4191.010096\n",
      "2022-12-01     2523.745874\n",
      "2023-01-01      856.481653\n",
      "2023-02-01     -810.782569\n",
      "2023-03-01    -2478.046790\n",
      "2023-04-01    -4145.311012\n",
      "2023-05-01    -5812.575233\n",
      "2023-06-01    -7479.839454\n",
      "Freq: MS, dtype: float64\n"
     ]
    },
    {
     "data": {
      "image/png": "[encoded data removed]",
      "text/plain": [
       "<Figure size 1200x500 with 1 Axes>"
      ]
     },
     "metadata": {},
     "output_type": "display_data"
    }
   ],
   "source": [
    "regions = list(df[\"Region\"].unique())\n",
    "segment = \"Customers\"\n",
    "results = []\n",
    "for region in regions:\n",
    "    if df_lv5[(df_lv5[\"Region\"]==region) & (df_lv5[\"Segment\"]==segment)].shape[0] != 0:\n",
    "        results.append((region,predict_future(region, segment)))\n",
    "    break"
   ]
  },
  {
   "cell_type": "code",
   "execution_count": null,
   "metadata": {},
   "outputs": [],
   "source": []
  },
  {
   "cell_type": "code",
   "execution_count": null,
   "metadata": {},
   "outputs": [],
   "source": []
  }
 ],
 "metadata": {
  "kernelspec": {
   "display_name": "Python 3",
   "language": "python",
   "name": "python3"
  },
  "language_info": {
   "codemirror_mode": {
    "name": "ipython",
    "version": 3
   },
   "file_extension": ".py",
   "mimetype": "text/x-python",
   "name": "python",
   "nbconvert_exporter": "python",
   "pygments_lexer": "ipython3",
   "version": "3.11.1"
  },
  "orig_nbformat": 4
 },
 "nbformat": 4,
 "nbformat_minor": 2
}
