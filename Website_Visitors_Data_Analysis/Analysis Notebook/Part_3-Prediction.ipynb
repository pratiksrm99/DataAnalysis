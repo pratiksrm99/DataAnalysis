{
 "cells": [
  {
   "attachments": {},
   "cell_type": "markdown",
   "metadata": {},
   "source": [
    "# Part 3- Prediction"
   ]
  },
  {
   "attachments": {},
   "cell_type": "markdown",
   "metadata": {},
   "source": [
    "Import all libraries"
   ]
  },
  {
   "cell_type": "code",
   "execution_count": 1,
   "metadata": {},
   "outputs": [],
   "source": [
    "import pandas as pd\n",
    "import numpy as np\n",
    "import matplotlib.pyplot as plt\n",
    "%matplotlib inline\n",
    "import seaborn as sns"
   ]
  },
  {
   "attachments": {},
   "cell_type": "markdown",
   "metadata": {},
   "source": [
    "##  3.1 Write a function called predict_future(‘Region’,’Segment’) which, when called, would perform the following activity:\n",
    ">1. Predict “Level 5” future values for the next 6 months, given the parameters of the function. (Please make sure the parameters have default values in place) Also, plot it.\n",
    ">2. Generates the MAPE and RMSE of your prediction of the year 2022, 2021 & 2020 for the given parameters.  \n",
    "\n",
    "Plot a line graph of the level 5 actual numbers from 2020-2022 & in the same graph, there should be the predicted numbers for 2023. The x-axis should be the timeline from 2020 Jan to 2023 Jun and the y-axis should be the value of the level 5 column and predicted values. You may use Rolling Average and ARIMA for forecasting. (link for reference: \n",
    "https://youtu.be/jiQM93dmUek)\n",
    "\n"
   ]
  },
  {
   "attachments": {},
   "cell_type": "markdown",
   "metadata": {},
   "source": [
    "Load the data"
   ]
  },
  {
   "cell_type": "code",
   "execution_count": 3,
   "metadata": {},
   "outputs": [
    {
     "data": {
      "text/html": [
       "<div>\n",
       "<style scoped>\n",
       "    .dataframe tbody tr th:only-of-type {\n",
       "        vertical-align: middle;\n",
       "    }\n",
       "\n",
       "    .dataframe tbody tr th {\n",
       "        vertical-align: top;\n",
       "    }\n",
       "\n",
       "    .dataframe thead th {\n",
       "        text-align: right;\n",
       "    }\n",
       "</style>\n",
       "<table border=\"1\" class=\"dataframe\">\n",
       "  <thead>\n",
       "    <tr style=\"text-align: right;\">\n",
       "      <th></th>\n",
       "      <th>Year</th>\n",
       "      <th>Month</th>\n",
       "      <th>Segment</th>\n",
       "      <th>Region</th>\n",
       "      <th>KPI</th>\n",
       "      <th>Value Type</th>\n",
       "      <th>Value</th>\n",
       "    </tr>\n",
       "  </thead>\n",
       "  <tbody>\n",
       "    <tr>\n",
       "      <th>0</th>\n",
       "      <td>2020</td>\n",
       "      <td>12</td>\n",
       "      <td>Clients</td>\n",
       "      <td>India</td>\n",
       "      <td>Lv1_Visitors</td>\n",
       "      <td>Actuals</td>\n",
       "      <td>36.65558</td>\n",
       "    </tr>\n",
       "    <tr>\n",
       "      <th>1</th>\n",
       "      <td>2020</td>\n",
       "      <td>12</td>\n",
       "      <td>Clients</td>\n",
       "      <td>India</td>\n",
       "      <td>Lv2_Visitors</td>\n",
       "      <td>Actuals</td>\n",
       "      <td>26.89569</td>\n",
       "    </tr>\n",
       "    <tr>\n",
       "      <th>2</th>\n",
       "      <td>2020</td>\n",
       "      <td>12</td>\n",
       "      <td>Clients</td>\n",
       "      <td>India</td>\n",
       "      <td>Lv3_Visitors</td>\n",
       "      <td>Actuals</td>\n",
       "      <td>13.00571</td>\n",
       "    </tr>\n",
       "    <tr>\n",
       "      <th>3</th>\n",
       "      <td>2020</td>\n",
       "      <td>12</td>\n",
       "      <td>Clients</td>\n",
       "      <td>India</td>\n",
       "      <td>Lv4_Visitors</td>\n",
       "      <td>Actuals</td>\n",
       "      <td>7.17608</td>\n",
       "    </tr>\n",
       "    <tr>\n",
       "      <th>4</th>\n",
       "      <td>2020</td>\n",
       "      <td>12</td>\n",
       "      <td>Clients</td>\n",
       "      <td>India</td>\n",
       "      <td>Lv3_Visitors</td>\n",
       "      <td>Actuals</td>\n",
       "      <td>7.06677</td>\n",
       "    </tr>\n",
       "  </tbody>\n",
       "</table>\n",
       "</div>"
      ],
      "text/plain": [
       "   Year  Month  Segment Region           KPI Value Type     Value\n",
       "0  2020     12  Clients  India  Lv1_Visitors    Actuals  36.65558\n",
       "1  2020     12  Clients  India  Lv2_Visitors    Actuals  26.89569\n",
       "2  2020     12  Clients  India  Lv3_Visitors    Actuals  13.00571\n",
       "3  2020     12  Clients  India  Lv4_Visitors    Actuals   7.17608\n",
       "4  2020     12  Clients  India  Lv3_Visitors    Actuals   7.06677"
      ]
     },
     "execution_count": 3,
     "metadata": {},
     "output_type": "execute_result"
    }
   ],
   "source": [
    "# Reading the dataset\n",
    "df = pd.read_csv(\"../data/createdDataFrame.csv\")\n",
    "\n",
    "# Displaying the data\n",
    "df.head()"
   ]
  },
  {
   "cell_type": "code",
   "execution_count": null,
   "metadata": {},
   "outputs": [],
   "source": []
  }
 ],
 "metadata": {
  "kernelspec": {
   "display_name": "Python 3",
   "language": "python",
   "name": "python3"
  },
  "language_info": {
   "codemirror_mode": {
    "name": "ipython",
    "version": 3
   },
   "file_extension": ".py",
   "mimetype": "text/x-python",
   "name": "python",
   "nbconvert_exporter": "python",
   "pygments_lexer": "ipython3",
   "version": "3.11.1"
  },
  "orig_nbformat": 4
 },
 "nbformat": 4,
 "nbformat_minor": 2
}
