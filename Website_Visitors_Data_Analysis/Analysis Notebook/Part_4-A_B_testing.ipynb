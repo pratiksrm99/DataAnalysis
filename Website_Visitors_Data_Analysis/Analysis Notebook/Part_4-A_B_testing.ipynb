{
 "cells": [
  {
   "attachments": {},
   "cell_type": "markdown",
   "metadata": {},
   "source": [
    "# Part 4- A/B Testing"
   ]
  },
  {
   "attachments": {},
   "cell_type": "markdown",
   "metadata": {},
   "source": [
    "Import all libraries"
   ]
  },
  {
   "cell_type": "code",
   "execution_count": 36,
   "metadata": {},
   "outputs": [],
   "source": [
    "import pandas as pd\n",
    "import numpy as np\n",
    "import matplotlib.pyplot as plt\n",
    "%matplotlib inline\n",
    "import seaborn as sns"
   ]
  },
  {
   "attachments": {},
   "cell_type": "markdown",
   "metadata": {},
   "source": [
    "##  4.1 Using “AB_Test” sheet in the shared excel file, what is the possible metric you can create for A/B testing excluding no. of clicks and no. of visitors. (Any derived metric from the given no.of clicks and visitors )\n",
    "Perform an AB testing to find which variation whether control or treatment is better.\n"
   ]
  },
  {
   "attachments": {},
   "cell_type": "markdown",
   "metadata": {},
   "source": [
    "Load the data"
   ]
  },
  {
   "cell_type": "code",
   "execution_count": 50,
   "metadata": {},
   "outputs": [
    {
     "data": {
      "text/html": [
       "<div>\n",
       "<style scoped>\n",
       "    .dataframe tbody tr th:only-of-type {\n",
       "        vertical-align: middle;\n",
       "    }\n",
       "\n",
       "    .dataframe tbody tr th {\n",
       "        vertical-align: top;\n",
       "    }\n",
       "\n",
       "    .dataframe thead th {\n",
       "        text-align: right;\n",
       "    }\n",
       "</style>\n",
       "<table border=\"1\" class=\"dataframe\">\n",
       "  <thead>\n",
       "    <tr style=\"text-align: right;\">\n",
       "      <th></th>\n",
       "      <th>Date</th>\n",
       "      <th>Address</th>\n",
       "      <th>Variations</th>\n",
       "      <th>DeviceType</th>\n",
       "      <th>Clicks</th>\n",
       "      <th>Visitors</th>\n",
       "    </tr>\n",
       "  </thead>\n",
       "  <tbody>\n",
       "    <tr>\n",
       "      <th>0</th>\n",
       "      <td>2023-04-09</td>\n",
       "      <td>fyttlyf/business/campaign/campaigns-business/c...</td>\n",
       "      <td>Control</td>\n",
       "      <td>Desktop</td>\n",
       "      <td>146</td>\n",
       "      <td>1189</td>\n",
       "    </tr>\n",
       "    <tr>\n",
       "      <th>1</th>\n",
       "      <td>2023-04-09</td>\n",
       "      <td>fyttlyf/business/campaign/get-paid///</td>\n",
       "      <td>Treatment</td>\n",
       "      <td>Mobile</td>\n",
       "      <td>19</td>\n",
       "      <td>1389</td>\n",
       "    </tr>\n",
       "    <tr>\n",
       "      <th>2</th>\n",
       "      <td>2023-04-09</td>\n",
       "      <td>fyttlyf/business/campaign/campaigns-business/s...</td>\n",
       "      <td>Control</td>\n",
       "      <td>Desktop</td>\n",
       "      <td>134</td>\n",
       "      <td>5752</td>\n",
       "    </tr>\n",
       "    <tr>\n",
       "      <th>3</th>\n",
       "      <td>2023-04-09</td>\n",
       "      <td>fyttlyf/business/product/business-financial-se...</td>\n",
       "      <td>Control</td>\n",
       "      <td>Mobile</td>\n",
       "      <td>123</td>\n",
       "      <td>462</td>\n",
       "    </tr>\n",
       "    <tr>\n",
       "      <th>4</th>\n",
       "      <td>2023-04-09</td>\n",
       "      <td>fyttlyf/business/product/business-accept-payme...</td>\n",
       "      <td>Control</td>\n",
       "      <td>Mobile</td>\n",
       "      <td>126</td>\n",
       "      <td>3177</td>\n",
       "    </tr>\n",
       "  </tbody>\n",
       "</table>\n",
       "</div>"
      ],
      "text/plain": [
       "        Date                                            Address Variations  \\\n",
       "0 2023-04-09  fyttlyf/business/campaign/campaigns-business/c...    Control   \n",
       "1 2023-04-09              fyttlyf/business/campaign/get-paid///  Treatment   \n",
       "2 2023-04-09  fyttlyf/business/campaign/campaigns-business/s...    Control   \n",
       "3 2023-04-09  fyttlyf/business/product/business-financial-se...    Control   \n",
       "4 2023-04-09  fyttlyf/business/product/business-accept-payme...    Control   \n",
       "\n",
       "  DeviceType  Clicks  Visitors  \n",
       "0    Desktop     146      1189  \n",
       "1     Mobile      19      1389  \n",
       "2    Desktop     134      5752  \n",
       "3     Mobile     123       462  \n",
       "4     Mobile     126      3177  "
      ]
     },
     "execution_count": 50,
     "metadata": {},
     "output_type": "execute_result"
    }
   ],
   "source": [
    "# Reading the dataset\n",
    "df = pd.read_excel(\"../data/assignment.xlsx\", sheet_name=\"AB_Test\")\n",
    "\n",
    "# Displaying the data\n",
    "df.head()"
   ]
  },
  {
   "attachments": {},
   "cell_type": "markdown",
   "metadata": {},
   "source": [
    "## Data Checks to perform\n",
    "\n",
    "* Check Missing values\n",
    "* Check Duplicates\n",
    "* Check data type\n",
    "* Check the number of unique values of each column\n",
    "* Check statistics of data set\n",
    "* Check various categories present in the different categorical column"
   ]
  },
  {
   "attachments": {},
   "cell_type": "markdown",
   "metadata": {},
   "source": [
    "### Check Missing values"
   ]
  },
  {
   "cell_type": "code",
   "execution_count": 38,
   "metadata": {},
   "outputs": [
    {
     "data": {
      "text/plain": [
       "Date          0\n",
       "Address       0\n",
       "Variations    0\n",
       "DeviceType    0\n",
       "Clicks        0\n",
       "Visitors      0\n",
       "dtype: int64"
      ]
     },
     "execution_count": 38,
     "metadata": {},
     "output_type": "execute_result"
    }
   ],
   "source": [
    "df.isna().sum()"
   ]
  },
  {
   "cell_type": "markdown",
   "metadata": {},
   "source": [
    "There are no missing values in the data set"
   ]
  },
  {
   "attachments": {},
   "cell_type": "markdown",
   "metadata": {},
   "source": [
    "### Check Duplicates\n",
    "\n"
   ]
  },
  {
   "cell_type": "code",
   "execution_count": 39,
   "metadata": {},
   "outputs": [
    {
     "data": {
      "text/plain": [
       "0"
      ]
     },
     "execution_count": 39,
     "metadata": {},
     "output_type": "execute_result"
    }
   ],
   "source": [
    "df.duplicated().sum()"
   ]
  },
  {
   "cell_type": "markdown",
   "metadata": {},
   "source": [
    "There are no duplicate values in the data set"
   ]
  },
  {
   "attachments": {},
   "cell_type": "markdown",
   "metadata": {},
   "source": [
    "### Check Data Types\n",
    "\n"
   ]
  },
  {
   "cell_type": "code",
   "execution_count": 40,
   "metadata": {},
   "outputs": [
    {
     "name": "stdout",
     "output_type": "stream",
     "text": [
      "<class 'pandas.core.frame.DataFrame'>\n",
      "RangeIndex: 18099 entries, 0 to 18098\n",
      "Data columns (total 6 columns):\n",
      " #   Column      Non-Null Count  Dtype         \n",
      "---  ------      --------------  -----         \n",
      " 0   Date        18099 non-null  datetime64[ns]\n",
      " 1   Address     18099 non-null  object        \n",
      " 2   Variations  18099 non-null  object        \n",
      " 3   DeviceType  18099 non-null  object        \n",
      " 4   Clicks      18099 non-null  int64         \n",
      " 5   Visitors    18099 non-null  int64         \n",
      "dtypes: datetime64[ns](1), int64(2), object(3)\n",
      "memory usage: 848.5+ KB\n"
     ]
    }
   ],
   "source": [
    "df.info()"
   ]
  },
  {
   "attachments": {},
   "cell_type": "markdown",
   "metadata": {},
   "source": [
    "### Check number of unique values in each column\n",
    "\n"
   ]
  },
  {
   "cell_type": "code",
   "execution_count": 41,
   "metadata": {},
   "outputs": [
    {
     "data": {
      "text/plain": [
       "Date            18\n",
       "Address        211\n",
       "Variations       2\n",
       "DeviceType       4\n",
       "Clicks         722\n",
       "Visitors      1705\n",
       "dtype: int64"
      ]
     },
     "execution_count": 41,
     "metadata": {},
     "output_type": "execute_result"
    }
   ],
   "source": [
    "df.nunique()"
   ]
  },
  {
   "attachments": {},
   "cell_type": "markdown",
   "metadata": {},
   "source": [
    "### Check Statistics of Dataset\n",
    "\n"
   ]
  },
  {
   "cell_type": "code",
   "execution_count": 53,
   "metadata": {},
   "outputs": [
    {
     "data": {
      "text/html": [
       "<div>\n",
       "<style scoped>\n",
       "    .dataframe tbody tr th:only-of-type {\n",
       "        vertical-align: middle;\n",
       "    }\n",
       "\n",
       "    .dataframe tbody tr th {\n",
       "        vertical-align: top;\n",
       "    }\n",
       "\n",
       "    .dataframe thead th {\n",
       "        text-align: right;\n",
       "    }\n",
       "</style>\n",
       "<table border=\"1\" class=\"dataframe\">\n",
       "  <thead>\n",
       "    <tr style=\"text-align: right;\">\n",
       "      <th></th>\n",
       "      <th>Clicks</th>\n",
       "      <th>Visitors</th>\n",
       "    </tr>\n",
       "  </thead>\n",
       "  <tbody>\n",
       "    <tr>\n",
       "      <th>count</th>\n",
       "      <td>18099.000000</td>\n",
       "      <td>18099.000000</td>\n",
       "    </tr>\n",
       "    <tr>\n",
       "      <th>mean</th>\n",
       "      <td>55.521023</td>\n",
       "      <td>479.477485</td>\n",
       "    </tr>\n",
       "    <tr>\n",
       "      <th>std</th>\n",
       "      <td>377.760167</td>\n",
       "      <td>5705.466343</td>\n",
       "    </tr>\n",
       "    <tr>\n",
       "      <th>min</th>\n",
       "      <td>0.000000</td>\n",
       "      <td>1.000000</td>\n",
       "    </tr>\n",
       "    <tr>\n",
       "      <th>25%</th>\n",
       "      <td>0.000000</td>\n",
       "      <td>3.000000</td>\n",
       "    </tr>\n",
       "    <tr>\n",
       "      <th>50%</th>\n",
       "      <td>2.000000</td>\n",
       "      <td>13.000000</td>\n",
       "    </tr>\n",
       "    <tr>\n",
       "      <th>75%</th>\n",
       "      <td>12.000000</td>\n",
       "      <td>79.000000</td>\n",
       "    </tr>\n",
       "    <tr>\n",
       "      <th>max</th>\n",
       "      <td>11190.000000</td>\n",
       "      <td>211849.000000</td>\n",
       "    </tr>\n",
       "  </tbody>\n",
       "</table>\n",
       "</div>"
      ],
      "text/plain": [
       "             Clicks       Visitors\n",
       "count  18099.000000   18099.000000\n",
       "mean      55.521023     479.477485\n",
       "std      377.760167    5705.466343\n",
       "min        0.000000       1.000000\n",
       "25%        0.000000       3.000000\n",
       "50%        2.000000      13.000000\n",
       "75%       12.000000      79.000000\n",
       "max    11190.000000  211849.000000"
      ]
     },
     "execution_count": 53,
     "metadata": {},
     "output_type": "execute_result"
    }
   ],
   "source": [
    "df.describe()"
   ]
  },
  {
   "cell_type": "code",
   "execution_count": 67,
   "metadata": {},
   "outputs": [
    {
     "data": {
      "text/html": [
       "<div>\n",
       "<style scoped>\n",
       "    .dataframe tbody tr th:only-of-type {\n",
       "        vertical-align: middle;\n",
       "    }\n",
       "\n",
       "    .dataframe tbody tr th {\n",
       "        vertical-align: top;\n",
       "    }\n",
       "\n",
       "    .dataframe thead th {\n",
       "        text-align: right;\n",
       "    }\n",
       "</style>\n",
       "<table border=\"1\" class=\"dataframe\">\n",
       "  <thead>\n",
       "    <tr style=\"text-align: right;\">\n",
       "      <th></th>\n",
       "      <th>Date</th>\n",
       "      <th>Address</th>\n",
       "      <th>Variations</th>\n",
       "      <th>DeviceType</th>\n",
       "      <th>Clicks</th>\n",
       "      <th>Visitors</th>\n",
       "    </tr>\n",
       "  </thead>\n",
       "  <tbody>\n",
       "    <tr>\n",
       "      <th>0</th>\n",
       "      <td>2023-04-09</td>\n",
       "      <td>fyttlyf/business/campaign/campaigns-business/c...</td>\n",
       "      <td>Control</td>\n",
       "      <td>Desktop</td>\n",
       "      <td>146</td>\n",
       "      <td>1189</td>\n",
       "    </tr>\n",
       "    <tr>\n",
       "      <th>1</th>\n",
       "      <td>2023-04-09</td>\n",
       "      <td>fyttlyf/business/campaign/get-paid///</td>\n",
       "      <td>Treatment</td>\n",
       "      <td>Mobile</td>\n",
       "      <td>19</td>\n",
       "      <td>1389</td>\n",
       "    </tr>\n",
       "    <tr>\n",
       "      <th>2</th>\n",
       "      <td>2023-04-09</td>\n",
       "      <td>fyttlyf/business/campaign/campaigns-business/s...</td>\n",
       "      <td>Control</td>\n",
       "      <td>Desktop</td>\n",
       "      <td>134</td>\n",
       "      <td>5752</td>\n",
       "    </tr>\n",
       "    <tr>\n",
       "      <th>3</th>\n",
       "      <td>2023-04-09</td>\n",
       "      <td>fyttlyf/business/product/business-financial-se...</td>\n",
       "      <td>Control</td>\n",
       "      <td>Mobile</td>\n",
       "      <td>123</td>\n",
       "      <td>462</td>\n",
       "    </tr>\n",
       "    <tr>\n",
       "      <th>4</th>\n",
       "      <td>2023-04-09</td>\n",
       "      <td>fyttlyf/business/product/business-accept-payme...</td>\n",
       "      <td>Control</td>\n",
       "      <td>Mobile</td>\n",
       "      <td>126</td>\n",
       "      <td>3177</td>\n",
       "    </tr>\n",
       "  </tbody>\n",
       "</table>\n",
       "</div>"
      ],
      "text/plain": [
       "        Date                                            Address Variations  \\\n",
       "0 2023-04-09  fyttlyf/business/campaign/campaigns-business/c...    Control   \n",
       "1 2023-04-09              fyttlyf/business/campaign/get-paid///  Treatment   \n",
       "2 2023-04-09  fyttlyf/business/campaign/campaigns-business/s...    Control   \n",
       "3 2023-04-09  fyttlyf/business/product/business-financial-se...    Control   \n",
       "4 2023-04-09  fyttlyf/business/product/business-accept-payme...    Control   \n",
       "\n",
       "  DeviceType  Clicks  Visitors  \n",
       "0    Desktop     146      1189  \n",
       "1     Mobile      19      1389  \n",
       "2    Desktop     134      5752  \n",
       "3     Mobile     123       462  \n",
       "4     Mobile     126      3177  "
      ]
     },
     "execution_count": 67,
     "metadata": {},
     "output_type": "execute_result"
    }
   ],
   "source": [
    "df.head()"
   ]
  },
  {
   "cell_type": "code",
   "execution_count": 107,
   "metadata": {},
   "outputs": [
    {
     "data": {
      "text/html": [
       "<div>\n",
       "<style scoped>\n",
       "    .dataframe tbody tr th:only-of-type {\n",
       "        vertical-align: middle;\n",
       "    }\n",
       "\n",
       "    .dataframe tbody tr th {\n",
       "        vertical-align: top;\n",
       "    }\n",
       "\n",
       "    .dataframe thead th {\n",
       "        text-align: right;\n",
       "    }\n",
       "</style>\n",
       "<table border=\"1\" class=\"dataframe\">\n",
       "  <thead>\n",
       "    <tr style=\"text-align: right;\">\n",
       "      <th></th>\n",
       "      <th></th>\n",
       "      <th>Clicks</th>\n",
       "      <th>Visitors</th>\n",
       "      <th>Interaction Rate</th>\n",
       "    </tr>\n",
       "    <tr>\n",
       "      <th>Variations</th>\n",
       "      <th>Date</th>\n",
       "      <th></th>\n",
       "      <th></th>\n",
       "      <th></th>\n",
       "    </tr>\n",
       "  </thead>\n",
       "  <tbody>\n",
       "    <tr>\n",
       "      <th rowspan=\"18\" valign=\"top\">Control</th>\n",
       "      <th>2023-03-29</th>\n",
       "      <td>50405</td>\n",
       "      <td>498197</td>\n",
       "      <td>0.101175</td>\n",
       "    </tr>\n",
       "    <tr>\n",
       "      <th>2023-03-30</th>\n",
       "      <td>46887</td>\n",
       "      <td>453442</td>\n",
       "      <td>0.103402</td>\n",
       "    </tr>\n",
       "    <tr>\n",
       "      <th>2023-03-31</th>\n",
       "      <td>47251</td>\n",
       "      <td>482210</td>\n",
       "      <td>0.097988</td>\n",
       "    </tr>\n",
       "    <tr>\n",
       "      <th>2023-04-01</th>\n",
       "      <td>34902</td>\n",
       "      <td>374771</td>\n",
       "      <td>0.093129</td>\n",
       "    </tr>\n",
       "    <tr>\n",
       "      <th>2023-04-02</th>\n",
       "      <td>34312</td>\n",
       "      <td>362153</td>\n",
       "      <td>0.094744</td>\n",
       "    </tr>\n",
       "    <tr>\n",
       "      <th>2023-04-03</th>\n",
       "      <td>56714</td>\n",
       "      <td>501013</td>\n",
       "      <td>0.113199</td>\n",
       "    </tr>\n",
       "    <tr>\n",
       "      <th>2023-04-04</th>\n",
       "      <td>55928</td>\n",
       "      <td>482629</td>\n",
       "      <td>0.115882</td>\n",
       "    </tr>\n",
       "    <tr>\n",
       "      <th>2023-04-05</th>\n",
       "      <td>55635</td>\n",
       "      <td>472301</td>\n",
       "      <td>0.117796</td>\n",
       "    </tr>\n",
       "    <tr>\n",
       "      <th>2023-04-06</th>\n",
       "      <td>43667</td>\n",
       "      <td>446805</td>\n",
       "      <td>0.097732</td>\n",
       "    </tr>\n",
       "    <tr>\n",
       "      <th>2023-04-07</th>\n",
       "      <td>40382</td>\n",
       "      <td>411603</td>\n",
       "      <td>0.098109</td>\n",
       "    </tr>\n",
       "    <tr>\n",
       "      <th>2023-04-08</th>\n",
       "      <td>31754</td>\n",
       "      <td>325591</td>\n",
       "      <td>0.097527</td>\n",
       "    </tr>\n",
       "    <tr>\n",
       "      <th>2023-04-09</th>\n",
       "      <td>27950</td>\n",
       "      <td>292751</td>\n",
       "      <td>0.095474</td>\n",
       "    </tr>\n",
       "    <tr>\n",
       "      <th>2023-04-10</th>\n",
       "      <td>53197</td>\n",
       "      <td>471079</td>\n",
       "      <td>0.112926</td>\n",
       "    </tr>\n",
       "    <tr>\n",
       "      <th>2023-04-11</th>\n",
       "      <td>53369</td>\n",
       "      <td>471827</td>\n",
       "      <td>0.113111</td>\n",
       "    </tr>\n",
       "    <tr>\n",
       "      <th>2023-04-12</th>\n",
       "      <td>42855</td>\n",
       "      <td>460841</td>\n",
       "      <td>0.092993</td>\n",
       "    </tr>\n",
       "    <tr>\n",
       "      <th>2023-04-13</th>\n",
       "      <td>42300</td>\n",
       "      <td>457195</td>\n",
       "      <td>0.092521</td>\n",
       "    </tr>\n",
       "    <tr>\n",
       "      <th>2023-04-14</th>\n",
       "      <td>48332</td>\n",
       "      <td>477206</td>\n",
       "      <td>0.101281</td>\n",
       "    </tr>\n",
       "    <tr>\n",
       "      <th>2023-04-15</th>\n",
       "      <td>35857</td>\n",
       "      <td>369447</td>\n",
       "      <td>0.097056</td>\n",
       "    </tr>\n",
       "    <tr>\n",
       "      <th rowspan=\"18\" valign=\"top\">Treatment</th>\n",
       "      <th>2023-03-29</th>\n",
       "      <td>13231</td>\n",
       "      <td>54874</td>\n",
       "      <td>0.241116</td>\n",
       "    </tr>\n",
       "    <tr>\n",
       "      <th>2023-03-30</th>\n",
       "      <td>12682</td>\n",
       "      <td>50791</td>\n",
       "      <td>0.249690</td>\n",
       "    </tr>\n",
       "    <tr>\n",
       "      <th>2023-03-31</th>\n",
       "      <td>12861</td>\n",
       "      <td>53446</td>\n",
       "      <td>0.240635</td>\n",
       "    </tr>\n",
       "    <tr>\n",
       "      <th>2023-04-01</th>\n",
       "      <td>8939</td>\n",
       "      <td>41562</td>\n",
       "      <td>0.215076</td>\n",
       "    </tr>\n",
       "    <tr>\n",
       "      <th>2023-04-02</th>\n",
       "      <td>8413</td>\n",
       "      <td>40335</td>\n",
       "      <td>0.208578</td>\n",
       "    </tr>\n",
       "    <tr>\n",
       "      <th>2023-04-03</th>\n",
       "      <td>14527</td>\n",
       "      <td>55449</td>\n",
       "      <td>0.261988</td>\n",
       "    </tr>\n",
       "    <tr>\n",
       "      <th>2023-04-04</th>\n",
       "      <td>13522</td>\n",
       "      <td>53445</td>\n",
       "      <td>0.253008</td>\n",
       "    </tr>\n",
       "    <tr>\n",
       "      <th>2023-04-05</th>\n",
       "      <td>13244</td>\n",
       "      <td>51924</td>\n",
       "      <td>0.255065</td>\n",
       "    </tr>\n",
       "    <tr>\n",
       "      <th>2023-04-06</th>\n",
       "      <td>11607</td>\n",
       "      <td>49561</td>\n",
       "      <td>0.234196</td>\n",
       "    </tr>\n",
       "    <tr>\n",
       "      <th>2023-04-07</th>\n",
       "      <td>10446</td>\n",
       "      <td>45374</td>\n",
       "      <td>0.230220</td>\n",
       "    </tr>\n",
       "    <tr>\n",
       "      <th>2023-04-08</th>\n",
       "      <td>7288</td>\n",
       "      <td>36044</td>\n",
       "      <td>0.202197</td>\n",
       "    </tr>\n",
       "    <tr>\n",
       "      <th>2023-04-09</th>\n",
       "      <td>6397</td>\n",
       "      <td>32312</td>\n",
       "      <td>0.197976</td>\n",
       "    </tr>\n",
       "    <tr>\n",
       "      <th>2023-04-10</th>\n",
       "      <td>13300</td>\n",
       "      <td>52063</td>\n",
       "      <td>0.255460</td>\n",
       "    </tr>\n",
       "    <tr>\n",
       "      <th>2023-04-11</th>\n",
       "      <td>13104</td>\n",
       "      <td>52799</td>\n",
       "      <td>0.248187</td>\n",
       "    </tr>\n",
       "    <tr>\n",
       "      <th>2023-04-12</th>\n",
       "      <td>11665</td>\n",
       "      <td>51139</td>\n",
       "      <td>0.228104</td>\n",
       "    </tr>\n",
       "    <tr>\n",
       "      <th>2023-04-13</th>\n",
       "      <td>11382</td>\n",
       "      <td>51121</td>\n",
       "      <td>0.222648</td>\n",
       "    </tr>\n",
       "    <tr>\n",
       "      <th>2023-04-14</th>\n",
       "      <td>12225</td>\n",
       "      <td>53474</td>\n",
       "      <td>0.228616</td>\n",
       "    </tr>\n",
       "    <tr>\n",
       "      <th>2023-04-15</th>\n",
       "      <td>8345</td>\n",
       "      <td>41289</td>\n",
       "      <td>0.202112</td>\n",
       "    </tr>\n",
       "  </tbody>\n",
       "</table>\n",
       "</div>"
      ],
      "text/plain": [
       "                       Clicks  Visitors  Interaction Rate\n",
       "Variations Date                                          \n",
       "Control    2023-03-29   50405    498197          0.101175\n",
       "           2023-03-30   46887    453442          0.103402\n",
       "           2023-03-31   47251    482210          0.097988\n",
       "           2023-04-01   34902    374771          0.093129\n",
       "           2023-04-02   34312    362153          0.094744\n",
       "           2023-04-03   56714    501013          0.113199\n",
       "           2023-04-04   55928    482629          0.115882\n",
       "           2023-04-05   55635    472301          0.117796\n",
       "           2023-04-06   43667    446805          0.097732\n",
       "           2023-04-07   40382    411603          0.098109\n",
       "           2023-04-08   31754    325591          0.097527\n",
       "           2023-04-09   27950    292751          0.095474\n",
       "           2023-04-10   53197    471079          0.112926\n",
       "           2023-04-11   53369    471827          0.113111\n",
       "           2023-04-12   42855    460841          0.092993\n",
       "           2023-04-13   42300    457195          0.092521\n",
       "           2023-04-14   48332    477206          0.101281\n",
       "           2023-04-15   35857    369447          0.097056\n",
       "Treatment  2023-03-29   13231     54874          0.241116\n",
       "           2023-03-30   12682     50791          0.249690\n",
       "           2023-03-31   12861     53446          0.240635\n",
       "           2023-04-01    8939     41562          0.215076\n",
       "           2023-04-02    8413     40335          0.208578\n",
       "           2023-04-03   14527     55449          0.261988\n",
       "           2023-04-04   13522     53445          0.253008\n",
       "           2023-04-05   13244     51924          0.255065\n",
       "           2023-04-06   11607     49561          0.234196\n",
       "           2023-04-07   10446     45374          0.230220\n",
       "           2023-04-08    7288     36044          0.202197\n",
       "           2023-04-09    6397     32312          0.197976\n",
       "           2023-04-10   13300     52063          0.255460\n",
       "           2023-04-11   13104     52799          0.248187\n",
       "           2023-04-12   11665     51139          0.228104\n",
       "           2023-04-13   11382     51121          0.222648\n",
       "           2023-04-14   12225     53474          0.228616\n",
       "           2023-04-15    8345     41289          0.202112"
      ]
     },
     "execution_count": 107,
     "metadata": {},
     "output_type": "execute_result"
    }
   ],
   "source": [
    "new_df = df.drop(columns=[\"DeviceType\", \"Address\"])\n",
    "new_df = new_df.groupby(by=[\"Variations\", \"Date\"]).sum()\n",
    "new_df[\"Interaction Rate\"] = new_df[\"Clicks\"] / new_df[\"Visitors\"]\n",
    "new_df"
   ]
  },
  {
   "cell_type": "code",
   "execution_count": 110,
   "metadata": {},
   "outputs": [
    {
     "data": {
      "image/png": "[encoded data removed]",
      "text/plain": [
       "<Figure size 640x480 with 1 Axes>"
      ]
     },
     "metadata": {},
     "output_type": "display_data"
    }
   ],
   "source": [
    "sns.scatterplot(new_df.reset_index(),\n",
    "                x=\"Date\", y=\"Interaction Rate\", hue=\"Variations\")\n",
    "\n",
    "plt.xticks(rotation=90)\n",
    "plt.show()"
   ]
  },
  {
   "cell_type": "code",
   "execution_count": 136,
   "metadata": {},
   "outputs": [
    {
     "data": {
      "text/plain": [
       "array([<AxesSubplot: ylabel='Date'>], dtype=object)"
      ]
     },
     "execution_count": 136,
     "metadata": {},
     "output_type": "execute_result"
    },
    {
     "data": {
      "image/png": "[encoded data removed]",
      "text/plain": [
       "<Figure size 640x480 with 1 Axes>"
      ]
     },
     "metadata": {},
     "output_type": "display_data"
    }
   ],
   "source": [
    "df.groupby(by=\"Variations\").count()[\"Date\"].plot(kind=\"pie\", subplots=True)"
   ]
  },
  {
   "cell_type": "code",
   "execution_count": null,
   "metadata": {},
   "outputs": [],
   "source": []
  },
  {
   "cell_type": "code",
   "execution_count": null,
   "metadata": {},
   "outputs": [],
   "source": []
  }
 ],
 "metadata": {
  "kernelspec": {
   "display_name": "Python 3",
   "language": "python",
   "name": "python3"
  },
  "language_info": {
   "codemirror_mode": {
    "name": "ipython",
    "version": 3
   },
   "file_extension": ".py",
   "mimetype": "text/x-python",
   "name": "python",
   "nbconvert_exporter": "python",
   "pygments_lexer": "ipython3",
   "version": "3.11.1"
  },
  "orig_nbformat": 4
 },
 "nbformat": 4,
 "nbformat_minor": 2
}
