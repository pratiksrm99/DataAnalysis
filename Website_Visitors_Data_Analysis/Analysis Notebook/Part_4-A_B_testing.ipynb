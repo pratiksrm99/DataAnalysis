{
 "cells": [
  {
   "attachments": {},
   "cell_type": "markdown",
   "metadata": {},
   "source": [
    "# Part 4- A/B Testing"
   ]
  },
  {
   "attachments": {},
   "cell_type": "markdown",
   "metadata": {},
   "source": [
    "Import all libraries"
   ]
  },
  {
   "cell_type": "code",
   "execution_count": 36,
   "metadata": {},
   "outputs": [],
   "source": [
    "import pandas as pd\n",
    "import numpy as np\n",
    "import matplotlib.pyplot as plt\n",
    "%matplotlib inline\n",
    "import seaborn as sns"
   ]
  },
  {
   "attachments": {},
   "cell_type": "markdown",
   "metadata": {},
   "source": [
    "##  4.1 Using “AB_Test” sheet in the shared excel file, what is the possible metric you can create for A/B testing excluding no. of clicks and no. of visitors. (Any derived metric from the given no.of clicks and visitors )\n",
    "Perform an AB testing to find which variation whether control or treatment is better.\n"
   ]
  },
  {
   "attachments": {},
   "cell_type": "markdown",
   "metadata": {},
   "source": [
    "Load the data"
   ]
  },
  {
   "cell_type": "code",
   "execution_count": 50,
   "metadata": {},
   "outputs": [
    {
     "data": {
      "text/html": [
       "<div>\n",
       "<style scoped>\n",
       "    .dataframe tbody tr th:only-of-type {\n",
       "        vertical-align: middle;\n",
       "    }\n",
       "\n",
       "    .dataframe tbody tr th {\n",
       "        vertical-align: top;\n",
       "    }\n",
       "\n",
       "    .dataframe thead th {\n",
       "        text-align: right;\n",
       "    }\n",
       "</style>\n",
       "<table border=\"1\" class=\"dataframe\">\n",
       "  <thead>\n",
       "    <tr style=\"text-align: right;\">\n",
       "      <th></th>\n",
       "      <th>Date</th>\n",
       "      <th>Address</th>\n",
       "      <th>Variations</th>\n",
       "      <th>DeviceType</th>\n",
       "      <th>Clicks</th>\n",
       "      <th>Visitors</th>\n",
       "    </tr>\n",
       "  </thead>\n",
       "  <tbody>\n",
       "    <tr>\n",
       "      <th>0</th>\n",
       "      <td>2023-04-09</td>\n",
       "      <td>fyttlyf/business/campaign/campaigns-business/c...</td>\n",
       "      <td>Control</td>\n",
       "      <td>Desktop</td>\n",
       "      <td>146</td>\n",
       "      <td>1189</td>\n",
       "    </tr>\n",
       "    <tr>\n",
       "      <th>1</th>\n",
       "      <td>2023-04-09</td>\n",
       "      <td>fyttlyf/business/campaign/get-paid///</td>\n",
       "      <td>Treatment</td>\n",
       "      <td>Mobile</td>\n",
       "      <td>19</td>\n",
       "      <td>1389</td>\n",
       "    </tr>\n",
       "    <tr>\n",
       "      <th>2</th>\n",
       "      <td>2023-04-09</td>\n",
       "      <td>fyttlyf/business/campaign/campaigns-business/s...</td>\n",
       "      <td>Control</td>\n",
       "      <td>Desktop</td>\n",
       "      <td>134</td>\n",
       "      <td>5752</td>\n",
       "    </tr>\n",
       "    <tr>\n",
       "      <th>3</th>\n",
       "      <td>2023-04-09</td>\n",
       "      <td>fyttlyf/business/product/business-financial-se...</td>\n",
       "      <td>Control</td>\n",
       "      <td>Mobile</td>\n",
       "      <td>123</td>\n",
       "      <td>462</td>\n",
       "    </tr>\n",
       "    <tr>\n",
       "      <th>4</th>\n",
       "      <td>2023-04-09</td>\n",
       "      <td>fyttlyf/business/product/business-accept-payme...</td>\n",
       "      <td>Control</td>\n",
       "      <td>Mobile</td>\n",
       "      <td>126</td>\n",
       "      <td>3177</td>\n",
       "    </tr>\n",
       "  </tbody>\n",
       "</table>\n",
       "</div>"
      ],
      "text/plain": [
       "        Date                                            Address Variations  \\\n",
       "0 2023-04-09  fyttlyf/business/campaign/campaigns-business/c...    Control   \n",
       "1 2023-04-09              fyttlyf/business/campaign/get-paid///  Treatment   \n",
       "2 2023-04-09  fyttlyf/business/campaign/campaigns-business/s...    Control   \n",
       "3 2023-04-09  fyttlyf/business/product/business-financial-se...    Control   \n",
       "4 2023-04-09  fyttlyf/business/product/business-accept-payme...    Control   \n",
       "\n",
       "  DeviceType  Clicks  Visitors  \n",
       "0    Desktop     146      1189  \n",
       "1     Mobile      19      1389  \n",
       "2    Desktop     134      5752  \n",
       "3     Mobile     123       462  \n",
       "4     Mobile     126      3177  "
      ]
     },
     "execution_count": 50,
     "metadata": {},
     "output_type": "execute_result"
    }
   ],
   "source": [
    "# Reading the dataset\n",
    "df = pd.read_excel(\"../data/assignment.xlsx\", sheet_name=\"AB_Test\")\n",
    "\n",
    "# Displaying the data\n",
    "df.head()"
   ]
  },
  {
   "attachments": {},
   "cell_type": "markdown",
   "metadata": {},
   "source": [
    "## Data Checks to perform\n",
    "\n",
    "* Check Missing values\n",
    "* Check Duplicates\n",
    "* Check data type\n",
    "* Check the number of unique values of each column\n",
    "* Check statistics of data set\n",
    "* Check various categories present in the different categorical column"
   ]
  },
  {
   "attachments": {},
   "cell_type": "markdown",
   "metadata": {},
   "source": [
    "### Check Missing values"
   ]
  },
  {
   "cell_type": "code",
   "execution_count": 38,
   "metadata": {},
   "outputs": [
    {
     "data": {
      "text/plain": [
       "Date          0\n",
       "Address       0\n",
       "Variations    0\n",
       "DeviceType    0\n",
       "Clicks        0\n",
       "Visitors      0\n",
       "dtype: int64"
      ]
     },
     "execution_count": 38,
     "metadata": {},
     "output_type": "execute_result"
    }
   ],
   "source": [
    "df.isna().sum()"
   ]
  },
  {
   "cell_type": "markdown",
   "metadata": {},
   "source": [
    "There are no missing values in the data set"
   ]
  },
  {
   "attachments": {},
   "cell_type": "markdown",
   "metadata": {},
   "source": [
    "### Check Duplicates\n",
    "\n"
   ]
  },
  {
   "cell_type": "code",
   "execution_count": 39,
   "metadata": {},
   "outputs": [
    {
     "data": {
      "text/plain": [
       "0"
      ]
     },
     "execution_count": 39,
     "metadata": {},
     "output_type": "execute_result"
    }
   ],
   "source": [
    "df.duplicated().sum()"
   ]
  },
  {
   "cell_type": "markdown",
   "metadata": {},
   "source": [
    "There are no duplicate values in the data set"
   ]
  },
  {
   "attachments": {},
   "cell_type": "markdown",
   "metadata": {},
   "source": [
    "### Check Data Types\n",
    "\n"
   ]
  },
  {
   "cell_type": "code",
   "execution_count": 40,
   "metadata": {},
   "outputs": [
    {
     "name": "stdout",
     "output_type": "stream",
     "text": [
      "<class 'pandas.core.frame.DataFrame'>\n",
      "RangeIndex: 18099 entries, 0 to 18098\n",
      "Data columns (total 6 columns):\n",
      " #   Column      Non-Null Count  Dtype         \n",
      "---  ------      --------------  -----         \n",
      " 0   Date        18099 non-null  datetime64[ns]\n",
      " 1   Address     18099 non-null  object        \n",
      " 2   Variations  18099 non-null  object        \n",
      " 3   DeviceType  18099 non-null  object        \n",
      " 4   Clicks      18099 non-null  int64         \n",
      " 5   Visitors    18099 non-null  int64         \n",
      "dtypes: datetime64[ns](1), int64(2), object(3)\n",
      "memory usage: 848.5+ KB\n"
     ]
    }
   ],
   "source": [
    "df.info()"
   ]
  },
  {
   "attachments": {},
   "cell_type": "markdown",
   "metadata": {},
   "source": [
    "### Check number of unique values in each column\n",
    "\n"
   ]
  },
  {
   "cell_type": "code",
   "execution_count": 41,
   "metadata": {},
   "outputs": [
    {
     "data": {
      "text/plain": [
       "Date            18\n",
       "Address        211\n",
       "Variations       2\n",
       "DeviceType       4\n",
       "Clicks         722\n",
       "Visitors      1705\n",
       "dtype: int64"
      ]
     },
     "execution_count": 41,
     "metadata": {},
     "output_type": "execute_result"
    }
   ],
   "source": [
    "df.nunique()"
   ]
  },
  {
   "attachments": {},
   "cell_type": "markdown",
   "metadata": {},
   "source": [
    "### Check Statistics of Dataset\n",
    "\n"
   ]
  },
  {
   "cell_type": "code",
   "execution_count": 53,
   "metadata": {},
   "outputs": [
    {
     "data": {
      "text/html": [
       "<div>\n",
       "<style scoped>\n",
       "    .dataframe tbody tr th:only-of-type {\n",
       "        vertical-align: middle;\n",
       "    }\n",
       "\n",
       "    .dataframe tbody tr th {\n",
       "        vertical-align: top;\n",
       "    }\n",
       "\n",
       "    .dataframe thead th {\n",
       "        text-align: right;\n",
       "    }\n",
       "</style>\n",
       "<table border=\"1\" class=\"dataframe\">\n",
       "  <thead>\n",
       "    <tr style=\"text-align: right;\">\n",
       "      <th></th>\n",
       "      <th>Clicks</th>\n",
       "      <th>Visitors</th>\n",
       "    </tr>\n",
       "  </thead>\n",
       "  <tbody>\n",
       "    <tr>\n",
       "      <th>count</th>\n",
       "      <td>18099.000000</td>\n",
       "      <td>18099.000000</td>\n",
       "    </tr>\n",
       "    <tr>\n",
       "      <th>mean</th>\n",
       "      <td>55.521023</td>\n",
       "      <td>479.477485</td>\n",
       "    </tr>\n",
       "    <tr>\n",
       "      <th>std</th>\n",
       "      <td>377.760167</td>\n",
       "      <td>5705.466343</td>\n",
       "    </tr>\n",
       "    <tr>\n",
       "      <th>min</th>\n",
       "      <td>0.000000</td>\n",
       "      <td>1.000000</td>\n",
       "    </tr>\n",
       "    <tr>\n",
       "      <th>25%</th>\n",
       "      <td>0.000000</td>\n",
       "      <td>3.000000</td>\n",
       "    </tr>\n",
       "    <tr>\n",
       "      <th>50%</th>\n",
       "      <td>2.000000</td>\n",
       "      <td>13.000000</td>\n",
       "    </tr>\n",
       "    <tr>\n",
       "      <th>75%</th>\n",
       "      <td>12.000000</td>\n",
       "      <td>79.000000</td>\n",
       "    </tr>\n",
       "    <tr>\n",
       "      <th>max</th>\n",
       "      <td>11190.000000</td>\n",
       "      <td>211849.000000</td>\n",
       "    </tr>\n",
       "  </tbody>\n",
       "</table>\n",
       "</div>"
      ],
      "text/plain": [
       "             Clicks       Visitors\n",
       "count  18099.000000   18099.000000\n",
       "mean      55.521023     479.477485\n",
       "std      377.760167    5705.466343\n",
       "min        0.000000       1.000000\n",
       "25%        0.000000       3.000000\n",
       "50%        2.000000      13.000000\n",
       "75%       12.000000      79.000000\n",
       "max    11190.000000  211849.000000"
      ]
     },
     "execution_count": 53,
     "metadata": {},
     "output_type": "execute_result"
    }
   ],
   "source": [
    "df.describe()"
   ]
  },
  {
   "cell_type": "code",
   "execution_count": 67,
   "metadata": {},
   "outputs": [
    {
     "data": {
      "text/html": [
       "<div>\n",
       "<style scoped>\n",
       "    .dataframe tbody tr th:only-of-type {\n",
       "        vertical-align: middle;\n",
       "    }\n",
       "\n",
       "    .dataframe tbody tr th {\n",
       "        vertical-align: top;\n",
       "    }\n",
       "\n",
       "    .dataframe thead th {\n",
       "        text-align: right;\n",
       "    }\n",
       "</style>\n",
       "<table border=\"1\" class=\"dataframe\">\n",
       "  <thead>\n",
       "    <tr style=\"text-align: right;\">\n",
       "      <th></th>\n",
       "      <th>Date</th>\n",
       "      <th>Address</th>\n",
       "      <th>Variations</th>\n",
       "      <th>DeviceType</th>\n",
       "      <th>Clicks</th>\n",
       "      <th>Visitors</th>\n",
       "    </tr>\n",
       "  </thead>\n",
       "  <tbody>\n",
       "    <tr>\n",
       "      <th>0</th>\n",
       "      <td>2023-04-09</td>\n",
       "      <td>fyttlyf/business/campaign/campaigns-business/c...</td>\n",
       "      <td>Control</td>\n",
       "      <td>Desktop</td>\n",
       "      <td>146</td>\n",
       "      <td>1189</td>\n",
       "    </tr>\n",
       "    <tr>\n",
       "      <th>1</th>\n",
       "      <td>2023-04-09</td>\n",
       "      <td>fyttlyf/business/campaign/get-paid///</td>\n",
       "      <td>Treatment</td>\n",
       "      <td>Mobile</td>\n",
       "      <td>19</td>\n",
       "      <td>1389</td>\n",
       "    </tr>\n",
       "    <tr>\n",
       "      <th>2</th>\n",
       "      <td>2023-04-09</td>\n",
       "      <td>fyttlyf/business/campaign/campaigns-business/s...</td>\n",
       "      <td>Control</td>\n",
       "      <td>Desktop</td>\n",
       "      <td>134</td>\n",
       "      <td>5752</td>\n",
       "    </tr>\n",
       "    <tr>\n",
       "      <th>3</th>\n",
       "      <td>2023-04-09</td>\n",
       "      <td>fyttlyf/business/product/business-financial-se...</td>\n",
       "      <td>Control</td>\n",
       "      <td>Mobile</td>\n",
       "      <td>123</td>\n",
       "      <td>462</td>\n",
       "    </tr>\n",
       "    <tr>\n",
       "      <th>4</th>\n",
       "      <td>2023-04-09</td>\n",
       "      <td>fyttlyf/business/product/business-accept-payme...</td>\n",
       "      <td>Control</td>\n",
       "      <td>Mobile</td>\n",
       "      <td>126</td>\n",
       "      <td>3177</td>\n",
       "    </tr>\n",
       "  </tbody>\n",
       "</table>\n",
       "</div>"
      ],
      "text/plain": [
       "        Date                                            Address Variations  \\\n",
       "0 2023-04-09  fyttlyf/business/campaign/campaigns-business/c...    Control   \n",
       "1 2023-04-09              fyttlyf/business/campaign/get-paid///  Treatment   \n",
       "2 2023-04-09  fyttlyf/business/campaign/campaigns-business/s...    Control   \n",
       "3 2023-04-09  fyttlyf/business/product/business-financial-se...    Control   \n",
       "4 2023-04-09  fyttlyf/business/product/business-accept-payme...    Control   \n",
       "\n",
       "  DeviceType  Clicks  Visitors  \n",
       "0    Desktop     146      1189  \n",
       "1     Mobile      19      1389  \n",
       "2    Desktop     134      5752  \n",
       "3     Mobile     123       462  \n",
       "4     Mobile     126      3177  "
      ]
     },
     "execution_count": 67,
     "metadata": {},
     "output_type": "execute_result"
    }
   ],
   "source": [
    "df.head()"
   ]
  },
  {
   "cell_type": "code",
   "execution_count": 151,
   "metadata": {},
   "outputs": [
    {
     "name": "stdout",
     "output_type": "stream",
     "text": [
      "                       Clicks  Visitors  Interaction Rate\n",
      "Variations Date                                          \n",
      "Control    2023-03-29   50405    498197          0.101175\n",
      "           2023-03-30   46887    453442          0.103402\n",
      "           2023-03-31   47251    482210          0.097988\n",
      "           2023-04-01   34902    374771          0.093129\n",
      "           2023-04-02   34312    362153          0.094744\n"
     ]
    },
    {
     "data": {
      "text/html": [
       "<div>\n",
       "<style scoped>\n",
       "    .dataframe tbody tr th:only-of-type {\n",
       "        vertical-align: middle;\n",
       "    }\n",
       "\n",
       "    .dataframe tbody tr th {\n",
       "        vertical-align: top;\n",
       "    }\n",
       "\n",
       "    .dataframe thead th {\n",
       "        text-align: right;\n",
       "    }\n",
       "</style>\n",
       "<table border=\"1\" class=\"dataframe\">\n",
       "  <thead>\n",
       "    <tr style=\"text-align: right;\">\n",
       "      <th>Variations</th>\n",
       "      <th>Control</th>\n",
       "      <th>Treatment</th>\n",
       "    </tr>\n",
       "    <tr>\n",
       "      <th>Date</th>\n",
       "      <th></th>\n",
       "      <th></th>\n",
       "    </tr>\n",
       "  </thead>\n",
       "  <tbody>\n",
       "    <tr>\n",
       "      <th>2023-03-29</th>\n",
       "      <td>0.101175</td>\n",
       "      <td>0.241116</td>\n",
       "    </tr>\n",
       "    <tr>\n",
       "      <th>2023-03-30</th>\n",
       "      <td>0.103402</td>\n",
       "      <td>0.249690</td>\n",
       "    </tr>\n",
       "    <tr>\n",
       "      <th>2023-03-31</th>\n",
       "      <td>0.097988</td>\n",
       "      <td>0.240635</td>\n",
       "    </tr>\n",
       "    <tr>\n",
       "      <th>2023-04-01</th>\n",
       "      <td>0.093129</td>\n",
       "      <td>0.215076</td>\n",
       "    </tr>\n",
       "    <tr>\n",
       "      <th>2023-04-02</th>\n",
       "      <td>0.094744</td>\n",
       "      <td>0.208578</td>\n",
       "    </tr>\n",
       "    <tr>\n",
       "      <th>2023-04-03</th>\n",
       "      <td>0.113199</td>\n",
       "      <td>0.261988</td>\n",
       "    </tr>\n",
       "    <tr>\n",
       "      <th>2023-04-04</th>\n",
       "      <td>0.115882</td>\n",
       "      <td>0.253008</td>\n",
       "    </tr>\n",
       "    <tr>\n",
       "      <th>2023-04-05</th>\n",
       "      <td>0.117796</td>\n",
       "      <td>0.255065</td>\n",
       "    </tr>\n",
       "    <tr>\n",
       "      <th>2023-04-06</th>\n",
       "      <td>0.097732</td>\n",
       "      <td>0.234196</td>\n",
       "    </tr>\n",
       "    <tr>\n",
       "      <th>2023-04-07</th>\n",
       "      <td>0.098109</td>\n",
       "      <td>0.230220</td>\n",
       "    </tr>\n",
       "    <tr>\n",
       "      <th>2023-04-08</th>\n",
       "      <td>0.097527</td>\n",
       "      <td>0.202197</td>\n",
       "    </tr>\n",
       "    <tr>\n",
       "      <th>2023-04-09</th>\n",
       "      <td>0.095474</td>\n",
       "      <td>0.197976</td>\n",
       "    </tr>\n",
       "    <tr>\n",
       "      <th>2023-04-10</th>\n",
       "      <td>0.112926</td>\n",
       "      <td>0.255460</td>\n",
       "    </tr>\n",
       "    <tr>\n",
       "      <th>2023-04-11</th>\n",
       "      <td>0.113111</td>\n",
       "      <td>0.248187</td>\n",
       "    </tr>\n",
       "    <tr>\n",
       "      <th>2023-04-12</th>\n",
       "      <td>0.092993</td>\n",
       "      <td>0.228104</td>\n",
       "    </tr>\n",
       "    <tr>\n",
       "      <th>2023-04-13</th>\n",
       "      <td>0.092521</td>\n",
       "      <td>0.222648</td>\n",
       "    </tr>\n",
       "    <tr>\n",
       "      <th>2023-04-14</th>\n",
       "      <td>0.101281</td>\n",
       "      <td>0.228616</td>\n",
       "    </tr>\n",
       "    <tr>\n",
       "      <th>2023-04-15</th>\n",
       "      <td>0.097056</td>\n",
       "      <td>0.202112</td>\n",
       "    </tr>\n",
       "  </tbody>\n",
       "</table>\n",
       "</div>"
      ],
      "text/plain": [
       "Variations   Control  Treatment\n",
       "Date                           \n",
       "2023-03-29  0.101175   0.241116\n",
       "2023-03-30  0.103402   0.249690\n",
       "2023-03-31  0.097988   0.240635\n",
       "2023-04-01  0.093129   0.215076\n",
       "2023-04-02  0.094744   0.208578\n",
       "2023-04-03  0.113199   0.261988\n",
       "2023-04-04  0.115882   0.253008\n",
       "2023-04-05  0.117796   0.255065\n",
       "2023-04-06  0.097732   0.234196\n",
       "2023-04-07  0.098109   0.230220\n",
       "2023-04-08  0.097527   0.202197\n",
       "2023-04-09  0.095474   0.197976\n",
       "2023-04-10  0.112926   0.255460\n",
       "2023-04-11  0.113111   0.248187\n",
       "2023-04-12  0.092993   0.228104\n",
       "2023-04-13  0.092521   0.222648\n",
       "2023-04-14  0.101281   0.228616\n",
       "2023-04-15  0.097056   0.202112"
      ]
     },
     "execution_count": 151,
     "metadata": {},
     "output_type": "execute_result"
    }
   ],
   "source": [
    "new_df = df.drop(columns=[\"DeviceType\", \"Address\"])\n",
    "new_df = new_df.groupby(by=[\"Variations\", \"Date\"]).sum()\n",
    "new_df[\"Interaction Rate\"] = new_df[\"Clicks\"] / new_df[\"Visitors\"]\n",
    "print(new_df.head())\n",
    "new_df = new_df.reset_index().pivot_table(index=\"Date\", columns=\"Variations\", values=\"Interaction Rate\")\n",
    "new_df"
   ]
  },
  {
   "cell_type": "code",
   "execution_count": 180,
   "metadata": {},
   "outputs": [
    {
     "data": {
      "image/png": "[encoded data removed]",
      "text/plain": [
       "<Figure size 640x480 with 1 Axes>"
      ]
     },
     "metadata": {},
     "output_type": "display_data"
    }
   ],
   "source": [
    "\n",
    "sns.lineplot(new_df)\n",
    "plt.xticks(rotation=70)\n",
    "plt.legend()\n",
    "plt.show()"
   ]
  },
  {
   "cell_type": "code",
   "execution_count": 184,
   "metadata": {},
   "outputs": [
    {
     "data": {
      "text/plain": [
       "Variations\n",
       "Control      10547\n",
       "Treatment     7552\n",
       "Name: Visitors, dtype: int64"
      ]
     },
     "execution_count": 184,
     "metadata": {},
     "output_type": "execute_result"
    }
   ],
   "source": [
    "plot_df = df.groupby(by=\"Variations\").count()[\"Visitors\"]\n",
    "# df.groupby(by=\"Variations\").count()[\"Date\"].plot(kind=\"pie\", subplots=True, autopct=True)\n",
    "plot_df"
   ]
  }
 ],
 "metadata": {
  "kernelspec": {
   "display_name": "Python 3",
   "language": "python",
   "name": "python3"
  },
  "language_info": {
   "codemirror_mode": {
    "name": "ipython",
    "version": 3
   },
   "file_extension": ".py",
   "mimetype": "text/x-python",
   "name": "python",
   "nbconvert_exporter": "python",
   "pygments_lexer": "ipython3",
   "version": "3.11.1"
  },
  "orig_nbformat": 4
 },
 "nbformat": 4,
 "nbformat_minor": 2
}
