{
 "cells": [
  {
   "attachments": {},
   "cell_type": "markdown",
   "metadata": {},
   "source": [
    "# Part 0- Critical thinking\n"
   ]
  },
  {
   "attachments": {},
   "cell_type": "markdown",
   "metadata": {},
   "source": [
    "### Problem Statement:\n",
    "##### How many people would buy the premium face mask which is scientifically proven to be better than N95 of around 1000.rs in India? Explain how did you conclude this answer and what was your approach towards this question in brief\n",
    "\n",
    "---\n",
    "\n",
    "Total population of India is 1.3 billion with total of 28 states and 8 Union territories. Considering that only few states and UT have to compulsary wear masks, the number of people wearing masks outside their home is quite less. The average cost of a normal mask is 10.rs which is significantly less than the cost of premium mask. Hence most of the population in rural area will prefer to/ afford to buy normal mask instead of premium. Rural population and Urban population has a split of approx 70:30 ratio i.e 900 million rural population and 500 million urban population.  \n",
    "Therefore, the main number of focus here is 500 million i.e 17 million average population per state/UT. If 8 states/UT have mask compulsion then we have potential customer population of 17*8= 136 million. Out of remaining 365 million people, 60% are not interested in wearing a mask due to reason like work from home, no illness/symptoms of flu or covid, feel uncomfortable and difficult to breathe in a mask, travelling in a private car, etc. Therefore, only 140 million potential customers remain make a total of 140+136= approx 280 million of potential customers.  \n",
    "\n",
    "Now average earning per month in Urban areas is around 25000.rs and approx 40% people fall below this category, leaving us with 170 million people. Again considering that 30% people are high earners and prefer to buy premium mask and only half of 70% moderate earners wish to buy premium mask we have total number of people that would buy a premium mask to be:  \n",
    "(170x30%)+((170x70%)/2) = 51+60 = 111 million people."
   ]
  }
 ],
 "metadata": {
  "language_info": {
   "name": "python"
  },
  "orig_nbformat": 4
 },
 "nbformat": 4,
 "nbformat_minor": 2
}
